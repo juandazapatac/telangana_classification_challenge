{
 "cells": [
  {
   "cell_type": "markdown",
   "metadata": {},
   "source": [
    "# Feature Engineering\n",
    "According to the results obtained during the exploratory data analysis performed, the dataset is manipulated in order to keep only those features that may be useful for the intended purpose.\n",
    "\n",
    "The next features are removed from the dataset:\n",
    "- FarmID\n",
    "- State\n",
    "- District\n",
    "- Sub-District\n",
    "- HDate\n",
    "- CNext\n",
    "- ExpYield\n",
    "- geometry\n",
    "- CHeight"
   ]
  },
  {
   "cell_type": "code",
   "execution_count": 91,
   "metadata": {},
   "outputs": [],
   "source": [
    "import pandas as pd\n",
    "import numpy as np\n",
    "from sklearn.preprocessing import LabelEncoder\n",
    "from sklearn.preprocessing import StandardScaler"
   ]
  },
  {
   "cell_type": "code",
   "execution_count": 92,
   "metadata": {},
   "outputs": [],
   "source": [
    "df=pd.read_csv('../data/Train.csv')\n",
    "df.drop(columns=['FarmID','State','District','Sub-District','HDate','CNext','ExpYield','geometry','CHeight'],inplace=True)"
   ]
  },
  {
   "cell_type": "markdown",
   "metadata": {},
   "source": [
    "The SDate is manipulated to keep only the month data:"
   ]
  },
  {
   "cell_type": "code",
   "execution_count": 93,
   "metadata": {},
   "outputs": [],
   "source": [
    "df['SMonth']=df['SDate'].map(lambda x:x[-7:-5])\n",
    "df.drop(columns='SDate',inplace=True)"
   ]
  },
  {
   "cell_type": "markdown",
   "metadata": {},
   "source": [
    "The categorical variables are converted to numerical through the label-enconding technique. This is chosen for simplicity but it is important to take into account that this is better suited for ordinal variables which is not the case."
   ]
  },
  {
   "cell_type": "code",
   "execution_count": 94,
   "metadata": {},
   "outputs": [],
   "source": [
    "label_encoder1=LabelEncoder()\n",
    "label_encoder2=LabelEncoder()\n",
    "label_encoder3=LabelEncoder()\n",
    "label_encoder4=LabelEncoder()\n",
    "label_encoder5=LabelEncoder()\n",
    "label_encoder6=LabelEncoder()\n",
    "label_encoder7=LabelEncoder()\n",
    "df['y']=label_encoder1.fit_transform(df.category.values)\n",
    "df['crop']=label_encoder2.fit_transform(df.Crop.values)\n",
    "df['clast']=label_encoder3.fit_transform(df.CLast.values)\n",
    "df['ctransp']=label_encoder4.fit_transform(df.CTransp.values)\n",
    "df['irritype']=label_encoder5.fit_transform(df.IrriType.values)\n",
    "df['irrisource']=label_encoder6.fit_transform(df.IrriSource.values)\n",
    "df['season']=label_encoder7.fit_transform(df.Season.values)\n",
    "df.drop(columns=['category', 'Crop','CLast','CTransp', 'IrriType','IrriSource','Season'],inplace=True)"
   ]
  },
  {
   "cell_type": "markdown",
   "metadata": {},
   "source": [
    "On the other hand, numerical variables are scaled as follows:"
   ]
  },
  {
   "cell_type": "code",
   "execution_count": 95,
   "metadata": {},
   "outputs": [],
   "source": [
    "scaler1 = StandardScaler()\n",
    "scaler2 = StandardScaler()\n",
    "df['crop_covered_area']=scaler1.fit_transform(pd.DataFrame(df.CropCoveredArea))\n",
    "df['water_cov']=scaler2.fit_transform(pd.DataFrame(df.WaterCov))\n",
    "df.drop(columns=['CropCoveredArea','WaterCov'],inplace=True)\n",
    "df.sort_index(axis='columns',inplace=True)"
   ]
  },
  {
   "cell_type": "markdown",
   "metadata": {},
   "source": [
    "The dataset ready for the first training is:"
   ]
  },
  {
   "cell_type": "code",
   "execution_count": 96,
   "metadata": {},
   "outputs": [],
   "source": [
    "df.to_csv('../data/train1.csv',index=False)"
   ]
  },
  {
   "cell_type": "markdown",
   "metadata": {},
   "source": [
    "## Test Data Preparation"
   ]
  },
  {
   "cell_type": "code",
   "execution_count": 97,
   "metadata": {},
   "outputs": [],
   "source": [
    "df_test=pd.read_csv('../data/Test.csv')\n",
    "# Not used columns\n",
    "df_test.drop(columns=['FarmID','State','District','Sub-District','HDate','CNext','ExpYield','geometry','CHeight'],inplace=True)\n",
    "# Date to Month\n",
    "df_test['SMonth']=df_test['SDate'].map(lambda x:x[-7:-5])\n",
    "df_test.drop(columns='SDate',inplace=True)\n",
    "# Label Encoding\n",
    "df_test['crop']=label_encoder2.transform(df_test.Crop.values)\n",
    "df_test['clast']=label_encoder3.transform(df_test.CLast.values)\n",
    "df_test['ctransp']=label_encoder4.transform(df_test.CTransp.values)\n",
    "df_test['irritype']=label_encoder5.transform(df_test.IrriType.values)\n",
    "df_test['irrisource']=label_encoder6.transform(df_test.IrriSource.values)\n",
    "df_test['season']=label_encoder7.transform(df_test.Season.values)\n",
    "df_test.drop(columns=['Crop','CLast','CTransp', 'IrriType','IrriSource','Season'],inplace=True)\n",
    "# Scaling\n",
    "df_test['crop_covered_area']=scaler1.transform(pd.DataFrame(df_test.CropCoveredArea))\n",
    "df_test['water_cov']=scaler2.transform(pd.DataFrame(df_test.WaterCov))\n",
    "df_test.drop(columns=['CropCoveredArea','WaterCov'],inplace=True)\n",
    "# Sorting columns\n",
    "df_test.sort_index(axis='columns',inplace=True)"
   ]
  },
  {
   "cell_type": "markdown",
   "metadata": {},
   "source": [
    "Export it"
   ]
  },
  {
   "cell_type": "code",
   "execution_count": 105,
   "metadata": {},
   "outputs": [
    {
     "name": "stdout",
     "output_type": "stream",
     "text": [
      "['Diseased' 'Healthy' 'Pests' 'Stressed']\n",
      "[0 1 2 3]\n"
     ]
    }
   ],
   "source": [
    "print(label_encoder1.classes_)\n",
    "print(label_encoder1.transform(label_encoder1.classes_))"
   ]
  },
  {
   "cell_type": "code",
   "execution_count": 99,
   "metadata": {},
   "outputs": [],
   "source": [
    "df_test.to_csv('../data/test1.csv',index=False)"
   ]
  },
  {
   "cell_type": "markdown",
   "metadata": {},
   "source": [
    "## Sample Submission"
   ]
  },
  {
   "cell_type": "code",
   "execution_count": 138,
   "metadata": {},
   "outputs": [],
   "source": [
    "submission=pd.read_csv('../data/Test.csv')\n",
    "results=pd.read_csv('../data/ypred2.csv')\n",
    "results=label_encoder1.inverse_transform(results['0'].values)"
   ]
  },
  {
   "cell_type": "code",
   "execution_count": 141,
   "metadata": {},
   "outputs": [],
   "source": [
    "submission=pd.concat([submission.FarmID,pd.Series(results)],axis=1)"
   ]
  },
  {
   "cell_type": "code",
   "execution_count": 143,
   "metadata": {},
   "outputs": [],
   "source": [
    "submission.columns=['ID','Target']"
   ]
  },
  {
   "cell_type": "code",
   "execution_count": 145,
   "metadata": {},
   "outputs": [],
   "source": [
    "submission.to_csv('../data/submission1.csv',index=False)"
   ]
  }
 ],
 "metadata": {
  "kernelspec": {
   "display_name": "pydata-book",
   "language": "python",
   "name": "python3"
  },
  "language_info": {
   "codemirror_mode": {
    "name": "ipython",
    "version": 3
   },
   "file_extension": ".py",
   "mimetype": "text/x-python",
   "name": "python",
   "nbconvert_exporter": "python",
   "pygments_lexer": "ipython3",
   "version": "3.10.12"
  }
 },
 "nbformat": 4,
 "nbformat_minor": 2
}
