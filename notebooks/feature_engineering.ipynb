{
 "cells": [
  {
   "cell_type": "markdown",
   "metadata": {},
   "source": [
    "# Feature Engineering\n",
    "According to the results obtained during the exploratory data analysis performed, the dataset is manipulated in order to keep only those features that may be useful for the intended purpose.\n",
    "\n",
    "The next features are removed from the dataset:\n",
    "- FarmID\n",
    "- State\n",
    "- District\n",
    "- Sub-District\n",
    "- HDate\n",
    "- CNext\n",
    "- ExpYield\n",
    "- geometry\n",
    "- CHeight"
   ]
  },
  {
   "cell_type": "code",
   "execution_count": 24,
   "metadata": {},
   "outputs": [],
   "source": [
    "import pandas as pd\n",
    "import numpy as np\n",
    "from sklearn.preprocessing import LabelEncoder\n",
    "from sklearn.preprocessing import StandardScaler"
   ]
  },
  {
   "cell_type": "code",
   "execution_count": 25,
   "metadata": {},
   "outputs": [],
   "source": [
    "df=pd.read_csv('../data/Train.csv')\n",
    "df.drop(columns=['FarmID','State','District','Sub-District','HDate','CNext','ExpYield','geometry','CHeight'],inplace=True)"
   ]
  },
  {
   "cell_type": "markdown",
   "metadata": {},
   "source": [
    "The SDate is manipulated to keep only the month data:"
   ]
  },
  {
   "cell_type": "code",
   "execution_count": 26,
   "metadata": {},
   "outputs": [],
   "source": [
    "df['SMonth']=df['SDate'].map(lambda x:x[-7:-5])\n",
    "df.drop(columns='SDate',inplace=True)"
   ]
  },
  {
   "cell_type": "markdown",
   "metadata": {},
   "source": [
    "The categorical variables are converted to numerical through the label-enconding technique. This is chosen for simplicity but it is important to take into account that this is better suited for ordinal variables which is not the case."
   ]
  },
  {
   "cell_type": "code",
   "execution_count": 27,
   "metadata": {},
   "outputs": [],
   "source": [
    "label_encoder=LabelEncoder()\n",
    "df['y']=label_encoder.fit_transform(df.category.values)\n",
    "df['crop']=label_encoder.fit_transform(df.Crop.values)\n",
    "df['clast']=label_encoder.fit_transform(df.CLast.values)\n",
    "df['ctransp']=label_encoder.fit_transform(df.CTransp.values)\n",
    "df['irritype']=label_encoder.fit_transform(df.IrriType.values)\n",
    "df['irrisource']=label_encoder.fit_transform(df.IrriSource.values)\n",
    "df['season']=label_encoder.fit_transform(df.Season.values)\n",
    "df.drop(columns=['category', 'Crop','CLast','CTransp', 'IrriType','IrriSource','Season'],inplace=True)"
   ]
  },
  {
   "cell_type": "markdown",
   "metadata": {},
   "source": [
    "On the other hand, numerical variables are scaled as follows:"
   ]
  },
  {
   "cell_type": "code",
   "execution_count": 28,
   "metadata": {},
   "outputs": [],
   "source": [
    "scaler = StandardScaler()\n",
    "df['crop_covered_area']=scaler.fit_transform(pd.DataFrame(df.CropCoveredArea))\n",
    "df['water_cov']=scaler.fit_transform(pd.DataFrame(df.WaterCov))\n",
    "df.drop(columns=['CropCoveredArea','WaterCov'],inplace=True)\n"
   ]
  },
  {
   "cell_type": "markdown",
   "metadata": {},
   "source": [
    "The dataset ready for the first training is:"
   ]
  },
  {
   "cell_type": "code",
   "execution_count": 21,
   "metadata": {},
   "outputs": [
    {
     "data": {
      "text/html": [
       "<div>\n",
       "<style scoped>\n",
       "    .dataframe tbody tr th:only-of-type {\n",
       "        vertical-align: middle;\n",
       "    }\n",
       "\n",
       "    .dataframe tbody tr th {\n",
       "        vertical-align: top;\n",
       "    }\n",
       "\n",
       "    .dataframe thead th {\n",
       "        text-align: right;\n",
       "    }\n",
       "</style>\n",
       "<table border=\"1\" class=\"dataframe\">\n",
       "  <thead>\n",
       "    <tr style=\"text-align: right;\">\n",
       "      <th></th>\n",
       "      <th>CropCoveredArea</th>\n",
       "      <th>IrriCount</th>\n",
       "      <th>WaterCov</th>\n",
       "      <th>SMonth</th>\n",
       "      <th>y</th>\n",
       "      <th>crop</th>\n",
       "      <th>clast</th>\n",
       "      <th>ctransp</th>\n",
       "      <th>irritype</th>\n",
       "      <th>irrisource</th>\n",
       "      <th>season</th>\n",
       "      <th>crop_covered_area</th>\n",
       "    </tr>\n",
       "  </thead>\n",
       "  <tbody>\n",
       "    <tr>\n",
       "      <th>0</th>\n",
       "      <td>97</td>\n",
       "      <td>4</td>\n",
       "      <td>87</td>\n",
       "      <td>11</td>\n",
       "      <td>1</td>\n",
       "      <td>5</td>\n",
       "      <td>0</td>\n",
       "      <td>3</td>\n",
       "      <td>1</td>\n",
       "      <td>1</td>\n",
       "      <td>1</td>\n",
       "      <td>1.362941</td>\n",
       "    </tr>\n",
       "    <tr>\n",
       "      <th>1</th>\n",
       "      <td>82</td>\n",
       "      <td>5</td>\n",
       "      <td>94</td>\n",
       "      <td>11</td>\n",
       "      <td>1</td>\n",
       "      <td>5</td>\n",
       "      <td>0</td>\n",
       "      <td>3</td>\n",
       "      <td>1</td>\n",
       "      <td>0</td>\n",
       "      <td>1</td>\n",
       "      <td>0.363057</td>\n",
       "    </tr>\n",
       "    <tr>\n",
       "      <th>2</th>\n",
       "      <td>92</td>\n",
       "      <td>3</td>\n",
       "      <td>99</td>\n",
       "      <td>12</td>\n",
       "      <td>1</td>\n",
       "      <td>5</td>\n",
       "      <td>0</td>\n",
       "      <td>3</td>\n",
       "      <td>1</td>\n",
       "      <td>0</td>\n",
       "      <td>1</td>\n",
       "      <td>1.029647</td>\n",
       "    </tr>\n",
       "    <tr>\n",
       "      <th>3</th>\n",
       "      <td>91</td>\n",
       "      <td>5</td>\n",
       "      <td>92</td>\n",
       "      <td>02</td>\n",
       "      <td>0</td>\n",
       "      <td>5</td>\n",
       "      <td>0</td>\n",
       "      <td>3</td>\n",
       "      <td>1</td>\n",
       "      <td>0</td>\n",
       "      <td>1</td>\n",
       "      <td>0.962988</td>\n",
       "    </tr>\n",
       "    <tr>\n",
       "      <th>4</th>\n",
       "      <td>94</td>\n",
       "      <td>5</td>\n",
       "      <td>97</td>\n",
       "      <td>12</td>\n",
       "      <td>0</td>\n",
       "      <td>5</td>\n",
       "      <td>0</td>\n",
       "      <td>3</td>\n",
       "      <td>1</td>\n",
       "      <td>0</td>\n",
       "      <td>1</td>\n",
       "      <td>1.162964</td>\n",
       "    </tr>\n",
       "  </tbody>\n",
       "</table>\n",
       "</div>"
      ],
      "text/plain": [
       "   CropCoveredArea  IrriCount  WaterCov SMonth  y  crop  clast  ctransp  \\\n",
       "0               97          4        87     11  1     5      0        3   \n",
       "1               82          5        94     11  1     5      0        3   \n",
       "2               92          3        99     12  1     5      0        3   \n",
       "3               91          5        92     02  0     5      0        3   \n",
       "4               94          5        97     12  0     5      0        3   \n",
       "\n",
       "   irritype  irrisource  season  crop_covered_area  \n",
       "0         1           1       1           1.362941  \n",
       "1         1           0       1           0.363057  \n",
       "2         1           0       1           1.029647  \n",
       "3         1           0       1           0.962988  \n",
       "4         1           0       1           1.162964  "
      ]
     },
     "execution_count": 21,
     "metadata": {},
     "output_type": "execute_result"
    }
   ],
   "source": [
    "df.head()"
   ]
  }
 ],
 "metadata": {
  "kernelspec": {
   "display_name": "pydata-book",
   "language": "python",
   "name": "python3"
  },
  "language_info": {
   "codemirror_mode": {
    "name": "ipython",
    "version": 3
   },
   "file_extension": ".py",
   "mimetype": "text/x-python",
   "name": "python",
   "nbconvert_exporter": "python",
   "pygments_lexer": "ipython3",
   "version": "3.10.12"
  }
 },
 "nbformat": 4,
 "nbformat_minor": 2
}
