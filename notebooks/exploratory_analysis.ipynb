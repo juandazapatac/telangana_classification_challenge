{
 "cells": [
  {
   "cell_type": "markdown",
   "metadata": {},
   "source": [
    "# Exploratory Data Analysis (EDA)\n",
    "The objective of this notebook is to perform an exploratory data analysis over the dataset provided by the institutions leading the Telangana Classification Challenge in order to better understand its characteristics.  "
   ]
  },
  {
   "cell_type": "markdown",
   "metadata": {},
   "source": [
    "## Libraries\n",
    "The first step is to import the required Python libraries."
   ]
  },
  {
   "cell_type": "code",
   "execution_count": 14,
   "metadata": {},
   "outputs": [],
   "source": [
    "import numpy as np\n",
    "import pandas as pd\n",
    "import matplotlib.pyplot as plt"
   ]
  },
  {
   "cell_type": "markdown",
   "metadata": {},
   "source": [
    "## Data Loading"
   ]
  },
  {
   "cell_type": "code",
   "execution_count": 3,
   "metadata": {},
   "outputs": [],
   "source": [
    "df=pd.read_csv(\"../data/Train.csv\")"
   ]
  },
  {
   "cell_type": "markdown",
   "metadata": {},
   "source": [
    "# Data Overview"
   ]
  },
  {
   "cell_type": "code",
   "execution_count": 4,
   "metadata": {},
   "outputs": [
    {
     "name": "stdout",
     "output_type": "stream",
     "text": [
      "The dataset has 8775 rows and 20 attributes\n",
      "The target feature is stored in the column \"category\" and it has the next values: ['Healthy' 'Diseased' 'Pests' 'Stressed']\n"
     ]
    }
   ],
   "source": [
    "#Dataset size\n",
    "print(\"The dataset has\",df.shape[0],\"rows and\",df.shape[1],\"attributes\")\n",
    "#Target feature\n",
    "print(\"The target feature is stored in the column \\\"category\\\" and it has the next values:\",df.category.unique())"
   ]
  },
  {
   "cell_type": "code",
   "execution_count": 5,
   "metadata": {},
   "outputs": [
    {
     "data": {
      "text/html": [
       "<div>\n",
       "<style scoped>\n",
       "    .dataframe tbody tr th:only-of-type {\n",
       "        vertical-align: middle;\n",
       "    }\n",
       "\n",
       "    .dataframe tbody tr th {\n",
       "        vertical-align: top;\n",
       "    }\n",
       "\n",
       "    .dataframe thead th {\n",
       "        text-align: right;\n",
       "    }\n",
       "</style>\n",
       "<table border=\"1\" class=\"dataframe\">\n",
       "  <thead>\n",
       "    <tr style=\"text-align: right;\">\n",
       "      <th></th>\n",
       "      <th>FarmID</th>\n",
       "      <th>category</th>\n",
       "      <th>Crop</th>\n",
       "      <th>State</th>\n",
       "      <th>District</th>\n",
       "      <th>Sub-District</th>\n",
       "      <th>SDate</th>\n",
       "      <th>HDate</th>\n",
       "      <th>CropCoveredArea</th>\n",
       "      <th>CHeight</th>\n",
       "      <th>CNext</th>\n",
       "      <th>CLast</th>\n",
       "      <th>CTransp</th>\n",
       "      <th>IrriType</th>\n",
       "      <th>IrriSource</th>\n",
       "      <th>IrriCount</th>\n",
       "      <th>WaterCov</th>\n",
       "      <th>ExpYield</th>\n",
       "      <th>Season</th>\n",
       "      <th>geometry</th>\n",
       "    </tr>\n",
       "  </thead>\n",
       "  <tbody>\n",
       "    <tr>\n",
       "      <th>0</th>\n",
       "      <td>1326576</td>\n",
       "      <td>Healthy</td>\n",
       "      <td>Paddy</td>\n",
       "      <td>Telangana</td>\n",
       "      <td>Medak</td>\n",
       "      <td>Kulcharam</td>\n",
       "      <td>25-11-2023</td>\n",
       "      <td>14-04-2024</td>\n",
       "      <td>97</td>\n",
       "      <td>54</td>\n",
       "      <td>Pea</td>\n",
       "      <td>Lentil</td>\n",
       "      <td>Transplanting</td>\n",
       "      <td>Flood</td>\n",
       "      <td>Groundwater</td>\n",
       "      <td>4</td>\n",
       "      <td>87</td>\n",
       "      <td>17</td>\n",
       "      <td>Rabi</td>\n",
       "      <td>POLYGON ((78.18143246076087 17.978884603571068...</td>\n",
       "    </tr>\n",
       "    <tr>\n",
       "      <th>1</th>\n",
       "      <td>1326577</td>\n",
       "      <td>Healthy</td>\n",
       "      <td>Paddy</td>\n",
       "      <td>Telangana</td>\n",
       "      <td>Medak</td>\n",
       "      <td>Kulcharam</td>\n",
       "      <td>13-11-2023</td>\n",
       "      <td>26-04-2024</td>\n",
       "      <td>82</td>\n",
       "      <td>58</td>\n",
       "      <td>Pea</td>\n",
       "      <td>Lentil</td>\n",
       "      <td>Transplanting</td>\n",
       "      <td>Flood</td>\n",
       "      <td>Canal</td>\n",
       "      <td>5</td>\n",
       "      <td>94</td>\n",
       "      <td>15</td>\n",
       "      <td>Rabi</td>\n",
       "      <td>POLYGON ((78.17545177547453 17.981074445477304...</td>\n",
       "    </tr>\n",
       "    <tr>\n",
       "      <th>2</th>\n",
       "      <td>1326578</td>\n",
       "      <td>Healthy</td>\n",
       "      <td>Paddy</td>\n",
       "      <td>Telangana</td>\n",
       "      <td>Medak</td>\n",
       "      <td>Kulcharam</td>\n",
       "      <td>19-12-2023</td>\n",
       "      <td>28-04-2024</td>\n",
       "      <td>92</td>\n",
       "      <td>91</td>\n",
       "      <td>Pea</td>\n",
       "      <td>Lentil</td>\n",
       "      <td>Transplanting</td>\n",
       "      <td>Flood</td>\n",
       "      <td>Canal</td>\n",
       "      <td>3</td>\n",
       "      <td>99</td>\n",
       "      <td>20</td>\n",
       "      <td>Rabi</td>\n",
       "      <td>POLYGON ((78.16914224770792 17.976212849967755...</td>\n",
       "    </tr>\n",
       "    <tr>\n",
       "      <th>3</th>\n",
       "      <td>1331836</td>\n",
       "      <td>Diseased</td>\n",
       "      <td>Paddy</td>\n",
       "      <td>Telangana</td>\n",
       "      <td>Medak</td>\n",
       "      <td>Kulcharam</td>\n",
       "      <td>11-02-2023</td>\n",
       "      <td>04-11-2024</td>\n",
       "      <td>91</td>\n",
       "      <td>52</td>\n",
       "      <td>Pea</td>\n",
       "      <td>Lentil</td>\n",
       "      <td>Transplanting</td>\n",
       "      <td>Flood</td>\n",
       "      <td>Canal</td>\n",
       "      <td>5</td>\n",
       "      <td>92</td>\n",
       "      <td>16</td>\n",
       "      <td>Rabi</td>\n",
       "      <td>POLYGON ((78.16889103841902 17.974608186550842...</td>\n",
       "    </tr>\n",
       "    <tr>\n",
       "      <th>4</th>\n",
       "      <td>1326579</td>\n",
       "      <td>Diseased</td>\n",
       "      <td>Paddy</td>\n",
       "      <td>Telangana</td>\n",
       "      <td>Medak</td>\n",
       "      <td>Kulcharam</td>\n",
       "      <td>12-12-2023</td>\n",
       "      <td>19-05-2024</td>\n",
       "      <td>94</td>\n",
       "      <td>55</td>\n",
       "      <td>Pea</td>\n",
       "      <td>Lentil</td>\n",
       "      <td>Transplanting</td>\n",
       "      <td>Flood</td>\n",
       "      <td>Canal</td>\n",
       "      <td>5</td>\n",
       "      <td>97</td>\n",
       "      <td>20</td>\n",
       "      <td>Rabi</td>\n",
       "      <td>POLYGON ((78.17264452998072 17.969251496349454...</td>\n",
       "    </tr>\n",
       "  </tbody>\n",
       "</table>\n",
       "</div>"
      ],
      "text/plain": [
       "    FarmID  category   Crop      State District Sub-District       SDate  \\\n",
       "0  1326576   Healthy  Paddy  Telangana    Medak    Kulcharam  25-11-2023   \n",
       "1  1326577   Healthy  Paddy  Telangana    Medak    Kulcharam  13-11-2023   \n",
       "2  1326578   Healthy  Paddy  Telangana    Medak    Kulcharam  19-12-2023   \n",
       "3  1331836  Diseased  Paddy  Telangana    Medak    Kulcharam  11-02-2023   \n",
       "4  1326579  Diseased  Paddy  Telangana    Medak    Kulcharam  12-12-2023   \n",
       "\n",
       "        HDate  CropCoveredArea  CHeight CNext   CLast        CTransp IrriType  \\\n",
       "0  14-04-2024               97       54   Pea  Lentil  Transplanting    Flood   \n",
       "1  26-04-2024               82       58   Pea  Lentil  Transplanting    Flood   \n",
       "2  28-04-2024               92       91   Pea  Lentil  Transplanting    Flood   \n",
       "3  04-11-2024               91       52   Pea  Lentil  Transplanting    Flood   \n",
       "4  19-05-2024               94       55   Pea  Lentil  Transplanting    Flood   \n",
       "\n",
       "    IrriSource  IrriCount  WaterCov  ExpYield Season  \\\n",
       "0  Groundwater          4        87        17   Rabi   \n",
       "1        Canal          5        94        15   Rabi   \n",
       "2        Canal          3        99        20   Rabi   \n",
       "3        Canal          5        92        16   Rabi   \n",
       "4        Canal          5        97        20   Rabi   \n",
       "\n",
       "                                            geometry  \n",
       "0  POLYGON ((78.18143246076087 17.978884603571068...  \n",
       "1  POLYGON ((78.17545177547453 17.981074445477304...  \n",
       "2  POLYGON ((78.16914224770792 17.976212849967755...  \n",
       "3  POLYGON ((78.16889103841902 17.974608186550842...  \n",
       "4  POLYGON ((78.17264452998072 17.969251496349454...  "
      ]
     },
     "execution_count": 5,
     "metadata": {},
     "output_type": "execute_result"
    }
   ],
   "source": [
    "# Taking a look\n",
    "df.head()"
   ]
  },
  {
   "cell_type": "code",
   "execution_count": 6,
   "metadata": {},
   "outputs": [
    {
     "name": "stdout",
     "output_type": "stream",
     "text": [
      "<class 'pandas.core.frame.DataFrame'>\n",
      "RangeIndex: 8775 entries, 0 to 8774\n",
      "Data columns (total 20 columns):\n",
      " #   Column           Non-Null Count  Dtype \n",
      "---  ------           --------------  ----- \n",
      " 0   FarmID           8775 non-null   int64 \n",
      " 1   category         8775 non-null   object\n",
      " 2   Crop             8775 non-null   object\n",
      " 3   State            8775 non-null   object\n",
      " 4   District         8775 non-null   object\n",
      " 5   Sub-District     8775 non-null   object\n",
      " 6   SDate            8775 non-null   object\n",
      " 7   HDate            8775 non-null   object\n",
      " 8   CropCoveredArea  8775 non-null   int64 \n",
      " 9   CHeight          8775 non-null   int64 \n",
      " 10  CNext            8775 non-null   object\n",
      " 11  CLast            8775 non-null   object\n",
      " 12  CTransp          8775 non-null   object\n",
      " 13  IrriType         8775 non-null   object\n",
      " 14  IrriSource       8775 non-null   object\n",
      " 15  IrriCount        8775 non-null   int64 \n",
      " 16  WaterCov         8775 non-null   int64 \n",
      " 17  ExpYield         8775 non-null   int64 \n",
      " 18  Season           8775 non-null   object\n",
      " 19  geometry         8775 non-null   object\n",
      "dtypes: int64(6), object(14)\n",
      "memory usage: 1.3+ MB\n"
     ]
    }
   ],
   "source": [
    "# General information\n",
    "df.info()"
   ]
  },
  {
   "cell_type": "markdown",
   "metadata": {},
   "source": [
    "**Observations**\n",
    "From this quick overview it is possible to observe that:\n",
    "1. There are not missing values in the provided dataset. \n",
    "2. There are 19 attributes. Some of them such as the Farm ID may not be related to the studied phenomenon, which motivates a deeper analysis of each variable.\n",
    "3. The target feature has 4 possible values to predict which means a multiclass classification algorithm should be developed."
   ]
  },
  {
   "cell_type": "markdown",
   "metadata": {},
   "source": [
    "# Univariate Analysis"
   ]
  },
  {
   "cell_type": "code",
   "execution_count": 36,
   "metadata": {},
   "outputs": [
    {
     "data": {
      "image/png": "[encoded data removed]",
      "text/plain": [
       "<Figure size 640x480 with 1 Axes>"
      ]
     },
     "metadata": {},
     "output_type": "display_data"
    }
   ],
   "source": [
    "# Target Variable (Category)\n",
    "fig1=plt.figure()\n",
    "ax1=fig1.add_subplot()\n",
    "ax1.pie(df.category.value_counts().values,labels=list(df.category.value_counts().index),autopct='%1.1f%%');\n",
    "ax1.set_title(\"Category Pie Chart\");"
   ]
  },
  {
   "cell_type": "code",
   "execution_count": 30,
   "metadata": {},
   "outputs": [
    {
     "data": {
      "text/plain": [
       "['Healthy', 'Diseased', 'Pests', 'Stressed']"
      ]
     },
     "execution_count": 30,
     "metadata": {},
     "output_type": "execute_result"
    }
   ],
   "source": [
    "list(df.category.value_counts().index)"
   ]
  },
  {
   "cell_type": "code",
   "execution_count": 31,
   "metadata": {},
   "outputs": [
    {
     "data": {
      "text/html": [
       "<div>\n",
       "<style scoped>\n",
       "    .dataframe tbody tr th:only-of-type {\n",
       "        vertical-align: middle;\n",
       "    }\n",
       "\n",
       "    .dataframe tbody tr th {\n",
       "        vertical-align: top;\n",
       "    }\n",
       "\n",
       "    .dataframe thead th {\n",
       "        text-align: right;\n",
       "    }\n",
       "</style>\n",
       "<table border=\"1\" class=\"dataframe\">\n",
       "  <thead>\n",
       "    <tr style=\"text-align: right;\">\n",
       "      <th></th>\n",
       "      <th>FarmID</th>\n",
       "      <th>CropCoveredArea</th>\n",
       "      <th>CHeight</th>\n",
       "      <th>IrriCount</th>\n",
       "      <th>WaterCov</th>\n",
       "      <th>ExpYield</th>\n",
       "    </tr>\n",
       "  </thead>\n",
       "  <tbody>\n",
       "    <tr>\n",
       "      <th>count</th>\n",
       "      <td>8.775000e+03</td>\n",
       "      <td>8775.000000</td>\n",
       "      <td>8775.000000</td>\n",
       "      <td>8775.000000</td>\n",
       "      <td>8775.000000</td>\n",
       "      <td>8775.000000</td>\n",
       "    </tr>\n",
       "    <tr>\n",
       "      <th>mean</th>\n",
       "      <td>1.252339e+06</td>\n",
       "      <td>76.553504</td>\n",
       "      <td>87.707806</td>\n",
       "      <td>3.550541</td>\n",
       "      <td>57.150199</td>\n",
       "      <td>15.541197</td>\n",
       "    </tr>\n",
       "    <tr>\n",
       "      <th>std</th>\n",
       "      <td>2.447332e+05</td>\n",
       "      <td>15.002601</td>\n",
       "      <td>49.307300</td>\n",
       "      <td>1.391602</td>\n",
       "      <td>22.330291</td>\n",
       "      <td>5.933997</td>\n",
       "    </tr>\n",
       "    <tr>\n",
       "      <th>min</th>\n",
       "      <td>2.780000e+02</td>\n",
       "      <td>40.000000</td>\n",
       "      <td>20.000000</td>\n",
       "      <td>1.000000</td>\n",
       "      <td>20.000000</td>\n",
       "      <td>5.000000</td>\n",
       "    </tr>\n",
       "    <tr>\n",
       "      <th>25%</th>\n",
       "      <td>1.314020e+06</td>\n",
       "      <td>65.000000</td>\n",
       "      <td>57.000000</td>\n",
       "      <td>2.000000</td>\n",
       "      <td>42.000000</td>\n",
       "      <td>11.000000</td>\n",
       "    </tr>\n",
       "    <tr>\n",
       "      <th>50%</th>\n",
       "      <td>1.324434e+06</td>\n",
       "      <td>78.000000</td>\n",
       "      <td>76.000000</td>\n",
       "      <td>4.000000</td>\n",
       "      <td>51.000000</td>\n",
       "      <td>15.000000</td>\n",
       "    </tr>\n",
       "    <tr>\n",
       "      <th>75%</th>\n",
       "      <td>1.329228e+06</td>\n",
       "      <td>89.000000</td>\n",
       "      <td>100.000000</td>\n",
       "      <td>5.000000</td>\n",
       "      <td>82.000000</td>\n",
       "      <td>20.000000</td>\n",
       "    </tr>\n",
       "    <tr>\n",
       "      <th>max</th>\n",
       "      <td>1.332157e+06</td>\n",
       "      <td>100.000000</td>\n",
       "      <td>250.000000</td>\n",
       "      <td>6.000000</td>\n",
       "      <td>100.000000</td>\n",
       "      <td>30.000000</td>\n",
       "    </tr>\n",
       "  </tbody>\n",
       "</table>\n",
       "</div>"
      ],
      "text/plain": [
       "             FarmID  CropCoveredArea      CHeight    IrriCount     WaterCov  \\\n",
       "count  8.775000e+03      8775.000000  8775.000000  8775.000000  8775.000000   \n",
       "mean   1.252339e+06        76.553504    87.707806     3.550541    57.150199   \n",
       "std    2.447332e+05        15.002601    49.307300     1.391602    22.330291   \n",
       "min    2.780000e+02        40.000000    20.000000     1.000000    20.000000   \n",
       "25%    1.314020e+06        65.000000    57.000000     2.000000    42.000000   \n",
       "50%    1.324434e+06        78.000000    76.000000     4.000000    51.000000   \n",
       "75%    1.329228e+06        89.000000   100.000000     5.000000    82.000000   \n",
       "max    1.332157e+06       100.000000   250.000000     6.000000   100.000000   \n",
       "\n",
       "          ExpYield  \n",
       "count  8775.000000  \n",
       "mean     15.541197  \n",
       "std       5.933997  \n",
       "min       5.000000  \n",
       "25%      11.000000  \n",
       "50%      15.000000  \n",
       "75%      20.000000  \n",
       "max      30.000000  "
      ]
     },
     "execution_count": 31,
     "metadata": {},
     "output_type": "execute_result"
    }
   ],
   "source": [
    "#Numerical features description:\n",
    "df.describe()"
   ]
  },
  {
   "cell_type": "markdown",
   "metadata": {},
   "source": [
    "# Questions\n",
    "1. How to evaluate the independence of the dataset points?\n",
    "2. Qué hacer si estoy seguro que no hay una relación física con el fenómeno, más no estoy seguro de que así sea con matemáticamente?"
   ]
  }
 ],
 "metadata": {
  "kernelspec": {
   "display_name": "pydata-book",
   "language": "python",
   "name": "python3"
  },
  "language_info": {
   "codemirror_mode": {
    "name": "ipython",
    "version": 3
   },
   "file_extension": ".py",
   "mimetype": "text/x-python",
   "name": "python",
   "nbconvert_exporter": "python",
   "pygments_lexer": "ipython3",
   "version": "3.10.12"
  }
 },
 "nbformat": 4,
 "nbformat_minor": 2
}
