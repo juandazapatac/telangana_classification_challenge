{
 "cells": [
  {
   "cell_type": "markdown",
   "metadata": {
    "id": "QgEc4aC_eHvY"
   },
   "source": [
    "# Telangana Crop Health Challenge\n",
    "---\n",
    "###  Can you predict the health status of crops?\n",
    "\n",
    "\n",
    "\n",
    "\n",
    "---\n",
    "\n"
   ]
  },
  {
   "cell_type": "markdown",
   "metadata": {
    "id": "PBbqmfc8egYe"
   },
   "source": [
    "# Setup Notebook"
   ]
  },
  {
   "cell_type": "code",
   "execution_count": 1,
   "metadata": {
    "id": "wDC8mC0N2pyp"
   },
   "outputs": [],
   "source": [
    "%%capture\n",
    "!pip install earthengine-api geopandas rasterio rasterstats shapely"
   ]
  },
  {
   "cell_type": "code",
   "execution_count": 2,
   "metadata": {
    "colab": {
     "base_uri": "https://localhost:8080/"
    },
    "id": "f5MS6Bq40Uhr",
    "outputId": "db5345d8-612f-4beb-ff11-88bcd647ec59"
   },
   "outputs": [
    {
     "name": "stdout",
     "output_type": "stream",
     "text": [
      "Collecting earthengine-api\n",
      "  Using cached earthengine_api-1.4.5-py3-none-any.whl.metadata (1.8 kB)\n",
      "Collecting google-cloud-storage (from earthengine-api)\n",
      "  Using cached google_cloud_storage-2.19.0-py2.py3-none-any.whl.metadata (9.1 kB)\n",
      "Collecting google-api-python-client>=1.12.1 (from earthengine-api)\n",
      "  Using cached google_api_python_client-2.159.0-py2.py3-none-any.whl.metadata (6.7 kB)\n",
      "Collecting google-auth>=1.4.1 (from earthengine-api)\n",
      "  Using cached google_auth-2.37.0-py2.py3-none-any.whl.metadata (4.8 kB)\n",
      "Collecting google-auth-httplib2>=0.0.3 (from earthengine-api)\n",
      "  Using cached google_auth_httplib2-0.2.0-py2.py3-none-any.whl.metadata (2.2 kB)\n",
      "Collecting httplib2<1dev,>=0.9.2 (from earthengine-api)\n",
      "  Using cached httplib2-0.22.0-py3-none-any.whl.metadata (2.6 kB)\n",
      "Collecting requests (from earthengine-api)\n",
      "  Downloading requests-2.32.3-py3-none-any.whl.metadata (4.6 kB)\n",
      "Collecting google-api-core!=2.0.*,!=2.1.*,!=2.2.*,!=2.3.0,<3.0.0.dev0,>=1.31.5 (from google-api-python-client>=1.12.1->earthengine-api)\n",
      "  Using cached google_api_core-2.24.0-py3-none-any.whl.metadata (3.0 kB)\n",
      "Collecting uritemplate<5,>=3.0.1 (from google-api-python-client>=1.12.1->earthengine-api)\n",
      "  Using cached uritemplate-4.1.1-py2.py3-none-any.whl.metadata (2.9 kB)\n",
      "Collecting cachetools<6.0,>=2.0.0 (from google-auth>=1.4.1->earthengine-api)\n",
      "  Downloading cachetools-5.5.1-py3-none-any.whl.metadata (5.4 kB)\n",
      "Collecting pyasn1-modules>=0.2.1 (from google-auth>=1.4.1->earthengine-api)\n",
      "  Downloading pyasn1_modules-0.4.1-py3-none-any.whl.metadata (3.5 kB)\n",
      "Collecting rsa<5,>=3.1.4 (from google-auth>=1.4.1->earthengine-api)\n",
      "  Downloading rsa-4.9-py3-none-any.whl.metadata (4.2 kB)\n",
      "Requirement already satisfied: pyparsing!=3.0.0,!=3.0.1,!=3.0.2,!=3.0.3,<4,>=2.4.2 in c:\\users\\souhalabidi\\desktop\\malis\\lab2\\lr\\env\\lib\\site-packages (from httplib2<1dev,>=0.9.2->earthengine-api) (3.2.0)\n",
      "Collecting google-cloud-core<3.0dev,>=2.3.0 (from google-cloud-storage->earthengine-api)\n",
      "  Using cached google_cloud_core-2.4.1-py2.py3-none-any.whl.metadata (2.7 kB)\n",
      "Collecting google-resumable-media>=2.7.2 (from google-cloud-storage->earthengine-api)\n",
      "  Using cached google_resumable_media-2.7.2-py2.py3-none-any.whl.metadata (2.2 kB)\n",
      "Collecting google-crc32c<2.0dev,>=1.0 (from google-cloud-storage->earthengine-api)\n",
      "  Using cached google_crc32c-1.6.0-cp310-cp310-win_amd64.whl.metadata (2.4 kB)\n",
      "Collecting charset-normalizer<4,>=2 (from requests->earthengine-api)\n",
      "  Downloading charset_normalizer-3.4.1-cp310-cp310-win_amd64.whl.metadata (36 kB)\n",
      "Collecting idna<4,>=2.5 (from requests->earthengine-api)\n",
      "  Downloading idna-3.10-py3-none-any.whl.metadata (10 kB)\n",
      "Collecting urllib3<3,>=1.21.1 (from requests->earthengine-api)\n",
      "  Downloading urllib3-2.3.0-py3-none-any.whl.metadata (6.5 kB)\n",
      "Collecting certifi>=2017.4.17 (from requests->earthengine-api)\n",
      "  Downloading certifi-2024.12.14-py3-none-any.whl.metadata (2.3 kB)\n",
      "Collecting googleapis-common-protos<2.0.dev0,>=1.56.2 (from google-api-core!=2.0.*,!=2.1.*,!=2.2.*,!=2.3.0,<3.0.0.dev0,>=1.31.5->google-api-python-client>=1.12.1->earthengine-api)\n",
      "  Downloading googleapis_common_protos-1.66.0-py2.py3-none-any.whl.metadata (1.5 kB)\n",
      "Collecting protobuf!=3.20.0,!=3.20.1,!=4.21.0,!=4.21.1,!=4.21.2,!=4.21.3,!=4.21.4,!=4.21.5,<6.0.0.dev0,>=3.19.5 (from google-api-core!=2.0.*,!=2.1.*,!=2.2.*,!=2.3.0,<3.0.0.dev0,>=1.31.5->google-api-python-client>=1.12.1->earthengine-api)\n",
      "  Downloading protobuf-5.29.3-cp310-abi3-win_amd64.whl.metadata (592 bytes)\n",
      "Collecting proto-plus<2.0.0dev,>=1.22.3 (from google-api-core!=2.0.*,!=2.1.*,!=2.2.*,!=2.3.0,<3.0.0.dev0,>=1.31.5->google-api-python-client>=1.12.1->earthengine-api)\n",
      "  Using cached proto_plus-1.25.0-py3-none-any.whl.metadata (2.2 kB)\n",
      "Collecting pyasn1<0.7.0,>=0.4.6 (from pyasn1-modules>=0.2.1->google-auth>=1.4.1->earthengine-api)\n",
      "  Downloading pyasn1-0.6.1-py3-none-any.whl.metadata (8.4 kB)\n",
      "Using cached earthengine_api-1.4.5-py3-none-any.whl (457 kB)\n",
      "Using cached google_api_python_client-2.159.0-py2.py3-none-any.whl (12.8 MB)\n",
      "Using cached google_auth-2.37.0-py2.py3-none-any.whl (209 kB)\n",
      "Using cached google_auth_httplib2-0.2.0-py2.py3-none-any.whl (9.3 kB)\n",
      "Using cached httplib2-0.22.0-py3-none-any.whl (96 kB)\n",
      "Using cached google_cloud_storage-2.19.0-py2.py3-none-any.whl (131 kB)\n",
      "Downloading requests-2.32.3-py3-none-any.whl (64 kB)\n",
      "Downloading cachetools-5.5.1-py3-none-any.whl (9.5 kB)\n",
      "Downloading certifi-2024.12.14-py3-none-any.whl (164 kB)\n",
      "Downloading charset_normalizer-3.4.1-cp310-cp310-win_amd64.whl (102 kB)\n",
      "Using cached google_api_core-2.24.0-py3-none-any.whl (158 kB)\n",
      "Using cached google_cloud_core-2.4.1-py2.py3-none-any.whl (29 kB)\n",
      "Using cached google_crc32c-1.6.0-cp310-cp310-win_amd64.whl (33 kB)\n",
      "Using cached google_resumable_media-2.7.2-py2.py3-none-any.whl (81 kB)\n",
      "Downloading idna-3.10-py3-none-any.whl (70 kB)\n",
      "Downloading pyasn1_modules-0.4.1-py3-none-any.whl (181 kB)\n",
      "Downloading rsa-4.9-py3-none-any.whl (34 kB)\n",
      "Using cached uritemplate-4.1.1-py2.py3-none-any.whl (10 kB)\n",
      "Downloading urllib3-2.3.0-py3-none-any.whl (128 kB)\n",
      "Downloading googleapis_common_protos-1.66.0-py2.py3-none-any.whl (221 kB)\n",
      "Using cached proto_plus-1.25.0-py3-none-any.whl (50 kB)\n",
      "Downloading protobuf-5.29.3-cp310-abi3-win_amd64.whl (434 kB)\n",
      "Downloading pyasn1-0.6.1-py3-none-any.whl (83 kB)\n",
      "Installing collected packages: urllib3, uritemplate, pyasn1, protobuf, idna, httplib2, google-crc32c, charset-normalizer, certifi, cachetools, rsa, requests, pyasn1-modules, proto-plus, googleapis-common-protos, google-resumable-media, google-auth, google-auth-httplib2, google-api-core, google-cloud-core, google-api-python-client, google-cloud-storage, earthengine-api\n",
      "Successfully installed cachetools-5.5.1 certifi-2024.12.14 charset-normalizer-3.4.1 earthengine-api-1.4.5 google-api-core-2.24.0 google-api-python-client-2.159.0 google-auth-2.37.0 google-auth-httplib2-0.2.0 google-cloud-core-2.4.1 google-cloud-storage-2.19.0 google-crc32c-1.6.0 google-resumable-media-2.7.2 googleapis-common-protos-1.66.0 httplib2-0.22.0 idna-3.10 proto-plus-1.25.0 protobuf-5.29.3 pyasn1-0.6.1 pyasn1-modules-0.4.1 requests-2.32.3 rsa-4.9 uritemplate-4.1.1 urllib3-2.3.0\n",
      "Note: you may need to restart the kernel to use updated packages.\n"
     ]
    }
   ],
   "source": [
    "pip install earthengine-api"
   ]
  },
  {
   "cell_type": "code",
   "execution_count": 3,
   "metadata": {
    "colab": {
     "base_uri": "https://localhost:8080/"
    },
    "id": "vaQfgxk20Uhr",
    "outputId": "2c961777-09c4-4e8d-a41b-5a69b1421e95"
   },
   "outputs": [
    {
     "name": "stdout",
     "output_type": "stream",
     "text": [
      "Collecting geemap\n",
      "  Using cached geemap-0.35.1-py2.py3-none-any.whl.metadata (12 kB)\n",
      "Collecting bqplot (from geemap)\n",
      "  Using cached bqplot-0.12.44-py2.py3-none-any.whl.metadata (6.4 kB)\n",
      "Collecting colour (from geemap)\n",
      "  Using cached colour-0.1.5-py2.py3-none-any.whl.metadata (18 kB)\n",
      "Requirement already satisfied: earthengine-api>=1.0.0 in c:\\users\\souhalabidi\\desktop\\malis\\lab2\\lr\\env\\lib\\site-packages (from geemap) (1.4.5)\n",
      "Collecting eerepr>=0.0.4 (from geemap)\n",
      "  Using cached eerepr-0.1.0-py3-none-any.whl.metadata (4.3 kB)\n",
      "Collecting folium>=0.17.0 (from geemap)\n",
      "  Using cached folium-0.19.4-py2.py3-none-any.whl.metadata (3.8 kB)\n",
      "Collecting geocoder (from geemap)\n",
      "  Using cached geocoder-1.38.1-py2.py3-none-any.whl.metadata (14 kB)\n",
      "Collecting ipyevents (from geemap)\n",
      "  Using cached ipyevents-2.0.2-py3-none-any.whl.metadata (2.9 kB)\n",
      "Collecting ipyfilechooser>=0.6.0 (from geemap)\n",
      "  Using cached ipyfilechooser-0.6.0-py3-none-any.whl.metadata (6.4 kB)\n",
      "Collecting ipyleaflet>=0.19.2 (from geemap)\n",
      "  Using cached ipyleaflet-0.19.2-py3-none-any.whl.metadata (5.3 kB)\n",
      "Collecting ipytree (from geemap)\n",
      "  Using cached ipytree-0.2.2-py2.py3-none-any.whl.metadata (849 bytes)\n",
      "Requirement already satisfied: matplotlib in c:\\users\\souhalabidi\\desktop\\malis\\lab2\\lr\\env\\lib\\site-packages (from geemap) (3.9.2)\n",
      "Requirement already satisfied: numpy in c:\\users\\souhalabidi\\desktop\\malis\\lab2\\lr\\env\\lib\\site-packages (from geemap) (2.1.3)\n",
      "Requirement already satisfied: pandas in c:\\users\\souhalabidi\\desktop\\malis\\lab2\\lr\\env\\lib\\site-packages (from geemap) (2.2.3)\n",
      "Collecting plotly (from geemap)\n",
      "  Downloading plotly-5.24.1-py3-none-any.whl.metadata (7.3 kB)\n",
      "Collecting pyperclip (from geemap)\n",
      "  Using cached pyperclip-1.9.0-py3-none-any.whl\n",
      "Collecting pyshp>=2.3.1 (from geemap)\n",
      "  Using cached pyshp-2.3.1-py2.py3-none-any.whl.metadata (55 kB)\n",
      "Collecting python-box (from geemap)\n",
      "  Using cached python_box-7.3.2-cp310-cp310-win_amd64.whl.metadata (8.3 kB)\n",
      "Collecting scooby (from geemap)\n",
      "  Using cached scooby-0.10.0-py3-none-any.whl.metadata (15 kB)\n",
      "Requirement already satisfied: google-cloud-storage in c:\\users\\souhalabidi\\desktop\\malis\\lab2\\lr\\env\\lib\\site-packages (from earthengine-api>=1.0.0->geemap) (2.19.0)\n",
      "Requirement already satisfied: google-api-python-client>=1.12.1 in c:\\users\\souhalabidi\\desktop\\malis\\lab2\\lr\\env\\lib\\site-packages (from earthengine-api>=1.0.0->geemap) (2.159.0)\n",
      "Requirement already satisfied: google-auth>=1.4.1 in c:\\users\\souhalabidi\\desktop\\malis\\lab2\\lr\\env\\lib\\site-packages (from earthengine-api>=1.0.0->geemap) (2.37.0)\n",
      "Requirement already satisfied: google-auth-httplib2>=0.0.3 in c:\\users\\souhalabidi\\desktop\\malis\\lab2\\lr\\env\\lib\\site-packages (from earthengine-api>=1.0.0->geemap) (0.2.0)\n",
      "Requirement already satisfied: httplib2<1dev,>=0.9.2 in c:\\users\\souhalabidi\\desktop\\malis\\lab2\\lr\\env\\lib\\site-packages (from earthengine-api>=1.0.0->geemap) (0.22.0)\n",
      "Requirement already satisfied: requests in c:\\users\\souhalabidi\\desktop\\malis\\lab2\\lr\\env\\lib\\site-packages (from earthengine-api>=1.0.0->geemap) (2.32.3)\n",
      "Collecting branca>=0.6.0 (from folium>=0.17.0->geemap)\n",
      "  Downloading branca-0.8.1-py3-none-any.whl.metadata (1.5 kB)\n",
      "Collecting jinja2>=2.9 (from folium>=0.17.0->geemap)\n",
      "  Downloading jinja2-3.1.5-py3-none-any.whl.metadata (2.6 kB)\n",
      "Collecting xyzservices (from folium>=0.17.0->geemap)\n",
      "  Downloading xyzservices-2025.1.0-py3-none-any.whl.metadata (4.3 kB)\n",
      "Collecting ipywidgets (from ipyfilechooser>=0.6.0->geemap)\n",
      "  Using cached ipywidgets-8.1.5-py3-none-any.whl.metadata (2.3 kB)\n",
      "Collecting jupyter-leaflet<0.20,>=0.19 (from ipyleaflet>=0.19.2->geemap)\n",
      "  Using cached jupyter_leaflet-0.19.2-py3-none-any.whl.metadata (2.4 kB)\n",
      "Collecting traittypes<3,>=0.2.1 (from ipyleaflet>=0.19.2->geemap)\n",
      "  Using cached traittypes-0.2.1-py2.py3-none-any.whl.metadata (1.0 kB)\n",
      "Requirement already satisfied: traitlets>=4.3.0 in c:\\users\\souhalabidi\\desktop\\malis\\lab2\\lr\\env\\lib\\site-packages (from bqplot->geemap) (5.14.3)\n",
      "Requirement already satisfied: python-dateutil>=2.8.2 in c:\\users\\souhalabidi\\desktop\\malis\\lab2\\lr\\env\\lib\\site-packages (from pandas->geemap) (2.9.0.post0)\n",
      "Requirement already satisfied: pytz>=2020.1 in c:\\users\\souhalabidi\\desktop\\malis\\lab2\\lr\\env\\lib\\site-packages (from pandas->geemap) (2024.2)\n",
      "Requirement already satisfied: tzdata>=2022.7 in c:\\users\\souhalabidi\\desktop\\malis\\lab2\\lr\\env\\lib\\site-packages (from pandas->geemap) (2024.2)\n",
      "Collecting click (from geocoder->geemap)\n",
      "  Downloading click-8.1.8-py3-none-any.whl.metadata (2.3 kB)\n",
      "Collecting future (from geocoder->geemap)\n",
      "  Using cached future-1.0.0-py3-none-any.whl.metadata (4.0 kB)\n",
      "Collecting ratelim (from geocoder->geemap)\n",
      "  Using cached ratelim-0.1.6-py2.py3-none-any.whl.metadata (1.4 kB)\n",
      "Requirement already satisfied: six in c:\\users\\souhalabidi\\desktop\\malis\\lab2\\lr\\env\\lib\\site-packages (from geocoder->geemap) (1.16.0)\n",
      "Requirement already satisfied: contourpy>=1.0.1 in c:\\users\\souhalabidi\\desktop\\malis\\lab2\\lr\\env\\lib\\site-packages (from matplotlib->geemap) (1.3.1)\n",
      "Requirement already satisfied: cycler>=0.10 in c:\\users\\souhalabidi\\desktop\\malis\\lab2\\lr\\env\\lib\\site-packages (from matplotlib->geemap) (0.12.1)\n",
      "Requirement already satisfied: fonttools>=4.22.0 in c:\\users\\souhalabidi\\desktop\\malis\\lab2\\lr\\env\\lib\\site-packages (from matplotlib->geemap) (4.55.0)\n",
      "Requirement already satisfied: kiwisolver>=1.3.1 in c:\\users\\souhalabidi\\desktop\\malis\\lab2\\lr\\env\\lib\\site-packages (from matplotlib->geemap) (1.4.7)\n",
      "Requirement already satisfied: packaging>=20.0 in c:\\users\\souhalabidi\\desktop\\malis\\lab2\\lr\\env\\lib\\site-packages (from matplotlib->geemap) (24.2)\n",
      "Requirement already satisfied: pillow>=8 in c:\\users\\souhalabidi\\desktop\\malis\\lab2\\lr\\env\\lib\\site-packages (from matplotlib->geemap) (11.0.0)\n",
      "Requirement already satisfied: pyparsing>=2.3.1 in c:\\users\\souhalabidi\\desktop\\malis\\lab2\\lr\\env\\lib\\site-packages (from matplotlib->geemap) (3.2.0)\n",
      "Collecting tenacity>=6.2.0 (from plotly->geemap)\n",
      "  Using cached tenacity-9.0.0-py3-none-any.whl.metadata (1.2 kB)\n",
      "Requirement already satisfied: google-api-core!=2.0.*,!=2.1.*,!=2.2.*,!=2.3.0,<3.0.0.dev0,>=1.31.5 in c:\\users\\souhalabidi\\desktop\\malis\\lab2\\lr\\env\\lib\\site-packages (from google-api-python-client>=1.12.1->earthengine-api>=1.0.0->geemap) (2.24.0)\n",
      "Requirement already satisfied: uritemplate<5,>=3.0.1 in c:\\users\\souhalabidi\\desktop\\malis\\lab2\\lr\\env\\lib\\site-packages (from google-api-python-client>=1.12.1->earthengine-api>=1.0.0->geemap) (4.1.1)\n",
      "Requirement already satisfied: cachetools<6.0,>=2.0.0 in c:\\users\\souhalabidi\\desktop\\malis\\lab2\\lr\\env\\lib\\site-packages (from google-auth>=1.4.1->earthengine-api>=1.0.0->geemap) (5.5.1)\n",
      "Requirement already satisfied: pyasn1-modules>=0.2.1 in c:\\users\\souhalabidi\\desktop\\malis\\lab2\\lr\\env\\lib\\site-packages (from google-auth>=1.4.1->earthengine-api>=1.0.0->geemap) (0.4.1)\n",
      "Requirement already satisfied: rsa<5,>=3.1.4 in c:\\users\\souhalabidi\\desktop\\malis\\lab2\\lr\\env\\lib\\site-packages (from google-auth>=1.4.1->earthengine-api>=1.0.0->geemap) (4.9)\n",
      "Requirement already satisfied: comm>=0.1.3 in c:\\users\\souhalabidi\\desktop\\malis\\lab2\\lr\\env\\lib\\site-packages (from ipywidgets->ipyfilechooser>=0.6.0->geemap) (0.2.2)\n",
      "Requirement already satisfied: ipython>=6.1.0 in c:\\users\\souhalabidi\\desktop\\malis\\lab2\\lr\\env\\lib\\site-packages (from ipywidgets->ipyfilechooser>=0.6.0->geemap) (8.29.0)\n",
      "Collecting widgetsnbextension~=4.0.12 (from ipywidgets->ipyfilechooser>=0.6.0->geemap)\n",
      "  Using cached widgetsnbextension-4.0.13-py3-none-any.whl.metadata (1.6 kB)\n",
      "Collecting jupyterlab-widgets~=3.0.12 (from ipywidgets->ipyfilechooser>=0.6.0->geemap)\n",
      "  Using cached jupyterlab_widgets-3.0.13-py3-none-any.whl.metadata (4.1 kB)\n",
      "Collecting MarkupSafe>=2.0 (from jinja2>=2.9->folium>=0.17.0->geemap)\n",
      "  Downloading MarkupSafe-3.0.2-cp310-cp310-win_amd64.whl.metadata (4.1 kB)\n",
      "Requirement already satisfied: colorama in c:\\users\\souhalabidi\\desktop\\malis\\lab2\\lr\\env\\lib\\site-packages (from click->geocoder->geemap) (0.4.6)\n",
      "Requirement already satisfied: google-cloud-core<3.0dev,>=2.3.0 in c:\\users\\souhalabidi\\desktop\\malis\\lab2\\lr\\env\\lib\\site-packages (from google-cloud-storage->earthengine-api>=1.0.0->geemap) (2.4.1)\n",
      "Requirement already satisfied: google-resumable-media>=2.7.2 in c:\\users\\souhalabidi\\desktop\\malis\\lab2\\lr\\env\\lib\\site-packages (from google-cloud-storage->earthengine-api>=1.0.0->geemap) (2.7.2)\n",
      "Requirement already satisfied: google-crc32c<2.0dev,>=1.0 in c:\\users\\souhalabidi\\desktop\\malis\\lab2\\lr\\env\\lib\\site-packages (from google-cloud-storage->earthengine-api>=1.0.0->geemap) (1.6.0)\n",
      "Requirement already satisfied: charset-normalizer<4,>=2 in c:\\users\\souhalabidi\\desktop\\malis\\lab2\\lr\\env\\lib\\site-packages (from requests->earthengine-api>=1.0.0->geemap) (3.4.1)\n",
      "Requirement already satisfied: idna<4,>=2.5 in c:\\users\\souhalabidi\\desktop\\malis\\lab2\\lr\\env\\lib\\site-packages (from requests->earthengine-api>=1.0.0->geemap) (3.10)\n",
      "Requirement already satisfied: urllib3<3,>=1.21.1 in c:\\users\\souhalabidi\\desktop\\malis\\lab2\\lr\\env\\lib\\site-packages (from requests->earthengine-api>=1.0.0->geemap) (2.3.0)\n",
      "Requirement already satisfied: certifi>=2017.4.17 in c:\\users\\souhalabidi\\desktop\\malis\\lab2\\lr\\env\\lib\\site-packages (from requests->earthengine-api>=1.0.0->geemap) (2024.12.14)\n",
      "Requirement already satisfied: decorator in c:\\users\\souhalabidi\\desktop\\malis\\lab2\\lr\\env\\lib\\site-packages (from ratelim->geocoder->geemap) (5.1.1)\n",
      "Requirement already satisfied: googleapis-common-protos<2.0.dev0,>=1.56.2 in c:\\users\\souhalabidi\\desktop\\malis\\lab2\\lr\\env\\lib\\site-packages (from google-api-core!=2.0.*,!=2.1.*,!=2.2.*,!=2.3.0,<3.0.0.dev0,>=1.31.5->google-api-python-client>=1.12.1->earthengine-api>=1.0.0->geemap) (1.66.0)\n",
      "Requirement already satisfied: protobuf!=3.20.0,!=3.20.1,!=4.21.0,!=4.21.1,!=4.21.2,!=4.21.3,!=4.21.4,!=4.21.5,<6.0.0.dev0,>=3.19.5 in c:\\users\\souhalabidi\\desktop\\malis\\lab2\\lr\\env\\lib\\site-packages (from google-api-core!=2.0.*,!=2.1.*,!=2.2.*,!=2.3.0,<3.0.0.dev0,>=1.31.5->google-api-python-client>=1.12.1->earthengine-api>=1.0.0->geemap) (5.29.3)\n",
      "Requirement already satisfied: proto-plus<2.0.0dev,>=1.22.3 in c:\\users\\souhalabidi\\desktop\\malis\\lab2\\lr\\env\\lib\\site-packages (from google-api-core!=2.0.*,!=2.1.*,!=2.2.*,!=2.3.0,<3.0.0.dev0,>=1.31.5->google-api-python-client>=1.12.1->earthengine-api>=1.0.0->geemap) (1.25.0)\n",
      "Requirement already satisfied: jedi>=0.16 in c:\\users\\souhalabidi\\desktop\\malis\\lab2\\lr\\env\\lib\\site-packages (from ipython>=6.1.0->ipywidgets->ipyfilechooser>=0.6.0->geemap) (0.19.2)\n",
      "Requirement already satisfied: matplotlib-inline in c:\\users\\souhalabidi\\desktop\\malis\\lab2\\lr\\env\\lib\\site-packages (from ipython>=6.1.0->ipywidgets->ipyfilechooser>=0.6.0->geemap) (0.1.7)\n",
      "Requirement already satisfied: prompt-toolkit<3.1.0,>=3.0.41 in c:\\users\\souhalabidi\\desktop\\malis\\lab2\\lr\\env\\lib\\site-packages (from ipython>=6.1.0->ipywidgets->ipyfilechooser>=0.6.0->geemap) (3.0.48)\n",
      "Requirement already satisfied: pygments>=2.4.0 in c:\\users\\souhalabidi\\desktop\\malis\\lab2\\lr\\env\\lib\\site-packages (from ipython>=6.1.0->ipywidgets->ipyfilechooser>=0.6.0->geemap) (2.18.0)\n",
      "Requirement already satisfied: stack-data in c:\\users\\souhalabidi\\desktop\\malis\\lab2\\lr\\env\\lib\\site-packages (from ipython>=6.1.0->ipywidgets->ipyfilechooser>=0.6.0->geemap) (0.6.3)\n",
      "Requirement already satisfied: exceptiongroup in c:\\users\\souhalabidi\\desktop\\malis\\lab2\\lr\\env\\lib\\site-packages (from ipython>=6.1.0->ipywidgets->ipyfilechooser>=0.6.0->geemap) (1.2.2)\n",
      "Requirement already satisfied: typing-extensions>=4.6 in c:\\users\\souhalabidi\\desktop\\malis\\lab2\\lr\\env\\lib\\site-packages (from ipython>=6.1.0->ipywidgets->ipyfilechooser>=0.6.0->geemap) (4.12.2)\n",
      "Requirement already satisfied: pyasn1<0.7.0,>=0.4.6 in c:\\users\\souhalabidi\\desktop\\malis\\lab2\\lr\\env\\lib\\site-packages (from pyasn1-modules>=0.2.1->google-auth>=1.4.1->earthengine-api>=1.0.0->geemap) (0.6.1)\n",
      "Requirement already satisfied: parso<0.9.0,>=0.8.4 in c:\\users\\souhalabidi\\desktop\\malis\\lab2\\lr\\env\\lib\\site-packages (from jedi>=0.16->ipython>=6.1.0->ipywidgets->ipyfilechooser>=0.6.0->geemap) (0.8.4)\n",
      "Requirement already satisfied: wcwidth in c:\\users\\souhalabidi\\desktop\\malis\\lab2\\lr\\env\\lib\\site-packages (from prompt-toolkit<3.1.0,>=3.0.41->ipython>=6.1.0->ipywidgets->ipyfilechooser>=0.6.0->geemap) (0.2.13)\n",
      "Requirement already satisfied: executing>=1.2.0 in c:\\users\\souhalabidi\\desktop\\malis\\lab2\\lr\\env\\lib\\site-packages (from stack-data->ipython>=6.1.0->ipywidgets->ipyfilechooser>=0.6.0->geemap) (2.1.0)\n",
      "Requirement already satisfied: asttokens>=2.1.0 in c:\\users\\souhalabidi\\desktop\\malis\\lab2\\lr\\env\\lib\\site-packages (from stack-data->ipython>=6.1.0->ipywidgets->ipyfilechooser>=0.6.0->geemap) (2.4.1)\n",
      "Requirement already satisfied: pure-eval in c:\\users\\souhalabidi\\desktop\\malis\\lab2\\lr\\env\\lib\\site-packages (from stack-data->ipython>=6.1.0->ipywidgets->ipyfilechooser>=0.6.0->geemap) (0.2.3)\n",
      "Using cached geemap-0.35.1-py2.py3-none-any.whl (2.3 MB)\n",
      "Using cached eerepr-0.1.0-py3-none-any.whl (10 kB)\n",
      "Using cached folium-0.19.4-py2.py3-none-any.whl (110 kB)\n",
      "Using cached ipyfilechooser-0.6.0-py3-none-any.whl (11 kB)\n",
      "Using cached ipyleaflet-0.19.2-py3-none-any.whl (31 kB)\n",
      "Using cached pyshp-2.3.1-py2.py3-none-any.whl (46 kB)\n",
      "Using cached bqplot-0.12.44-py2.py3-none-any.whl (1.2 MB)\n",
      "Using cached colour-0.1.5-py2.py3-none-any.whl (23 kB)\n",
      "Using cached geocoder-1.38.1-py2.py3-none-any.whl (98 kB)\n",
      "Using cached ipyevents-2.0.2-py3-none-any.whl (101 kB)\n",
      "Using cached ipytree-0.2.2-py2.py3-none-any.whl (1.3 MB)\n",
      "Downloading plotly-5.24.1-py3-none-any.whl (19.1 MB)\n",
      "   ---------------------------------------- 0.0/19.1 MB ? eta -:--:--\n",
      "    --------------------------------------- 0.3/19.1 MB ? eta -:--:--\n",
      "   - -------------------------------------- 0.5/19.1 MB 1.9 MB/s eta 0:00:10\n",
      "   -- ------------------------------------- 1.0/19.1 MB 1.9 MB/s eta 0:00:10\n",
      "   -- ------------------------------------- 1.3/19.1 MB 1.9 MB/s eta 0:00:10\n",
      "   --- ------------------------------------ 1.8/19.1 MB 2.0 MB/s eta 0:00:09\n",
      "   ---- ----------------------------------- 2.4/19.1 MB 2.1 MB/s eta 0:00:08\n",
      "   ------ --------------------------------- 2.9/19.1 MB 2.1 MB/s eta 0:00:08\n",
      "   ------ --------------------------------- 3.1/19.1 MB 2.1 MB/s eta 0:00:08\n",
      "   ------- -------------------------------- 3.7/19.1 MB 2.1 MB/s eta 0:00:08\n",
      "   -------- ------------------------------- 4.2/19.1 MB 2.1 MB/s eta 0:00:08\n",
      "   --------- ------------------------------ 4.7/19.1 MB 2.2 MB/s eta 0:00:07\n",
      "   ---------- ----------------------------- 5.0/19.1 MB 2.2 MB/s eta 0:00:07\n",
      "   ----------- ---------------------------- 5.2/19.1 MB 2.1 MB/s eta 0:00:07\n",
      "   ------------ --------------------------- 5.8/19.1 MB 2.1 MB/s eta 0:00:07\n",
      "   ------------ --------------------------- 6.0/19.1 MB 2.0 MB/s eta 0:00:07\n",
      "   ------------- -------------------------- 6.6/19.1 MB 2.1 MB/s eta 0:00:07\n",
      "   -------------- ------------------------- 7.1/19.1 MB 2.1 MB/s eta 0:00:06\n",
      "   --------------- ------------------------ 7.3/19.1 MB 2.0 MB/s eta 0:00:06\n",
      "   ---------------- ----------------------- 7.9/19.1 MB 2.0 MB/s eta 0:00:06\n",
      "   ----------------- ---------------------- 8.4/19.1 MB 2.0 MB/s eta 0:00:06\n",
      "   ------------------ --------------------- 8.7/19.1 MB 2.0 MB/s eta 0:00:06\n",
      "   ------------------ --------------------- 8.9/19.1 MB 2.0 MB/s eta 0:00:06\n",
      "   ------------------- -------------------- 9.4/19.1 MB 2.0 MB/s eta 0:00:05\n",
      "   -------------------- ------------------- 10.0/19.1 MB 2.1 MB/s eta 0:00:05\n",
      "   ---------------------- ----------------- 10.7/19.1 MB 2.1 MB/s eta 0:00:04\n",
      "   ----------------------- ---------------- 11.0/19.1 MB 2.1 MB/s eta 0:00:04\n",
      "   ------------------------ --------------- 11.8/19.1 MB 2.1 MB/s eta 0:00:04\n",
      "   ------------------------- -------------- 12.1/19.1 MB 2.1 MB/s eta 0:00:04\n",
      "   -------------------------- ------------- 12.6/19.1 MB 2.1 MB/s eta 0:00:04\n",
      "   ---------------------------- ----------- 13.4/19.1 MB 2.2 MB/s eta 0:00:03\n",
      "   ----------------------------- ---------- 13.9/19.1 MB 2.2 MB/s eta 0:00:03\n",
      "   ------------------------------ --------- 14.4/19.1 MB 2.2 MB/s eta 0:00:03\n",
      "   ------------------------------- -------- 14.9/19.1 MB 2.2 MB/s eta 0:00:02\n",
      "   --------------------------------- ------ 15.7/19.1 MB 2.2 MB/s eta 0:00:02\n",
      "   ---------------------------------- ----- 16.3/19.1 MB 2.2 MB/s eta 0:00:02\n",
      "   ----------------------------------- ---- 16.8/19.1 MB 2.2 MB/s eta 0:00:02\n",
      "   ------------------------------------ --- 17.3/19.1 MB 2.2 MB/s eta 0:00:01\n",
      "   ------------------------------------- -- 17.8/19.1 MB 2.3 MB/s eta 0:00:01\n",
      "   ------------------------------------- -- 18.1/19.1 MB 2.2 MB/s eta 0:00:01\n",
      "   -------------------------------------- - 18.4/19.1 MB 2.2 MB/s eta 0:00:01\n",
      "   ---------------------------------------  18.6/19.1 MB 2.2 MB/s eta 0:00:01\n",
      "   ---------------------------------------  18.9/19.1 MB 2.2 MB/s eta 0:00:01\n",
      "   ---------------------------------------- 19.1/19.1 MB 2.2 MB/s eta 0:00:00\n",
      "Using cached python_box-7.3.2-cp310-cp310-win_amd64.whl (1.2 MB)\n",
      "Using cached scooby-0.10.0-py3-none-any.whl (18 kB)\n",
      "Downloading branca-0.8.1-py3-none-any.whl (26 kB)\n",
      "Using cached ipywidgets-8.1.5-py3-none-any.whl (139 kB)\n",
      "Downloading jinja2-3.1.5-py3-none-any.whl (134 kB)\n",
      "Using cached jupyter_leaflet-0.19.2-py3-none-any.whl (1.1 MB)\n",
      "Using cached tenacity-9.0.0-py3-none-any.whl (28 kB)\n",
      "Using cached traittypes-0.2.1-py2.py3-none-any.whl (8.6 kB)\n",
      "Downloading xyzservices-2025.1.0-py3-none-any.whl (88 kB)\n",
      "Downloading click-8.1.8-py3-none-any.whl (98 kB)\n",
      "Using cached future-1.0.0-py3-none-any.whl (491 kB)\n",
      "Using cached ratelim-0.1.6-py2.py3-none-any.whl (4.0 kB)\n",
      "Using cached jupyterlab_widgets-3.0.13-py3-none-any.whl (214 kB)\n",
      "Downloading MarkupSafe-3.0.2-cp310-cp310-win_amd64.whl (15 kB)\n",
      "Using cached widgetsnbextension-4.0.13-py3-none-any.whl (2.3 MB)\n",
      "Installing collected packages: pyperclip, colour, xyzservices, widgetsnbextension, traittypes, tenacity, scooby, ratelim, python-box, pyshp, MarkupSafe, jupyterlab-widgets, jupyter-leaflet, future, click, plotly, jinja2, geocoder, branca, ipywidgets, folium, ipytree, ipyleaflet, ipyfilechooser, ipyevents, bqplot, eerepr, geemap\n",
      "Successfully installed MarkupSafe-3.0.2 bqplot-0.12.44 branca-0.8.1 click-8.1.8 colour-0.1.5 eerepr-0.1.0 folium-0.19.4 future-1.0.0 geemap-0.35.1 geocoder-1.38.1 ipyevents-2.0.2 ipyfilechooser-0.6.0 ipyleaflet-0.19.2 ipytree-0.2.2 ipywidgets-8.1.5 jinja2-3.1.5 jupyter-leaflet-0.19.2 jupyterlab-widgets-3.0.13 plotly-5.24.1 pyperclip-1.9.0 pyshp-2.3.1 python-box-7.3.2 ratelim-0.1.6 scooby-0.10.0 tenacity-9.0.0 traittypes-0.2.1 widgetsnbextension-4.0.13 xyzservices-2025.1.0\n",
      "Note: you may need to restart the kernel to use updated packages.\n"
     ]
    }
   ],
   "source": [
    "pip install geemap"
   ]
  },
  {
   "cell_type": "code",
   "execution_count": 1,
   "metadata": {
    "colab": {
     "base_uri": "https://localhost:8080/"
    },
    "id": "dAQp_HUi0Uhr",
    "outputId": "204a2045-4992-48ec-8b09-93fff43298d5"
   },
   "outputs": [
    {
     "name": "stdout",
     "output_type": "stream",
     "text": [
      "Requirement already satisfied: geopandas in c:\\users\\souhalabidi\\desktop\\malis\\lab2\\lr\\env\\lib\\site-packages (1.0.1)\n",
      "Requirement already satisfied: rasterio in c:\\users\\souhalabidi\\desktop\\malis\\lab2\\lr\\env\\lib\\site-packages (1.4.3)\n",
      "Requirement already satisfied: rasterstats in c:\\users\\souhalabidi\\desktop\\malis\\lab2\\lr\\env\\lib\\site-packages (0.20.0)\n",
      "Requirement already satisfied: shapely in c:\\users\\souhalabidi\\desktop\\malis\\lab2\\lr\\env\\lib\\site-packages (2.0.6)\n",
      "Requirement already satisfied: numpy>=1.22 in c:\\users\\souhalabidi\\desktop\\malis\\lab2\\lr\\env\\lib\\site-packages (from geopandas) (2.1.3)\n",
      "Requirement already satisfied: pyogrio>=0.7.2 in c:\\users\\souhalabidi\\desktop\\malis\\lab2\\lr\\env\\lib\\site-packages (from geopandas) (0.10.0)\n",
      "Requirement already satisfied: packaging in c:\\users\\souhalabidi\\desktop\\malis\\lab2\\lr\\env\\lib\\site-packages (from geopandas) (24.2)\n",
      "Requirement already satisfied: pandas>=1.4.0 in c:\\users\\souhalabidi\\desktop\\malis\\lab2\\lr\\env\\lib\\site-packages (from geopandas) (2.2.3)\n",
      "Requirement already satisfied: pyproj>=3.3.0 in c:\\users\\souhalabidi\\desktop\\malis\\lab2\\lr\\env\\lib\\site-packages (from geopandas) (3.7.0)\n",
      "Requirement already satisfied: affine in c:\\users\\souhalabidi\\desktop\\malis\\lab2\\lr\\env\\lib\\site-packages (from rasterio) (2.4.0)\n",
      "Requirement already satisfied: attrs in c:\\users\\souhalabidi\\desktop\\malis\\lab2\\lr\\env\\lib\\site-packages (from rasterio) (24.3.0)\n",
      "Requirement already satisfied: certifi in c:\\users\\souhalabidi\\desktop\\malis\\lab2\\lr\\env\\lib\\site-packages (from rasterio) (2024.12.14)\n",
      "Requirement already satisfied: click>=4.0 in c:\\users\\souhalabidi\\desktop\\malis\\lab2\\lr\\env\\lib\\site-packages (from rasterio) (8.1.8)\n",
      "Requirement already satisfied: cligj>=0.5 in c:\\users\\souhalabidi\\desktop\\malis\\lab2\\lr\\env\\lib\\site-packages (from rasterio) (0.7.2)\n",
      "Requirement already satisfied: click-plugins in c:\\users\\souhalabidi\\desktop\\malis\\lab2\\lr\\env\\lib\\site-packages (from rasterio) (1.1.1)\n",
      "Requirement already satisfied: pyparsing in c:\\users\\souhalabidi\\desktop\\malis\\lab2\\lr\\env\\lib\\site-packages (from rasterio) (3.2.0)\n",
      "Requirement already satisfied: fiona in c:\\users\\souhalabidi\\desktop\\malis\\lab2\\lr\\env\\lib\\site-packages (from rasterstats) (1.10.1)\n",
      "Requirement already satisfied: simplejson in c:\\users\\souhalabidi\\desktop\\malis\\lab2\\lr\\env\\lib\\site-packages (from rasterstats) (3.19.3)\n",
      "Requirement already satisfied: colorama in c:\\users\\souhalabidi\\desktop\\malis\\lab2\\lr\\env\\lib\\site-packages (from click>=4.0->rasterio) (0.4.6)\n",
      "Requirement already satisfied: python-dateutil>=2.8.2 in c:\\users\\souhalabidi\\desktop\\malis\\lab2\\lr\\env\\lib\\site-packages (from pandas>=1.4.0->geopandas) (2.9.0.post0)\n",
      "Requirement already satisfied: pytz>=2020.1 in c:\\users\\souhalabidi\\desktop\\malis\\lab2\\lr\\env\\lib\\site-packages (from pandas>=1.4.0->geopandas) (2024.2)\n",
      "Requirement already satisfied: tzdata>=2022.7 in c:\\users\\souhalabidi\\desktop\\malis\\lab2\\lr\\env\\lib\\site-packages (from pandas>=1.4.0->geopandas) (2024.2)\n",
      "Requirement already satisfied: six>=1.5 in c:\\users\\souhalabidi\\desktop\\malis\\lab2\\lr\\env\\lib\\site-packages (from python-dateutil>=2.8.2->pandas>=1.4.0->geopandas) (1.16.0)\n",
      "Note: you may need to restart the kernel to use updated packages.\n"
     ]
    }
   ],
   "source": [
    "pip install geopandas rasterio rasterstats shapely"
   ]
  },
  {
   "cell_type": "code",
   "execution_count": 2,
   "metadata": {
    "colab": {
     "base_uri": "https://localhost:8080/"
    },
    "id": "IZa9imqd0Uhs",
    "outputId": "3a83abce-1b82-4a32-e17a-2f0c098a1d04"
   },
   "outputs": [
    {
     "name": "stdout",
     "output_type": "stream",
     "text": [
      "Collecting scikit-image\n",
      "  Using cached scikit_image-0.25.0-cp310-cp310-win_amd64.whl.metadata (14 kB)\n",
      "Requirement already satisfied: numpy>=1.24 in c:\\users\\souhalabidi\\desktop\\malis\\lab2\\lr\\env\\lib\\site-packages (from scikit-image) (2.1.3)\n",
      "Requirement already satisfied: scipy>=1.11.2 in c:\\users\\souhalabidi\\desktop\\malis\\lab2\\lr\\env\\lib\\site-packages (from scikit-image) (1.14.1)\n",
      "Requirement already satisfied: networkx>=3.0 in c:\\users\\souhalabidi\\desktop\\malis\\lab2\\lr\\env\\lib\\site-packages (from scikit-image) (3.4.2)\n",
      "Requirement already satisfied: pillow>=10.1 in c:\\users\\souhalabidi\\desktop\\malis\\lab2\\lr\\env\\lib\\site-packages (from scikit-image) (11.0.0)\n",
      "Collecting imageio!=2.35.0,>=2.33 (from scikit-image)\n",
      "  Using cached imageio-2.37.0-py3-none-any.whl.metadata (5.2 kB)\n",
      "Requirement already satisfied: tifffile>=2022.8.12 in c:\\users\\souhalabidi\\desktop\\malis\\lab2\\lr\\env\\lib\\site-packages (from scikit-image) (2025.1.10)\n",
      "Requirement already satisfied: packaging>=21 in c:\\users\\souhalabidi\\desktop\\malis\\lab2\\lr\\env\\lib\\site-packages (from scikit-image) (24.2)\n",
      "Collecting lazy-loader>=0.4 (from scikit-image)\n",
      "  Using cached lazy_loader-0.4-py3-none-any.whl.metadata (7.6 kB)\n",
      "Using cached scikit_image-0.25.0-cp310-cp310-win_amd64.whl (12.8 MB)\n",
      "Using cached imageio-2.37.0-py3-none-any.whl (315 kB)\n",
      "Using cached lazy_loader-0.4-py3-none-any.whl (12 kB)\n",
      "Installing collected packages: lazy-loader, imageio, scikit-image\n",
      "Successfully installed imageio-2.37.0 lazy-loader-0.4 scikit-image-0.25.0\n",
      "Note: you may need to restart the kernel to use updated packages.\n"
     ]
    }
   ],
   "source": [
    "pip install -U scikit-image"
   ]
  },
  {
   "cell_type": "code",
   "execution_count": 3,
   "metadata": {
    "colab": {
     "base_uri": "https://localhost:8080/"
    },
    "id": "b432eREb0nvq",
    "outputId": "08731b7b-04d9-48de-96bf-bb9cefbcbc82"
   },
   "outputs": [
    {
     "name": "stdout",
     "output_type": "stream",
     "text": [
      "Requirement already satisfied: dask[dataframe] in c:\\users\\souhalabidi\\anaconda3\\lib\\site-packages (2022.7.0)\n",
      "Requirement already satisfied: toolz>=0.8.2 in c:\\users\\souhalabidi\\anaconda3\\lib\\site-packages (from dask[dataframe]) (0.12.0)\n",
      "Requirement already satisfied: pyyaml>=5.3.1 in c:\\users\\souhalabidi\\anaconda3\\lib\\site-packages (from dask[dataframe]) (6.0.1)\n",
      "Requirement already satisfied: cloudpickle>=1.1.1 in c:\\users\\souhalabidi\\anaconda3\\lib\\site-packages (from dask[dataframe]) (2.0.0)\n",
      "Requirement already satisfied: partd>=0.3.10 in c:\\users\\souhalabidi\\anaconda3\\lib\\site-packages (from dask[dataframe]) (1.2.0)\n",
      "Requirement already satisfied: fsspec>=0.6.0 in c:\\users\\souhalabidi\\anaconda3\\lib\\site-packages (from dask[dataframe]) (2024.2.0)\n",
      "Requirement already satisfied: packaging>=20.0 in c:\\users\\souhalabidi\\anaconda3\\lib\\site-packages (from dask[dataframe]) (23.2)\n",
      "Requirement already satisfied: numpy>=1.18 in c:\\users\\souhalabidi\\anaconda3\\lib\\site-packages (from dask[dataframe]) (1.26.4)\n",
      "Requirement already satisfied: pandas>=1.0 in c:\\users\\souhalabidi\\anaconda3\\lib\\site-packages (from dask[dataframe]) (2.2.0)\n",
      "Requirement already satisfied: python-dateutil>=2.8.2 in c:\\users\\souhalabidi\\anaconda3\\lib\\site-packages (from pandas>=1.0->dask[dataframe]) (2.8.2)\n",
      "Requirement already satisfied: tzdata>=2022.7 in c:\\users\\souhalabidi\\anaconda3\\lib\\site-packages (from pandas>=1.0->dask[dataframe]) (2024.1)\n",
      "Requirement already satisfied: pytz>=2020.1 in c:\\users\\souhalabidi\\anaconda3\\lib\\site-packages (from pandas>=1.0->dask[dataframe]) (2024.1)\n",
      "Requirement already satisfied: locket in c:\\users\\souhalabidi\\anaconda3\\lib\\site-packages (from partd>=0.3.10->dask[dataframe]) (1.0.0)\n",
      "Requirement already satisfied: six>=1.5 in c:\\users\\souhalabidi\\anaconda3\\lib\\site-packages (from python-dateutil>=2.8.2->pandas>=1.0->dask[dataframe]) (1.16.0)\n"
     ]
    }
   ],
   "source": [
    "!pip install dask[dataframe]"
   ]
  },
  {
   "cell_type": "code",
   "execution_count": 5,
   "metadata": {},
   "outputs": [
    {
     "name": "stdout",
     "output_type": "stream",
     "text": [
      "Collecting tqdm\n",
      "  Downloading tqdm-4.67.1-py3-none-any.whl.metadata (57 kB)\n",
      "Requirement already satisfied: colorama in c:\\users\\souhalabidi\\desktop\\malis\\lab2\\lr\\env\\lib\\site-packages (from tqdm) (0.4.6)\n",
      "Downloading tqdm-4.67.1-py3-none-any.whl (78 kB)\n",
      "Installing collected packages: tqdm\n",
      "Successfully installed tqdm-4.67.1\n",
      "Note: you may need to restart the kernel to use updated packages.\n"
     ]
    }
   ],
   "source": [
    "pip install tqdm"
   ]
  },
  {
   "cell_type": "markdown",
   "metadata": {
    "id": "4NxUOE8jfCV9"
   },
   "source": [
    "# Libraries and Modules Import"
   ]
  },
  {
   "cell_type": "code",
   "execution_count": 1,
   "metadata": {
    "id": "yGg1Cyv02_bQ"
   },
   "outputs": [
    {
     "ename": "ModuleNotFoundError",
     "evalue": "No module named 'lightgbm'",
     "output_type": "error",
     "traceback": [
      "\u001b[1;31m---------------------------------------------------------------------------\u001b[0m",
      "\u001b[1;31mModuleNotFoundError\u001b[0m                       Traceback (most recent call last)",
      "Cell \u001b[1;32mIn[1], line 17\u001b[0m\n\u001b[0;32m     15\u001b[0m \u001b[38;5;28;01mimport\u001b[39;00m \u001b[38;5;21;01mpandas\u001b[39;00m \u001b[38;5;28;01mas\u001b[39;00m \u001b[38;5;21;01mpd\u001b[39;00m\n\u001b[0;32m     16\u001b[0m \u001b[38;5;28;01mimport\u001b[39;00m \u001b[38;5;21;01mrasterio\u001b[39;00m\n\u001b[1;32m---> 17\u001b[0m \u001b[38;5;28;01mfrom\u001b[39;00m \u001b[38;5;21;01mlightgbm\u001b[39;00m \u001b[38;5;28;01mimport\u001b[39;00m LGBMClassifier\n\u001b[0;32m     18\u001b[0m \u001b[38;5;28;01mfrom\u001b[39;00m \u001b[38;5;21;01mshapely\u001b[39;00m\u001b[38;5;21;01m.\u001b[39;00m\u001b[38;5;21;01maffinity\u001b[39;00m \u001b[38;5;28;01mimport\u001b[39;00m scale, translate\n\u001b[0;32m     19\u001b[0m \u001b[38;5;28;01mfrom\u001b[39;00m \u001b[38;5;21;01mskimage\u001b[39;00m \u001b[38;5;28;01mimport\u001b[39;00m exposure\n",
      "\u001b[1;31mModuleNotFoundError\u001b[0m: No module named 'lightgbm'"
     ]
    }
   ],
   "source": [
    "# Standard Library Imports\n",
    "from concurrent.futures import ThreadPoolExecutor, as_completed\n",
    "from joblib import Parallel, delayed\n",
    "from tqdm import tqdm\n",
    "from datetime import datetime\n",
    "from pathlib import Path\n",
    "import os\n",
    "import random\n",
    "\n",
    "# Third-Party Imports\n",
    "import ee\n",
    "import geemap\n",
    "import matplotlib.pyplot as plt\n",
    "import numpy as np\n",
    "import pandas as pd\n",
    "import rasterio\n",
    "from lightgbm import LGBMClassifier\n",
    "from shapely.affinity import scale, translate\n",
    "from skimage import exposure\n",
    "from sklearn.metrics import classification_report, f1_score\n",
    "from sklearn.model_selection import StratifiedKFold, train_test_split\n",
    "from sklearn.preprocessing import LabelEncoder\n",
    "\n",
    "from shapely import wkt\n",
    "import geopandas as gpd\n",
    "\n",
    "import warnings\n",
    "warnings.filterwarnings('ignore')\n",
    "\n",
    "import logging\n",
    "# Set up a logger to capture Rasterio warnings\n",
    "logging.getLogger(\"rasterio._env\").setLevel(logging.ERROR)"
   ]
  },
  {
   "cell_type": "markdown",
   "metadata": {
    "id": "6Dzgl65yfqYN"
   },
   "source": [
    "# Project Setup and Earth Engine Initialization"
   ]
  },
  {
   "cell_type": "code",
   "execution_count": null,
   "metadata": {
    "colab": {
     "base_uri": "https://localhost:8080/",
     "height": 17
    },
    "id": "8aXKLcU9fvU1",
    "outputId": "08fbe1c9-6bff-4361-d87a-64a91d4a6156"
   },
   "outputs": [],
   "source": [
    "# Define the root path for the project\n",
    "root_path = Path(\".\")"
   ]
  },
  {
   "cell_type": "code",
   "execution_count": null,
   "metadata": {
    "colab": {
     "base_uri": "https://localhost:8080/",
     "height": 17
    },
    "id": "IrqeBjHbenYO",
    "outputId": "78e4d2c6-82f0-402f-ff69-310103e53595"
   },
   "outputs": [],
   "source": [
    "# Authenticate with Google Earth Engine\n",
    "# This opens a browser prompt for authentication, if not previously authenticated\n",
    "ee.Authenticate()\n",
    "\n",
    "# Initialize Earth Engine with a specific project\n",
    "# Replace \"project\" with your project ID as needed\n",
    "ee.Initialize(project=\"ee-souhalabidi14\")"
   ]
  },
  {
   "cell_type": "markdown",
   "metadata": {
    "id": "FX3ISF5IgMYE"
   },
   "source": [
    "# Data Loading and Preprocessing"
   ]
  },
  {
   "cell_type": "markdown",
   "metadata": {
    "id": "o8zjh8xTgNMs"
   },
   "source": [
    "**Load Train and Test**"
   ]
  },
  {
   "cell_type": "code",
   "execution_count": null,
   "metadata": {
    "colab": {
     "base_uri": "https://localhost:8080/",
     "height": 17
    },
    "id": "IY6BGNs_3JfK",
    "outputId": "3f599abb-d008-4560-cc86-95d163c4992f"
   },
   "outputs": [],
   "source": [
    "# Load training and testing datasets from CSV files\n",
    "train = pd.read_csv(root_path / 'Train.csv')\n",
    "test = pd.read_csv(root_path / 'Test.csv')"
   ]
  },
  {
   "cell_type": "markdown",
   "metadata": {
    "id": "0w0j8JXhgcT5"
   },
   "source": [
    "**Convert Geometry Columns to Geospatial Format**"
   ]
  },
  {
   "cell_type": "code",
   "execution_count": null,
   "metadata": {
    "colab": {
     "base_uri": "https://localhost:8080/",
     "height": 17
    },
    "id": "2VMdtK6nPiT-",
    "outputId": "674a4d72-6c58-4f5f-b541-7e043a38c56e"
   },
   "outputs": [
    {
     "data": {
      "text/html": [
       "\n",
       "            <style>\n",
       "                .geemap-dark {\n",
       "                    --jp-widgets-color: white;\n",
       "                    --jp-widgets-label-color: white;\n",
       "                    --jp-ui-font-color1: white;\n",
       "                    --jp-layout-color2: #454545;\n",
       "                    background-color: #383838;\n",
       "                }\n",
       "\n",
       "                .geemap-dark .jupyter-button {\n",
       "                    --jp-layout-color3: #383838;\n",
       "                }\n",
       "\n",
       "                .geemap-colab {\n",
       "                    background-color: var(--colab-primary-surface-color, white);\n",
       "                }\n",
       "\n",
       "                .geemap-colab .jupyter-button {\n",
       "                    --jp-layout-color3: var(--colab-primary-surface-color, white);\n",
       "                }\n",
       "            </style>\n",
       "            "
      ],
      "text/plain": [
       "<IPython.core.display.HTML object>"
      ]
     },
     "metadata": {},
     "output_type": "display_data"
    }
   ],
   "source": [
    "# Convert WKT geometry to actual geometry objects in both datasets\n",
    "train['geometry'] = train['geometry'].apply(wkt.loads)\n",
    "test['geometry'] = test['geometry'].apply(wkt.loads)"
   ]
  },
  {
   "cell_type": "markdown",
   "metadata": {
    "id": "4PePPSBsgqGN"
   },
   "source": [
    "**Convert DataFrames to GeoDataFrames**"
   ]
  },
  {
   "cell_type": "code",
   "execution_count": null,
   "metadata": {
    "colab": {
     "base_uri": "https://localhost:8080/",
     "height": 17
    },
    "id": "bNT00SHOgp-d",
    "outputId": "dbb26898-aec3-45e6-dfab-ac399d5573a2"
   },
   "outputs": [
    {
     "data": {
      "text/html": [
       "\n",
       "            <style>\n",
       "                .geemap-dark {\n",
       "                    --jp-widgets-color: white;\n",
       "                    --jp-widgets-label-color: white;\n",
       "                    --jp-ui-font-color1: white;\n",
       "                    --jp-layout-color2: #454545;\n",
       "                    background-color: #383838;\n",
       "                }\n",
       "\n",
       "                .geemap-dark .jupyter-button {\n",
       "                    --jp-layout-color3: #383838;\n",
       "                }\n",
       "\n",
       "                .geemap-colab {\n",
       "                    background-color: var(--colab-primary-surface-color, white);\n",
       "                }\n",
       "\n",
       "                .geemap-colab .jupyter-button {\n",
       "                    --jp-layout-color3: var(--colab-primary-surface-color, white);\n",
       "                }\n",
       "            </style>\n",
       "            "
      ],
      "text/plain": [
       "<IPython.core.display.HTML object>"
      ]
     },
     "metadata": {},
     "output_type": "display_data"
    }
   ],
   "source": [
    "# Convert pandas DataFrames to GeoDataFrames with CRS set to 'epsg:4326'\n",
    "train = gpd.GeoDataFrame(train, crs='epsg:4326')\n",
    "test = gpd.GeoDataFrame(test, crs='epsg:4326')"
   ]
  },
  {
   "cell_type": "markdown",
   "metadata": {
    "id": "RsHE4ZpYg25J"
   },
   "source": [
    "**Concatenate Train and Test Data for Unified Processing**"
   ]
  },
  {
   "cell_type": "code",
   "execution_count": null,
   "metadata": {
    "colab": {
     "base_uri": "https://localhost:8080/",
     "height": 17
    },
    "id": "1Oq15hAGgp7l",
    "outputId": "dc927194-b24d-49ab-c744-77129ccb343c"
   },
   "outputs": [
    {
     "data": {
      "text/html": [
       "\n",
       "            <style>\n",
       "                .geemap-dark {\n",
       "                    --jp-widgets-color: white;\n",
       "                    --jp-widgets-label-color: white;\n",
       "                    --jp-ui-font-color1: white;\n",
       "                    --jp-layout-color2: #454545;\n",
       "                    background-color: #383838;\n",
       "                }\n",
       "\n",
       "                .geemap-dark .jupyter-button {\n",
       "                    --jp-layout-color3: #383838;\n",
       "                }\n",
       "\n",
       "                .geemap-colab {\n",
       "                    background-color: var(--colab-primary-surface-color, white);\n",
       "                }\n",
       "\n",
       "                .geemap-colab .jupyter-button {\n",
       "                    --jp-layout-color3: var(--colab-primary-surface-color, white);\n",
       "                }\n",
       "            </style>\n",
       "            "
      ],
      "text/plain": [
       "<IPython.core.display.HTML object>"
      ]
     },
     "metadata": {},
     "output_type": "display_data"
    }
   ],
   "source": [
    "# Concatenate train and test datasets into a single DataFrame for consistent processing\n",
    "# 'dataset' column distinguishes between train and test rows\n",
    "data = pd.concat(\n",
    "    [train.assign(dataset='train'), test.assign(dataset='test')]\n",
    ").reset_index(drop=True)\n"
   ]
  },
  {
   "cell_type": "markdown",
   "metadata": {
    "id": "q68bgnq2hJoM"
   },
   "source": [
    "**Scale Geometry Objects**"
   ]
  },
  {
   "cell_type": "code",
   "execution_count": null,
   "metadata": {
    "colab": {
     "base_uri": "https://localhost:8080/",
     "height": 17
    },
    "id": "WZPQN9JQgp3r",
    "outputId": "9bcd9c07-6ee9-40ff-d2e0-5729c913997a"
   },
   "outputs": [
    {
     "data": {
      "text/html": [
       "\n",
       "            <style>\n",
       "                .geemap-dark {\n",
       "                    --jp-widgets-color: white;\n",
       "                    --jp-widgets-label-color: white;\n",
       "                    --jp-ui-font-color1: white;\n",
       "                    --jp-layout-color2: #454545;\n",
       "                    background-color: #383838;\n",
       "                }\n",
       "\n",
       "                .geemap-dark .jupyter-button {\n",
       "                    --jp-layout-color3: #383838;\n",
       "                }\n",
       "\n",
       "                .geemap-colab {\n",
       "                    background-color: var(--colab-primary-surface-color, white);\n",
       "                }\n",
       "\n",
       "                .geemap-colab .jupyter-button {\n",
       "                    --jp-layout-color3: var(--colab-primary-surface-color, white);\n",
       "                }\n",
       "            </style>\n",
       "            "
      ],
      "text/plain": [
       "<IPython.core.display.HTML object>"
      ]
     },
     "metadata": {},
     "output_type": "display_data"
    }
   ],
   "source": [
    "# Function to scale each geometry around its centroid\n",
    "def scale_geometry(geometry, scale_factor):\n",
    "    \"\"\"\n",
    "    Scale a geometry object around its centroid.\n",
    "\n",
    "    Parameters:\n",
    "        geometry (shapely.geometry.base.BaseGeometry): Geometry to scale.\n",
    "        scale_factor (float): Factor by which to scale the geometry.\n",
    "\n",
    "    Returns:\n",
    "        shapely.geometry.base.BaseGeometry: Scaled geometry object.\n",
    "    \"\"\"\n",
    "    # Calculate centroid\n",
    "    centroid = geometry.centroid\n",
    "    # Translate geometry to origin\n",
    "    translated_geometry = translate(geometry, -centroid.x, -centroid.y)\n",
    "    # Scale geometry\n",
    "    scaled_geometry = scale(translated_geometry, xfact=scale_factor, yfact=scale_factor, origin=(0, 0))\n",
    "    # Translate back to the original centroid\n",
    "    return translate(scaled_geometry, centroid.x, centroid.y)"
   ]
  },
  {
   "cell_type": "code",
   "execution_count": null,
   "metadata": {
    "colab": {
     "base_uri": "https://localhost:8080/",
     "height": 17
    },
    "id": "U8jtkV5qgp1d",
    "outputId": "d489880b-91e2-49e9-f69b-54eea2c3509a"
   },
   "outputs": [
    {
     "data": {
      "text/html": [
       "\n",
       "            <style>\n",
       "                .geemap-dark {\n",
       "                    --jp-widgets-color: white;\n",
       "                    --jp-widgets-label-color: white;\n",
       "                    --jp-ui-font-color1: white;\n",
       "                    --jp-layout-color2: #454545;\n",
       "                    background-color: #383838;\n",
       "                }\n",
       "\n",
       "                .geemap-dark .jupyter-button {\n",
       "                    --jp-layout-color3: #383838;\n",
       "                }\n",
       "\n",
       "                .geemap-colab {\n",
       "                    background-color: var(--colab-primary-surface-color, white);\n",
       "                }\n",
       "\n",
       "                .geemap-colab .jupyter-button {\n",
       "                    --jp-layout-color3: var(--colab-primary-surface-color, white);\n",
       "                }\n",
       "            </style>\n",
       "            "
      ],
      "text/plain": [
       "<IPython.core.display.HTML object>"
      ]
     },
     "metadata": {},
     "output_type": "display_data"
    }
   ],
   "source": [
    "# Set the scaling factor\n",
    "scale_factor = 5\n",
    "\n",
    "# Apply the scaling function to each geometry in the data\n",
    "# This modifies each geometry in place by the defined scale factor\n",
    "data['geometry'] = data['geometry'].apply(scale_geometry, scale_factor=scale_factor)"
   ]
  },
  {
   "cell_type": "markdown",
   "metadata": {
    "id": "eCqHijZBhiCI"
   },
   "source": [
    "# Download Image Data"
   ]
  },
  {
   "cell_type": "markdown",
   "metadata": {
    "id": "RKoadIsZhouN"
   },
   "source": [
    "**Utils**"
   ]
  },
  {
   "cell_type": "code",
   "execution_count": null,
   "metadata": {
    "colab": {
     "base_uri": "https://localhost:8080/",
     "height": 17
    },
    "id": "ya4Ncfoghmfg",
    "outputId": "09245516-4364-4168-c735-44cba33ce06d"
   },
   "outputs": [
    {
     "data": {
      "text/html": [
       "\n",
       "            <style>\n",
       "                .geemap-dark {\n",
       "                    --jp-widgets-color: white;\n",
       "                    --jp-widgets-label-color: white;\n",
       "                    --jp-ui-font-color1: white;\n",
       "                    --jp-layout-color2: #454545;\n",
       "                    background-color: #383838;\n",
       "                }\n",
       "\n",
       "                .geemap-dark .jupyter-button {\n",
       "                    --jp-layout-color3: #383838;\n",
       "                }\n",
       "\n",
       "                .geemap-colab {\n",
       "                    background-color: var(--colab-primary-surface-color, white);\n",
       "                }\n",
       "\n",
       "                .geemap-colab .jupyter-button {\n",
       "                    --jp-layout-color3: var(--colab-primary-surface-color, white);\n",
       "                }\n",
       "            </style>\n",
       "            "
      ],
      "text/plain": [
       "<IPython.core.display.HTML object>"
      ]
     },
     "metadata": {},
     "output_type": "display_data"
    }
   ],
   "source": [
    "# Function to ensure date format is correct\n",
    "def format_date(date_str):\n",
    "    \"\"\"Convert date string to 'YYYY-MM-DD' format.\"\"\"\n",
    "    try:\n",
    "        return datetime.strptime(date_str, '%d-%m-%Y').strftime('%Y-%m-%d')\n",
    "    except ValueError:\n",
    "        print(f\"Error: Invalid date format for {date_str}. Expected 'DD-MM-YYYY'.\")\n",
    "        return None"
   ]
  },
  {
   "cell_type": "markdown",
   "metadata": {
    "id": "O_o7YLCdh0EP"
   },
   "source": [
    "**Convert GeoDataFrame to Earth Engine FeatureCollection**"
   ]
  },
  {
   "cell_type": "code",
   "execution_count": null,
   "metadata": {
    "colab": {
     "base_uri": "https://localhost:8080/",
     "height": 17
    },
    "id": "NfE6u6x2hmdR",
    "outputId": "54f60fdc-5319-4f71-84a6-c2ecdd9d416a"
   },
   "outputs": [
    {
     "data": {
      "text/html": [
       "\n",
       "            <style>\n",
       "                .geemap-dark {\n",
       "                    --jp-widgets-color: white;\n",
       "                    --jp-widgets-label-color: white;\n",
       "                    --jp-ui-font-color1: white;\n",
       "                    --jp-layout-color2: #454545;\n",
       "                    background-color: #383838;\n",
       "                }\n",
       "\n",
       "                .geemap-dark .jupyter-button {\n",
       "                    --jp-layout-color3: #383838;\n",
       "                }\n",
       "\n",
       "                .geemap-colab {\n",
       "                    background-color: var(--colab-primary-surface-color, white);\n",
       "                }\n",
       "\n",
       "                .geemap-colab .jupyter-button {\n",
       "                    --jp-layout-color3: var(--colab-primary-surface-color, white);\n",
       "                }\n",
       "            </style>\n",
       "            "
      ],
      "text/plain": [
       "<IPython.core.display.HTML object>"
      ]
     },
     "metadata": {},
     "output_type": "display_data"
    }
   ],
   "source": [
    "# Function to convert a GeoDataFrame to Google Earth Engine FeatureCollection\n",
    "def gdf_to_gee(gdf):\n",
    "    \"\"\"Converts a GeoDataFrame to an Earth Engine FeatureCollection.\"\"\"\n",
    "    features = []\n",
    "    for _, row in gdf.iterrows():\n",
    "        geom = row['geometry'].__geo_interface__  # Convert geometry to GeoJSON format\n",
    "        feature = ee.Feature(ee.Geometry(geom), row.to_dict())  # Create an EE Feature\n",
    "        features.append(feature)\n",
    "    return ee.FeatureCollection(features)\n",
    "\n",
    "# Convert the entire dataset GeoDataFrame to a FeatureCollection for GEE\n",
    "gee_feature_collection = gdf_to_gee(data)"
   ]
  },
  {
   "cell_type": "markdown",
   "metadata": {
    "id": "cGz3vnHdh8qk"
   },
   "source": [
    "**Initialize Earth Engine and Set Up Directories**"
   ]
  },
  {
   "cell_type": "code",
   "execution_count": null,
   "metadata": {
    "colab": {
     "base_uri": "https://localhost:8080/",
     "height": 17
    },
    "id": "U-R1CIGthmat",
    "outputId": "933796b8-9ab3-4fec-c121-270d3e48003a"
   },
   "outputs": [
    {
     "data": {
      "text/html": [
       "\n",
       "            <style>\n",
       "                .geemap-dark {\n",
       "                    --jp-widgets-color: white;\n",
       "                    --jp-widgets-label-color: white;\n",
       "                    --jp-ui-font-color1: white;\n",
       "                    --jp-layout-color2: #454545;\n",
       "                    background-color: #383838;\n",
       "                }\n",
       "\n",
       "                .geemap-dark .jupyter-button {\n",
       "                    --jp-layout-color3: #383838;\n",
       "                }\n",
       "\n",
       "                .geemap-colab {\n",
       "                    background-color: var(--colab-primary-surface-color, white);\n",
       "                }\n",
       "\n",
       "                .geemap-colab .jupyter-button {\n",
       "                    --jp-layout-color3: var(--colab-primary-surface-color, white);\n",
       "                }\n",
       "            </style>\n",
       "            "
      ],
      "text/plain": [
       "<IPython.core.display.HTML object>"
      ]
     },
     "metadata": {},
     "output_type": "display_data"
    }
   ],
   "source": [
    "# if you already downloaded the data.\n",
    "donwload = False\n",
    "\n",
    "# Initialize Earth Engine\n",
    "ee.Initialize()\n",
    "\n",
    "# Remove existing 'downloads' folder if it exists\n",
    "if os.path.exists('downloads'):\n",
    "    os.system('rm -rf downloads')\n",
    "\n",
    "# Ensure the output directory exists\n",
    "output_folder = 'downloads'\n",
    "os.makedirs(output_folder, exist_ok=True)"
   ]
  },
  {
   "cell_type": "markdown",
   "metadata": {
    "id": "SbyHxksmiBDA"
   },
   "source": [
    "**Download from Earth Engine**"
   ]
  },
  {
   "cell_type": "code",
   "execution_count": null,
   "metadata": {
    "colab": {
     "base_uri": "https://localhost:8080/",
     "height": 17
    },
    "id": "QSJYTlGgh6--",
    "outputId": "0508a669-7ea8-4c47-ac34-f608b434e2ef"
   },
   "outputs": [
    {
     "data": {
      "text/html": [
       "\n",
       "            <style>\n",
       "                .geemap-dark {\n",
       "                    --jp-widgets-color: white;\n",
       "                    --jp-widgets-label-color: white;\n",
       "                    --jp-ui-font-color1: white;\n",
       "                    --jp-layout-color2: #454545;\n",
       "                    background-color: #383838;\n",
       "                }\n",
       "\n",
       "                .geemap-dark .jupyter-button {\n",
       "                    --jp-layout-color3: #383838;\n",
       "                }\n",
       "\n",
       "                .geemap-colab {\n",
       "                    background-color: var(--colab-primary-surface-color, white);\n",
       "                }\n",
       "\n",
       "                .geemap-colab .jupyter-button {\n",
       "                    --jp-layout-color3: var(--colab-primary-surface-color, white);\n",
       "                }\n",
       "            </style>\n",
       "            "
      ],
      "text/plain": [
       "<IPython.core.display.HTML object>"
      ]
     },
     "metadata": {},
     "output_type": "display_data"
    }
   ],
   "source": [
    "# Function to download RGB images from Earth Engine\n",
    "def download_rgb_image(collection_name, bands, start_date, end_date, region, output_folder='downloads'):\n",
    "    \"\"\"Download RGB bands from a GEE collection filtered by date and region.\"\"\"\n",
    "    # Load the image collection, filter by date, and clip to region\n",
    "    collection = ee.ImageCollection(collection_name).filterDate(start_date, end_date).filterBounds(region)\n",
    "    image = collection.sort('system:time_start', False).first().select(bands).clip(region)  # Most recent image\n",
    "\n",
    "    # Define unique filename based on image dates\n",
    "    image_id = image.id().getInfo() or f'image_{start_date}_{end_date}'\n",
    "    image_name = f'{output_folder}/{image_id}_RGB_{start_date}_{end_date}.tif'\n",
    "\n",
    "    # Export the image to a GeoTIFF file\n",
    "    geemap.ee_export_image(\n",
    "        image,\n",
    "        filename=image_name,\n",
    "        scale=10,  # Sentinel-2 resolution in meters\n",
    "        region=region,\n",
    "        file_per_band=False,  # Save as a multi-band TIFF\n",
    "        crs='EPSG:4326'\n",
    "    )\n",
    "    print(f\"Downloaded: {image_name}\")\n",
    "    return image_name"
   ]
  },
  {
   "cell_type": "code",
   "execution_count": null,
   "metadata": {
    "colab": {
     "base_uri": "https://localhost:8080/",
     "height": 17
    },
    "id": "VePFJ8GQh68G",
    "outputId": "3db33166-9de4-4f77-d3b5-37a4be10a94c"
   },
   "outputs": [
    {
     "data": {
      "text/html": [
       "\n",
       "            <style>\n",
       "                .geemap-dark {\n",
       "                    --jp-widgets-color: white;\n",
       "                    --jp-widgets-label-color: white;\n",
       "                    --jp-ui-font-color1: white;\n",
       "                    --jp-layout-color2: #454545;\n",
       "                    background-color: #383838;\n",
       "                }\n",
       "\n",
       "                .geemap-dark .jupyter-button {\n",
       "                    --jp-layout-color3: #383838;\n",
       "                }\n",
       "\n",
       "                .geemap-colab {\n",
       "                    background-color: var(--colab-primary-surface-color, white);\n",
       "                }\n",
       "\n",
       "                .geemap-colab .jupyter-button {\n",
       "                    --jp-layout-color3: var(--colab-primary-surface-color, white);\n",
       "                }\n",
       "            </style>\n",
       "            "
      ],
      "text/plain": [
       "<IPython.core.display.HTML object>"
      ]
     },
     "metadata": {},
     "output_type": "display_data"
    }
   ],
   "source": [
    "# Function to process each row in the dataset for image download\n",
    "def process_row(index, row):\n",
    "    # Format start and end dates\n",
    "    start_date = format_date(row['SDate'])\n",
    "    end_date = format_date(row['HDate'])\n",
    "\n",
    "    # Skip rows with invalid dates\n",
    "    if not start_date or not end_date:\n",
    "        print(f\"Skipping entry due to invalid dates: SDate={row['SDate']}, HDate={row['HDate']}\")\n",
    "        return index, None\n",
    "\n",
    "    # Extract and check geometry\n",
    "    region_geometry = row['geometry']\n",
    "    district = row['District']\n",
    "\n",
    "    # Verify valid geometry and convert it to EE format\n",
    "    if region_geometry.is_empty:\n",
    "        print(f\"Skipping entry due to empty geometry for District: {district}\")\n",
    "        return index, None\n",
    "\n",
    "    # Convert geometry type to EE compatible format\n",
    "    if region_geometry.geom_type == 'Polygon':\n",
    "        region = ee.Geometry.Polygon(region_geometry.__geo_interface__['coordinates'])\n",
    "    elif region_geometry.geom_type == 'MultiPolygon':\n",
    "        coords = [polygon.exterior.coords[:] for polygon in region_geometry.geoms]\n",
    "        region = ee.Geometry.MultiPolygon(coords)\n",
    "    else:\n",
    "        print(f\"Skipping unsupported geometry type: {region_geometry.geom_type} for District: {district}\")\n",
    "        return index, None\n",
    "\n",
    "    # Define Sentinel-2 collection and bands\n",
    "    image_collection_name = 'COPERNICUS/S2'\n",
    "    bands = ['B4', 'B3', 'B2', 'B8', 'B5', 'B6', 'B7', 'B8A', 'B11', 'B12']\n",
    "\n",
    "    # Attempt to download the image\n",
    "    try:\n",
    "        image_file = download_rgb_image(image_collection_name, bands, start_date, end_date, region, output_folder)\n",
    "        return index, image_file\n",
    "    except Exception as e:\n",
    "        print(f\"Error processing entry for District {district}: {e}\")\n",
    "        return index, None"
   ]
  },
  {
   "cell_type": "code",
   "execution_count": null,
   "metadata": {
    "colab": {
     "base_uri": "https://localhost:8080/",
     "height": 17
    },
    "id": "wk2LzuPmh63-",
    "outputId": "73c1775b-2a6f-41ef-c79a-17365f451333"
   },
   "outputs": [
    {
     "data": {
      "text/html": [
       "\n",
       "            <style>\n",
       "                .geemap-dark {\n",
       "                    --jp-widgets-color: white;\n",
       "                    --jp-widgets-label-color: white;\n",
       "                    --jp-ui-font-color1: white;\n",
       "                    --jp-layout-color2: #454545;\n",
       "                    background-color: #383838;\n",
       "                }\n",
       "\n",
       "                .geemap-dark .jupyter-button {\n",
       "                    --jp-layout-color3: #383838;\n",
       "                }\n",
       "\n",
       "                .geemap-colab {\n",
       "                    background-color: var(--colab-primary-surface-color, white);\n",
       "                }\n",
       "\n",
       "                .geemap-colab .jupyter-button {\n",
       "                    --jp-layout-color3: var(--colab-primary-surface-color, white);\n",
       "                }\n",
       "            </style>\n",
       "            "
      ],
      "text/plain": [
       "<IPython.core.display.HTML object>"
      ]
     },
     "metadata": {},
     "output_type": "display_data"
    }
   ],
   "source": [
    "if donwload:\n",
    "  # Execute image downloads for each row in parallel to improve performance\n",
    "  with ThreadPoolExecutor(max_workers=4) as executor:  # Adjust the number of workers as needed\n",
    "      futures = [executor.submit(process_row, index, row) for index, row in data.iterrows()]\n",
    "      for future in as_completed(futures):\n",
    "          index, image_file = future.result()\n",
    "          if image_file:\n",
    "              data.at[index, 'tif_path'] = image_file  # Store the downloaded file path\n",
    "else:\n",
    "  # Load existing data with image paths if downloads are not required\n",
    "  os.system('cp -r /content/drive/MyDrive/EarthEngineImages/downloads .')\n",
    "  data_path = \"/content/EarthEngineImages/data.csv\"\n",
    "\n",
    "  data = pd.read_csv(data_path)"
   ]
  },
  {
   "cell_type": "code",
   "execution_count": null,
   "metadata": {
    "colab": {
     "base_uri": "https://localhost:8080/",
     "height": 446
    },
    "id": "ImSp8720h61q",
    "outputId": "3292c3cb-8cfa-449c-87e4-99148140d6fe"
   },
   "outputs": [
    {
     "data": {
      "text/html": [
       "\n",
       "            <style>\n",
       "                .geemap-dark {\n",
       "                    --jp-widgets-color: white;\n",
       "                    --jp-widgets-label-color: white;\n",
       "                    --jp-ui-font-color1: white;\n",
       "                    --jp-layout-color2: #454545;\n",
       "                    background-color: #383838;\n",
       "                }\n",
       "\n",
       "                .geemap-dark .jupyter-button {\n",
       "                    --jp-layout-color3: #383838;\n",
       "                }\n",
       "\n",
       "                .geemap-colab {\n",
       "                    background-color: var(--colab-primary-surface-color, white);\n",
       "                }\n",
       "\n",
       "                .geemap-colab .jupyter-button {\n",
       "                    --jp-layout-color3: var(--colab-primary-surface-color, white);\n",
       "                }\n",
       "            </style>\n",
       "            "
      ],
      "text/plain": [
       "<IPython.core.display.HTML object>"
      ]
     },
     "metadata": {},
     "output_type": "display_data"
    },
    {
     "data": {
      "application/vnd.google.colaboratory.intrinsic+json": {
       "type": "dataframe",
       "variable_name": "data"
      },
      "text/html": [
       "\n",
       "  <div id=\"df-1851af77-013b-4147-9ee6-5cc0ad935bdc\" class=\"colab-df-container\">\n",
       "    <div>\n",
       "<style scoped>\n",
       "    .dataframe tbody tr th:only-of-type {\n",
       "        vertical-align: middle;\n",
       "    }\n",
       "\n",
       "    .dataframe tbody tr th {\n",
       "        vertical-align: top;\n",
       "    }\n",
       "\n",
       "    .dataframe thead th {\n",
       "        text-align: right;\n",
       "    }\n",
       "</style>\n",
       "<table border=\"1\" class=\"dataframe\">\n",
       "  <thead>\n",
       "    <tr style=\"text-align: right;\">\n",
       "      <th></th>\n",
       "      <th>FarmID</th>\n",
       "      <th>category</th>\n",
       "      <th>Crop</th>\n",
       "      <th>State</th>\n",
       "      <th>District</th>\n",
       "      <th>Sub-District</th>\n",
       "      <th>SDate</th>\n",
       "      <th>HDate</th>\n",
       "      <th>CropCoveredArea</th>\n",
       "      <th>CHeight</th>\n",
       "      <th>...</th>\n",
       "      <th>CTransp</th>\n",
       "      <th>IrriType</th>\n",
       "      <th>IrriSource</th>\n",
       "      <th>IrriCount</th>\n",
       "      <th>WaterCov</th>\n",
       "      <th>ExpYield</th>\n",
       "      <th>Season</th>\n",
       "      <th>geometry</th>\n",
       "      <th>dataset</th>\n",
       "      <th>tif_path</th>\n",
       "    </tr>\n",
       "  </thead>\n",
       "  <tbody>\n",
       "    <tr>\n",
       "      <th>0</th>\n",
       "      <td>1326576</td>\n",
       "      <td>Healthy</td>\n",
       "      <td>Paddy</td>\n",
       "      <td>Telangana</td>\n",
       "      <td>Medak</td>\n",
       "      <td>Kulcharam</td>\n",
       "      <td>25-11-2023</td>\n",
       "      <td>14-04-2024</td>\n",
       "      <td>97</td>\n",
       "      <td>54</td>\n",
       "      <td>...</td>\n",
       "      <td>Transplanting</td>\n",
       "      <td>Flood</td>\n",
       "      <td>Groundwater</td>\n",
       "      <td>4</td>\n",
       "      <td>87</td>\n",
       "      <td>17</td>\n",
       "      <td>Rabi</td>\n",
       "      <td>POLYGON ((78.18079255482755 17.978971746424413...</td>\n",
       "      <td>train</td>\n",
       "      <td>/kaggle/input/sentineltimeseriesdata/SentinelT...</td>\n",
       "    </tr>\n",
       "    <tr>\n",
       "      <th>1</th>\n",
       "      <td>1326577</td>\n",
       "      <td>Healthy</td>\n",
       "      <td>Paddy</td>\n",
       "      <td>Telangana</td>\n",
       "      <td>Medak</td>\n",
       "      <td>Kulcharam</td>\n",
       "      <td>13-11-2023</td>\n",
       "      <td>26-04-2024</td>\n",
       "      <td>82</td>\n",
       "      <td>58</td>\n",
       "      <td>...</td>\n",
       "      <td>Transplanting</td>\n",
       "      <td>Flood</td>\n",
       "      <td>Canal</td>\n",
       "      <td>5</td>\n",
       "      <td>94</td>\n",
       "      <td>15</td>\n",
       "      <td>Rabi</td>\n",
       "      <td>POLYGON ((78.17483419891283 17.981508840879556...</td>\n",
       "      <td>train</td>\n",
       "      <td>/kaggle/input/sentineltimeseriesdata/SentinelT...</td>\n",
       "    </tr>\n",
       "    <tr>\n",
       "      <th>2</th>\n",
       "      <td>1326578</td>\n",
       "      <td>Healthy</td>\n",
       "      <td>Paddy</td>\n",
       "      <td>Telangana</td>\n",
       "      <td>Medak</td>\n",
       "      <td>Kulcharam</td>\n",
       "      <td>19-12-2023</td>\n",
       "      <td>28-04-2024</td>\n",
       "      <td>92</td>\n",
       "      <td>91</td>\n",
       "      <td>...</td>\n",
       "      <td>Transplanting</td>\n",
       "      <td>Flood</td>\n",
       "      <td>Canal</td>\n",
       "      <td>3</td>\n",
       "      <td>99</td>\n",
       "      <td>20</td>\n",
       "      <td>Rabi</td>\n",
       "      <td>POLYGON ((78.16888476438905 17.976727511659835...</td>\n",
       "      <td>train</td>\n",
       "      <td>/kaggle/input/sentineltimeseriesdata/SentinelT...</td>\n",
       "    </tr>\n",
       "    <tr>\n",
       "      <th>3</th>\n",
       "      <td>1331836</td>\n",
       "      <td>Diseased</td>\n",
       "      <td>Paddy</td>\n",
       "      <td>Telangana</td>\n",
       "      <td>Medak</td>\n",
       "      <td>Kulcharam</td>\n",
       "      <td>11-02-2023</td>\n",
       "      <td>04-11-2024</td>\n",
       "      <td>91</td>\n",
       "      <td>52</td>\n",
       "      <td>...</td>\n",
       "      <td>Transplanting</td>\n",
       "      <td>Flood</td>\n",
       "      <td>Canal</td>\n",
       "      <td>5</td>\n",
       "      <td>92</td>\n",
       "      <td>16</td>\n",
       "      <td>Rabi</td>\n",
       "      <td>POLYGON ((78.16821795882959 17.974690113471414...</td>\n",
       "      <td>train</td>\n",
       "      <td>/kaggle/input/sentineltimeseriesdata/SentinelT...</td>\n",
       "    </tr>\n",
       "    <tr>\n",
       "      <th>4</th>\n",
       "      <td>1326579</td>\n",
       "      <td>Diseased</td>\n",
       "      <td>Paddy</td>\n",
       "      <td>Telangana</td>\n",
       "      <td>Medak</td>\n",
       "      <td>Kulcharam</td>\n",
       "      <td>12-12-2023</td>\n",
       "      <td>19-05-2024</td>\n",
       "      <td>94</td>\n",
       "      <td>55</td>\n",
       "      <td>...</td>\n",
       "      <td>Transplanting</td>\n",
       "      <td>Flood</td>\n",
       "      <td>Canal</td>\n",
       "      <td>5</td>\n",
       "      <td>97</td>\n",
       "      <td>20</td>\n",
       "      <td>Rabi</td>\n",
       "      <td>POLYGON ((78.17244459940454 17.969620948965225...</td>\n",
       "      <td>train</td>\n",
       "      <td>/kaggle/input/sentineltimeseriesdata/SentinelT...</td>\n",
       "    </tr>\n",
       "  </tbody>\n",
       "</table>\n",
       "<p>5 rows × 22 columns</p>\n",
       "</div>\n",
       "    <div class=\"colab-df-buttons\">\n",
       "\n",
       "  <div class=\"colab-df-container\">\n",
       "    <button class=\"colab-df-convert\" onclick=\"convertToInteractive('df-1851af77-013b-4147-9ee6-5cc0ad935bdc')\"\n",
       "            title=\"Convert this dataframe to an interactive table.\"\n",
       "            style=\"display:none;\">\n",
       "\n",
       "  <svg xmlns=\"http://www.w3.org/2000/svg\" height=\"24px\" viewBox=\"0 -960 960 960\">\n",
       "    <path d=\"M120-120v-720h720v720H120Zm60-500h600v-160H180v160Zm220 220h160v-160H400v160Zm0 220h160v-160H400v160ZM180-400h160v-160H180v160Zm440 0h160v-160H620v160ZM180-180h160v-160H180v160Zm440 0h160v-160H620v160Z\"/>\n",
       "  </svg>\n",
       "    </button>\n",
       "\n",
       "  <style>\n",
       "    .colab-df-container {\n",
       "      display:flex;\n",
       "      gap: 12px;\n",
       "    }\n",
       "\n",
       "    .colab-df-convert {\n",
       "      background-color: #E8F0FE;\n",
       "      border: none;\n",
       "      border-radius: 50%;\n",
       "      cursor: pointer;\n",
       "      display: none;\n",
       "      fill: #1967D2;\n",
       "      height: 32px;\n",
       "      padding: 0 0 0 0;\n",
       "      width: 32px;\n",
       "    }\n",
       "\n",
       "    .colab-df-convert:hover {\n",
       "      background-color: #E2EBFA;\n",
       "      box-shadow: 0px 1px 2px rgba(60, 64, 67, 0.3), 0px 1px 3px 1px rgba(60, 64, 67, 0.15);\n",
       "      fill: #174EA6;\n",
       "    }\n",
       "\n",
       "    .colab-df-buttons div {\n",
       "      margin-bottom: 4px;\n",
       "    }\n",
       "\n",
       "    [theme=dark] .colab-df-convert {\n",
       "      background-color: #3B4455;\n",
       "      fill: #D2E3FC;\n",
       "    }\n",
       "\n",
       "    [theme=dark] .colab-df-convert:hover {\n",
       "      background-color: #434B5C;\n",
       "      box-shadow: 0px 1px 3px 1px rgba(0, 0, 0, 0.15);\n",
       "      filter: drop-shadow(0px 1px 2px rgba(0, 0, 0, 0.3));\n",
       "      fill: #FFFFFF;\n",
       "    }\n",
       "  </style>\n",
       "\n",
       "    <script>\n",
       "      const buttonEl =\n",
       "        document.querySelector('#df-1851af77-013b-4147-9ee6-5cc0ad935bdc button.colab-df-convert');\n",
       "      buttonEl.style.display =\n",
       "        google.colab.kernel.accessAllowed ? 'block' : 'none';\n",
       "\n",
       "      async function convertToInteractive(key) {\n",
       "        const element = document.querySelector('#df-1851af77-013b-4147-9ee6-5cc0ad935bdc');\n",
       "        const dataTable =\n",
       "          await google.colab.kernel.invokeFunction('convertToInteractive',\n",
       "                                                    [key], {});\n",
       "        if (!dataTable) return;\n",
       "\n",
       "        const docLinkHtml = 'Like what you see? Visit the ' +\n",
       "          '<a target=\"_blank\" href=https://colab.research.google.com/notebooks/data_table.ipynb>data table notebook</a>'\n",
       "          + ' to learn more about interactive tables.';\n",
       "        element.innerHTML = '';\n",
       "        dataTable['output_type'] = 'display_data';\n",
       "        await google.colab.output.renderOutput(dataTable, element);\n",
       "        const docLink = document.createElement('div');\n",
       "        docLink.innerHTML = docLinkHtml;\n",
       "        element.appendChild(docLink);\n",
       "      }\n",
       "    </script>\n",
       "  </div>\n",
       "\n",
       "\n",
       "<div id=\"df-8c3eeac0-5eb5-4335-9140-3b51fa8f24a9\">\n",
       "  <button class=\"colab-df-quickchart\" onclick=\"quickchart('df-8c3eeac0-5eb5-4335-9140-3b51fa8f24a9')\"\n",
       "            title=\"Suggest charts\"\n",
       "            style=\"display:none;\">\n",
       "\n",
       "<svg xmlns=\"http://www.w3.org/2000/svg\" height=\"24px\"viewBox=\"0 0 24 24\"\n",
       "     width=\"24px\">\n",
       "    <g>\n",
       "        <path d=\"M19 3H5c-1.1 0-2 .9-2 2v14c0 1.1.9 2 2 2h14c1.1 0 2-.9 2-2V5c0-1.1-.9-2-2-2zM9 17H7v-7h2v7zm4 0h-2V7h2v10zm4 0h-2v-4h2v4z\"/>\n",
       "    </g>\n",
       "</svg>\n",
       "  </button>\n",
       "\n",
       "<style>\n",
       "  .colab-df-quickchart {\n",
       "      --bg-color: #E8F0FE;\n",
       "      --fill-color: #1967D2;\n",
       "      --hover-bg-color: #E2EBFA;\n",
       "      --hover-fill-color: #174EA6;\n",
       "      --disabled-fill-color: #AAA;\n",
       "      --disabled-bg-color: #DDD;\n",
       "  }\n",
       "\n",
       "  [theme=dark] .colab-df-quickchart {\n",
       "      --bg-color: #3B4455;\n",
       "      --fill-color: #D2E3FC;\n",
       "      --hover-bg-color: #434B5C;\n",
       "      --hover-fill-color: #FFFFFF;\n",
       "      --disabled-bg-color: #3B4455;\n",
       "      --disabled-fill-color: #666;\n",
       "  }\n",
       "\n",
       "  .colab-df-quickchart {\n",
       "    background-color: var(--bg-color);\n",
       "    border: none;\n",
       "    border-radius: 50%;\n",
       "    cursor: pointer;\n",
       "    display: none;\n",
       "    fill: var(--fill-color);\n",
       "    height: 32px;\n",
       "    padding: 0;\n",
       "    width: 32px;\n",
       "  }\n",
       "\n",
       "  .colab-df-quickchart:hover {\n",
       "    background-color: var(--hover-bg-color);\n",
       "    box-shadow: 0 1px 2px rgba(60, 64, 67, 0.3), 0 1px 3px 1px rgba(60, 64, 67, 0.15);\n",
       "    fill: var(--button-hover-fill-color);\n",
       "  }\n",
       "\n",
       "  .colab-df-quickchart-complete:disabled,\n",
       "  .colab-df-quickchart-complete:disabled:hover {\n",
       "    background-color: var(--disabled-bg-color);\n",
       "    fill: var(--disabled-fill-color);\n",
       "    box-shadow: none;\n",
       "  }\n",
       "\n",
       "  .colab-df-spinner {\n",
       "    border: 2px solid var(--fill-color);\n",
       "    border-color: transparent;\n",
       "    border-bottom-color: var(--fill-color);\n",
       "    animation:\n",
       "      spin 1s steps(1) infinite;\n",
       "  }\n",
       "\n",
       "  @keyframes spin {\n",
       "    0% {\n",
       "      border-color: transparent;\n",
       "      border-bottom-color: var(--fill-color);\n",
       "      border-left-color: var(--fill-color);\n",
       "    }\n",
       "    20% {\n",
       "      border-color: transparent;\n",
       "      border-left-color: var(--fill-color);\n",
       "      border-top-color: var(--fill-color);\n",
       "    }\n",
       "    30% {\n",
       "      border-color: transparent;\n",
       "      border-left-color: var(--fill-color);\n",
       "      border-top-color: var(--fill-color);\n",
       "      border-right-color: var(--fill-color);\n",
       "    }\n",
       "    40% {\n",
       "      border-color: transparent;\n",
       "      border-right-color: var(--fill-color);\n",
       "      border-top-color: var(--fill-color);\n",
       "    }\n",
       "    60% {\n",
       "      border-color: transparent;\n",
       "      border-right-color: var(--fill-color);\n",
       "    }\n",
       "    80% {\n",
       "      border-color: transparent;\n",
       "      border-right-color: var(--fill-color);\n",
       "      border-bottom-color: var(--fill-color);\n",
       "    }\n",
       "    90% {\n",
       "      border-color: transparent;\n",
       "      border-bottom-color: var(--fill-color);\n",
       "    }\n",
       "  }\n",
       "</style>\n",
       "\n",
       "  <script>\n",
       "    async function quickchart(key) {\n",
       "      const quickchartButtonEl =\n",
       "        document.querySelector('#' + key + ' button');\n",
       "      quickchartButtonEl.disabled = true;  // To prevent multiple clicks.\n",
       "      quickchartButtonEl.classList.add('colab-df-spinner');\n",
       "      try {\n",
       "        const charts = await google.colab.kernel.invokeFunction(\n",
       "            'suggestCharts', [key], {});\n",
       "      } catch (error) {\n",
       "        console.error('Error during call to suggestCharts:', error);\n",
       "      }\n",
       "      quickchartButtonEl.classList.remove('colab-df-spinner');\n",
       "      quickchartButtonEl.classList.add('colab-df-quickchart-complete');\n",
       "    }\n",
       "    (() => {\n",
       "      let quickchartButtonEl =\n",
       "        document.querySelector('#df-8c3eeac0-5eb5-4335-9140-3b51fa8f24a9 button');\n",
       "      quickchartButtonEl.style.display =\n",
       "        google.colab.kernel.accessAllowed ? 'block' : 'none';\n",
       "    })();\n",
       "  </script>\n",
       "</div>\n",
       "\n",
       "    </div>\n",
       "  </div>\n"
      ],
      "text/plain": [
       "    FarmID  category   Crop      State District Sub-District       SDate  \\\n",
       "0  1326576   Healthy  Paddy  Telangana    Medak    Kulcharam  25-11-2023   \n",
       "1  1326577   Healthy  Paddy  Telangana    Medak    Kulcharam  13-11-2023   \n",
       "2  1326578   Healthy  Paddy  Telangana    Medak    Kulcharam  19-12-2023   \n",
       "3  1331836  Diseased  Paddy  Telangana    Medak    Kulcharam  11-02-2023   \n",
       "4  1326579  Diseased  Paddy  Telangana    Medak    Kulcharam  12-12-2023   \n",
       "\n",
       "        HDate  CropCoveredArea  CHeight  ...        CTransp IrriType  \\\n",
       "0  14-04-2024               97       54  ...  Transplanting    Flood   \n",
       "1  26-04-2024               82       58  ...  Transplanting    Flood   \n",
       "2  28-04-2024               92       91  ...  Transplanting    Flood   \n",
       "3  04-11-2024               91       52  ...  Transplanting    Flood   \n",
       "4  19-05-2024               94       55  ...  Transplanting    Flood   \n",
       "\n",
       "    IrriSource IrriCount WaterCov  ExpYield  Season  \\\n",
       "0  Groundwater         4       87        17    Rabi   \n",
       "1        Canal         5       94        15    Rabi   \n",
       "2        Canal         3       99        20    Rabi   \n",
       "3        Canal         5       92        16    Rabi   \n",
       "4        Canal         5       97        20    Rabi   \n",
       "\n",
       "                                            geometry dataset  \\\n",
       "0  POLYGON ((78.18079255482755 17.978971746424413...   train   \n",
       "1  POLYGON ((78.17483419891283 17.981508840879556...   train   \n",
       "2  POLYGON ((78.16888476438905 17.976727511659835...   train   \n",
       "3  POLYGON ((78.16821795882959 17.974690113471414...   train   \n",
       "4  POLYGON ((78.17244459940454 17.969620948965225...   train   \n",
       "\n",
       "                                            tif_path  \n",
       "0  /kaggle/input/sentineltimeseriesdata/SentinelT...  \n",
       "1  /kaggle/input/sentineltimeseriesdata/SentinelT...  \n",
       "2  /kaggle/input/sentineltimeseriesdata/SentinelT...  \n",
       "3  /kaggle/input/sentineltimeseriesdata/SentinelT...  \n",
       "4  /kaggle/input/sentineltimeseriesdata/SentinelT...  \n",
       "\n",
       "[5 rows x 22 columns]"
      ]
     },
     "execution_count": 27,
     "metadata": {},
     "output_type": "execute_result"
    }
   ],
   "source": [
    "data.head()"
   ]
  },
  {
   "cell_type": "markdown",
   "metadata": {
    "id": "x3G_3P6FjjLD"
   },
   "source": [
    "# Visualization"
   ]
  },
  {
   "cell_type": "code",
   "execution_count": null,
   "metadata": {
    "colab": {
     "base_uri": "https://localhost:8080/",
     "height": 17
    },
    "id": "QZTI_3tA9LbG",
    "outputId": "0482e7c8-ff95-48a5-b095-23777c7fea88"
   },
   "outputs": [
    {
     "data": {
      "text/html": [
       "\n",
       "            <style>\n",
       "                .geemap-dark {\n",
       "                    --jp-widgets-color: white;\n",
       "                    --jp-widgets-label-color: white;\n",
       "                    --jp-ui-font-color1: white;\n",
       "                    --jp-layout-color2: #454545;\n",
       "                    background-color: #383838;\n",
       "                }\n",
       "\n",
       "                .geemap-dark .jupyter-button {\n",
       "                    --jp-layout-color3: #383838;\n",
       "                }\n",
       "\n",
       "                .geemap-colab {\n",
       "                    background-color: var(--colab-primary-surface-color, white);\n",
       "                }\n",
       "\n",
       "                .geemap-colab .jupyter-button {\n",
       "                    --jp-layout-color3: var(--colab-primary-surface-color, white);\n",
       "                }\n",
       "            </style>\n",
       "            "
      ],
      "text/plain": [
       "<IPython.core.display.HTML object>"
      ]
     },
     "metadata": {},
     "output_type": "display_data"
    }
   ],
   "source": [
    "# Function to scale pixel values to the 0–255 range for better visualization\n",
    "def scale_band(band):\n",
    "    \"\"\"\n",
    "    Scales pixel values of a single band to the 0-255 range.\n",
    "\n",
    "    Parameters:\n",
    "    - band: np.array, pixel values of the band\n",
    "\n",
    "    Returns:\n",
    "    - np.array, scaled pixel values in the 0-255 range\n",
    "    \"\"\"\n",
    "    band = band.astype(np.float32)  # Ensure values are in float for scaling\n",
    "    return 255 * (band - np.min(band)) / (np.max(band) - np.min(band))  # Scale to 0–255\n",
    "\n",
    "# Function to visualize RGB image with scaling, contrast adjustments, and optional gamma correction\n",
    "def visualize_rgb_image(file_path, gamma=0.6, contrast_stretch=True):\n",
    "    \"\"\"\n",
    "    Visualize an RGB image using matplotlib with scaling, optional gamma correction, and contrast stretching.\n",
    "\n",
    "    Parameters:\n",
    "    - file_path: str, path to the RGB image file (GeoTIFF)\n",
    "    - gamma: float, gamma correction factor (default=0.6)\n",
    "    - contrast_stretch: bool, whether to apply contrast stretching (default=True)\n",
    "    \"\"\"\n",
    "    # Open the image file\n",
    "    with rasterio.open(file_path) as src:\n",
    "        # Read RGB bands (assuming Sentinel-2 band order: Red=B4, Green=B3, Blue=B2)\n",
    "        red = src.read(3)  # Band 4 for Red\n",
    "        green = src.read(2)  # Band 3 for Green\n",
    "        blue = src.read(1)  # Band 2 for Blue\n",
    "\n",
    "        # Scale each band to the 0–255 range for better visualization\n",
    "        red_scaled = scale_band(red)\n",
    "        green_scaled = scale_band(green)\n",
    "        blue_scaled = scale_band(blue)\n",
    "\n",
    "        # Stack the scaled RGB bands into a single image\n",
    "        rgb = np.dstack((red_scaled, green_scaled, blue_scaled)).astype(np.uint8)\n",
    "\n",
    "        # Apply contrast stretching if specified\n",
    "        if contrast_stretch:\n",
    "            p2, p98 = np.percentile(rgb, (2, 98))  # Calculate 2nd and 98th percentiles for stretching\n",
    "            rgb = exposure.rescale_intensity(rgb, in_range=(p2, p98))\n",
    "\n",
    "        # Apply gamma correction to adjust brightness\n",
    "        rgb = exposure.adjust_gamma(rgb, gamma=gamma)\n",
    "\n",
    "        # Display the processed image using matplotlib\n",
    "        plt.figure(figsize=(5, 5))\n",
    "        plt.imshow(rgb)\n",
    "        plt.axis('off')  # Hide axes for a cleaner look\n",
    "        plt.title(\"RGB Composite (Red-Green-Blue) with Scaling, Contrast Stretch, and Gamma Correction\")\n",
    "        plt.show()\n",
    "\n",
    "    return rgb"
   ]
  },
  {
   "cell_type": "code",
   "execution_count": null,
   "metadata": {
    "colab": {
     "base_uri": "https://localhost:8080/",
     "height": 444
    },
    "id": "yZJPNIZZLqqe",
    "outputId": "d09f5fe2-83b1-4219-b21d-e1f3aa1df408"
   },
   "outputs": [
    {
     "data": {
      "text/html": [
       "\n",
       "            <style>\n",
       "                .geemap-dark {\n",
       "                    --jp-widgets-color: white;\n",
       "                    --jp-widgets-label-color: white;\n",
       "                    --jp-ui-font-color1: white;\n",
       "                    --jp-layout-color2: #454545;\n",
       "                    background-color: #383838;\n",
       "                }\n",
       "\n",
       "                .geemap-dark .jupyter-button {\n",
       "                    --jp-layout-color3: #383838;\n",
       "                }\n",
       "\n",
       "                .geemap-colab {\n",
       "                    background-color: var(--colab-primary-surface-color, white);\n",
       "                }\n",
       "\n",
       "                .geemap-colab .jupyter-button {\n",
       "                    --jp-layout-color3: var(--colab-primary-surface-color, white);\n",
       "                }\n",
       "            </style>\n",
       "            "
      ],
      "text/plain": [
       "<IPython.core.display.HTML object>"
      ]
     },
     "metadata": {},
     "output_type": "display_data"
    },
    {
     "data": {
      "image/png": "[encoded data removed]",
      "text/plain": [
       "<Figure size 500x500 with 1 Axes>"
      ]
     },
     "metadata": {},
     "output_type": "display_data"
    }
   ],
   "source": [
    "import os\n",
    "\n",
    "# ... (rest of your code)\n",
    "\n",
    "# Select a random image file from the dataset and visualize it\n",
    "# Get a list of existing tif files in the downloads directory\n",
    "tif_files = [f for f in os.listdir('downloads') if f.endswith('.tif')]\n",
    "\n",
    "# Check if any tif files exist\n",
    "if tif_files:\n",
    "    # Select a random tif file path from the existing files\n",
    "    path = os.path.join('downloads', random.choice(tif_files))\n",
    "    image = visualize_rgb_image(path)\n",
    "else:\n",
    "    print(\"No .tif files found in the downloads directory. Please check your data.\")"
   ]
  },
  {
   "cell_type": "code",
   "execution_count": null,
   "metadata": {
    "id": "aw9eJrrVCgF1"
   },
   "outputs": [],
   "source": [
    "# Select a random image file from the dataset and visualize it\n",
    "\n",
    "\n",
    "# path = random.choice(data['tif_path'].values)\n",
    "# image = visualize_rgb_image(path)"
   ]
  },
  {
   "cell_type": "markdown",
   "metadata": {
    "id": "VGg3sw58k9Tm"
   },
   "source": [
    "# Feature Engineering"
   ]
  },
  {
   "cell_type": "markdown",
   "metadata": {
    "id": "qK123fUVlA3w"
   },
   "source": [
    "**Utils**"
   ]
  },
  {
   "cell_type": "code",
   "execution_count": null,
   "metadata": {
    "colab": {
     "base_uri": "https://localhost:8080/",
     "height": 17
    },
    "id": "cifndNYWOB9D",
    "outputId": "351cd506-911a-45eb-b504-806984fcde71"
   },
   "outputs": [
    {
     "data": {
      "text/html": [
       "\n",
       "            <style>\n",
       "                .geemap-dark {\n",
       "                    --jp-widgets-color: white;\n",
       "                    --jp-widgets-label-color: white;\n",
       "                    --jp-ui-font-color1: white;\n",
       "                    --jp-layout-color2: #454545;\n",
       "                    background-color: #383838;\n",
       "                }\n",
       "\n",
       "                .geemap-dark .jupyter-button {\n",
       "                    --jp-layout-color3: #383838;\n",
       "                }\n",
       "\n",
       "                .geemap-colab {\n",
       "                    background-color: var(--colab-primary-surface-color, white);\n",
       "                }\n",
       "\n",
       "                .geemap-colab .jupyter-button {\n",
       "                    --jp-layout-color3: var(--colab-primary-surface-color, white);\n",
       "                }\n",
       "            </style>\n",
       "            "
      ],
      "text/plain": [
       "<IPython.core.display.HTML object>"
      ]
     },
     "metadata": {},
     "output_type": "display_data"
    }
   ],
   "source": [
    "# Example feature calculation functions\n",
    "def calculate_ndvi(nir_band, red_band):\n",
    "    \"\"\"Calculate NDVI (Normalized Difference Vegetation Index).\"\"\"\n",
    "    ndvi = (nir_band - red_band) / (nir_band + red_band)\n",
    "    return np.nanmean(ndvi)\n",
    "\n",
    "def calculate_evi(nir_band, red_band, blue_band):\n",
    "    \"\"\"Calculate EVI (Enhanced Vegetation Index).\"\"\"\n",
    "    evi = 2.5 * (nir_band - red_band) / (nir_band + 6 * red_band - 7.5 * blue_band + 1)\n",
    "    return np.nanmean(evi)\n",
    "\n",
    "def calculate_ndwi(nir_band, green_band):\n",
    "    \"\"\"Calculate NDWI (Normalized Difference Water Index).\"\"\"\n",
    "    ndwi = (green_band - nir_band) / (green_band + nir_band)\n",
    "    return np.nanmean(ndwi)\n",
    "\n",
    "def calculate_gndvi(nir_band, green_band):\n",
    "    \"\"\"Calculate GNDVI (Green Normalized Difference Vegetation Index).\"\"\"\n",
    "    gndvi = (nir_band - green_band) / (nir_band + green_band)\n",
    "    return np.nanmean(gndvi)\n",
    "\n",
    "def calculate_savi(nir_band, red_band, L=0.5):\n",
    "    \"\"\"Calculate SAVI (Soil Adjusted Vegetation Index).\"\"\"\n",
    "    savi = ((nir_band - red_band) / (nir_band + red_band + L)) * (1 + L)\n",
    "    return np.nanmean(savi)\n",
    "\n",
    "def calculate_msavi(nir_band, red_band):\n",
    "    \"\"\"Calculate MSAVI (Modified Soil Adjusted Vegetation Index).\"\"\"\n",
    "    msavi = (2 * nir_band + 1 - np.sqrt((2 * nir_band + 1)**2 - 8 * (nir_band - red_band))) / 2\n",
    "    return np.nanmean(msavi)"
   ]
  },
  {
   "cell_type": "code",
   "execution_count": null,
   "metadata": {
    "colab": {
     "base_uri": "https://localhost:8080/",
     "height": 17
    },
    "id": "ijS4DecElDO9",
    "outputId": "2ad6fe3e-f1bd-4f6e-dda2-77a6e90278c9"
   },
   "outputs": [
    {
     "data": {
      "text/html": [
       "\n",
       "            <style>\n",
       "                .geemap-dark {\n",
       "                    --jp-widgets-color: white;\n",
       "                    --jp-widgets-label-color: white;\n",
       "                    --jp-ui-font-color1: white;\n",
       "                    --jp-layout-color2: #454545;\n",
       "                    background-color: #383838;\n",
       "                }\n",
       "\n",
       "                .geemap-dark .jupyter-button {\n",
       "                    --jp-layout-color3: #383838;\n",
       "                }\n",
       "\n",
       "                .geemap-colab {\n",
       "                    background-color: var(--colab-primary-surface-color, white);\n",
       "                }\n",
       "\n",
       "                .geemap-colab .jupyter-button {\n",
       "                    --jp-layout-color3: var(--colab-primary-surface-color, white);\n",
       "                }\n",
       "            </style>\n",
       "            "
      ],
      "text/plain": [
       "<IPython.core.display.HTML object>"
      ]
     },
     "metadata": {},
     "output_type": "display_data"
    }
   ],
   "source": [
    "# Function to calculate features for each row in the data\n",
    "\n",
    "\n",
    "# def process_row_for_features(index, row):\n",
    "#     features = {'index': index}\n",
    "\n",
    "#     # Retrieve the TIFF file path and check if it's valid\n",
    "#     tif_path = row['tif_path']\n",
    "#     if not isinstance(tif_path, str):\n",
    "#         print(f\"Skipping entry due to missing tif_path for index {index}\")\n",
    "#         # Add NaN for all features if path is missing\n",
    "#         features.update({\n",
    "#             'ndvi': np.nan,\n",
    "#             'evi': np.nan,\n",
    "#             'ndwi': np.nan,\n",
    "#             'gndvi': np.nan,\n",
    "#             'savi': np.nan,\n",
    "#             'msavi': np.nan\n",
    "#         })\n",
    "#         return features\n",
    "\n",
    "#     # Open the TIFF file and read bands for feature calculation\n",
    "#     with rasterio.open(tif_path) as src:\n",
    "#         red = src.read(3)    # B4 for Red\n",
    "#         green = src.read(2)  # B3 for Green\n",
    "#         blue = src.read(1)   # B2 for Blue\n",
    "#         nir = src.read(4)    # B8 for NIR\n",
    "\n",
    "#         # Calculate each feature\n",
    "#         features['ndvi'] = calculate_ndvi(nir, red)\n",
    "#         features['evi'] = calculate_evi(nir, red, blue)\n",
    "#         features['ndwi'] = calculate_ndwi(nir, green)\n",
    "#         features['gndvi'] = calculate_gndvi(nir, green)\n",
    "#         features['savi'] = calculate_savi(nir, red)\n",
    "#         features['msavi'] = calculate_msavi(nir, red)\n",
    "\n",
    "#     return features"
   ]
  },
  {
   "cell_type": "code",
   "execution_count": null,
   "metadata": {
    "colab": {
     "base_uri": "https://localhost:8080/",
     "height": 17
    },
    "id": "n8KBmbXaMUJK",
    "outputId": "888850d4-882d-4c71-dafa-a34c476efb08"
   },
   "outputs": [
    {
     "data": {
      "text/html": [
       "\n",
       "            <style>\n",
       "                .geemap-dark {\n",
       "                    --jp-widgets-color: white;\n",
       "                    --jp-widgets-label-color: white;\n",
       "                    --jp-ui-font-color1: white;\n",
       "                    --jp-layout-color2: #454545;\n",
       "                    background-color: #383838;\n",
       "                }\n",
       "\n",
       "                .geemap-dark .jupyter-button {\n",
       "                    --jp-layout-color3: #383838;\n",
       "                }\n",
       "\n",
       "                .geemap-colab {\n",
       "                    background-color: var(--colab-primary-surface-color, white);\n",
       "                }\n",
       "\n",
       "                .geemap-colab .jupyter-button {\n",
       "                    --jp-layout-color3: var(--colab-primary-surface-color, white);\n",
       "                }\n",
       "            </style>\n",
       "            "
      ],
      "text/plain": [
       "<IPython.core.display.HTML object>"
      ]
     },
     "metadata": {},
     "output_type": "display_data"
    }
   ],
   "source": [
    "# Function to calculate features for each row in the data\n",
    "def process_row_for_features(index, row):\n",
    "    features = {'index': index}\n",
    "\n",
    "    # Retrieve the TIFF file path and check if it's valid\n",
    "    tif_path = row['tif_path']\n",
    "    if not isinstance(tif_path, str):\n",
    "        print(f\"Skipping entry due to missing tif_path for index {index}\")\n",
    "        # Add NaN for all features if path is missing\n",
    "        features.update({\n",
    "            'ndvi': np.nan,\n",
    "            'evi': np.nan,\n",
    "            'ndwi': np.nan,\n",
    "            'gndvi': np.nan,\n",
    "            'savi': np.nan,\n",
    "            'msavi': np.nan\n",
    "        })\n",
    "        return features\n",
    "\n",
    "    # Check if the file exists before attempting to open it\n",
    "    if not os.path.exists(tif_path):\n",
    "        print(f\"File not found: {tif_path}\")\n",
    "        # Add NaN for all features if file is missing\n",
    "        features.update({\n",
    "            'ndvi': np.nan,\n",
    "            'evi': np.nan,\n",
    "            'ndwi': np.nan,\n",
    "            'gndvi': np.nan,\n",
    "            'savi': np.nan,\n",
    "            'msavi': np.nan\n",
    "        })\n",
    "        return features\n",
    "\n",
    "    # Open the TIFF file and read bands for feature calculation\n",
    "    try:\n",
    "        with rasterio.open(tif_path) as src:\n",
    "            red = src.read(3)    # B4 for Red\n",
    "            green = src.read(2)  # B3 for Green\n",
    "            blue = src.read(1)   # B2 for Blue\n",
    "            nir = src.read(4)    # B8 for NIR\n",
    "\n",
    "            # Calculate each feature\n",
    "            features['ndvi'] = calculate_ndvi(nir, red)\n",
    "            features['evi'] = calculate_evi(nir, red, blue)\n",
    "            features['ndwi'] = calculate_ndwi(nir, green)\n",
    "            features['gndvi'] = calculate_gndvi(nir, green)\n",
    "            features['savi'] = calculate_savi(nir, red)\n",
    "            features['msavi'] = calculate_msavi(nir, red)\n",
    "    except rasterio.errors.RasterioIOError as e:\n",
    "        print(f\"Error opening raster file {tif_path}: {e}\")\n",
    "        # Add NaN for all features if there's an error opening the file\n",
    "        features.update({\n",
    "            'ndvi': np.nan,\n",
    "            'evi': np.nan,\n",
    "            'ndwi': np.nan,\n",
    "            'gndvi': np.nan,\n",
    "            'savi': np.nan,\n",
    "            'msavi': np.nan\n",
    "        })\n",
    "\n",
    "    return features"
   ]
  },
  {
   "cell_type": "markdown",
   "metadata": {
    "id": "AiWAB-c9lTzs"
   },
   "source": [
    "**Calculate Features**"
   ]
  },
  {
   "cell_type": "code",
   "execution_count": null,
   "metadata": {
    "colab": {
     "base_uri": "https://localhost:8080/",
     "height": 1000
    },
    "id": "28PEFdMblDLd",
    "outputId": "441cba50-17d8-452d-ba1a-39d1347eaee3"
   },
   "outputs": [
    {
     "data": {
      "text/html": [
       "\n",
       "            <style>\n",
       "                .geemap-dark {\n",
       "                    --jp-widgets-color: white;\n",
       "                    --jp-widgets-label-color: white;\n",
       "                    --jp-ui-font-color1: white;\n",
       "                    --jp-layout-color2: #454545;\n",
       "                    background-color: #383838;\n",
       "                }\n",
       "\n",
       "                .geemap-dark .jupyter-button {\n",
       "                    --jp-layout-color3: #383838;\n",
       "                }\n",
       "\n",
       "                .geemap-colab {\n",
       "                    background-color: var(--colab-primary-surface-color, white);\n",
       "                }\n",
       "\n",
       "                .geemap-colab .jupyter-button {\n",
       "                    --jp-layout-color3: var(--colab-primary-surface-color, white);\n",
       "                }\n",
       "            </style>\n",
       "            "
      ],
      "text/plain": [
       "<IPython.core.display.HTML object>"
      ]
     },
     "metadata": {},
     "output_type": "display_data"
    },
    {
     "name": "stderr",
     "output_type": "stream",
     "text": [
      "\n",
      "  0%|          | 0/11791 [00:00<?, ?it/s]\u001b[A\n",
      "  0%|          | 4/11791 [00:01<50:43,  3.87it/s]\u001b[A\n",
      "  0%|          | 12/11791 [00:01<15:12, 12.91it/s]\u001b[A\n",
      "  0%|          | 34/11791 [00:01<04:36, 42.58it/s]\u001b[A\n",
      "  2%|▏         | 202/11791 [00:01<00:37, 307.18it/s]\u001b[A\n",
      "  3%|▎         | 394/11791 [00:01<00:18, 608.22it/s]\u001b[A\n",
      "  4%|▍         | 522/11791 [00:01<00:15, 741.06it/s]\u001b[A\n",
      "  7%|▋         | 768/11791 [00:01<00:09, 1120.54it/s]\u001b[A\n",
      "  8%|▊         | 1001/11791 [00:02<00:15, 682.03it/s]\u001b[A\n",
      "  9%|▉         | 1118/11791 [00:02<00:14, 739.58it/s]\u001b[A\n",
      " 11%|█         | 1290/11791 [00:02<00:12, 814.32it/s]\u001b[A\n",
      " 13%|█▎        | 1546/11791 [00:02<00:10, 983.82it/s]\u001b[A\n",
      " 15%|█▍        | 1740/11791 [00:02<00:08, 1149.47it/s]\u001b[A\n",
      " 16%|█▌        | 1880/11791 [00:02<00:08, 1180.00it/s]\u001b[A\n",
      " 18%|█▊        | 2092/11791 [00:03<00:06, 1390.07it/s]\u001b[A\n",
      " 19%|█▉        | 2252/11791 [00:03<00:06, 1428.59it/s]\u001b[A\n",
      " 20%|██        | 2410/11791 [00:03<00:06, 1440.60it/s]\u001b[A\n",
      " 22%|██▏       | 2565/11791 [00:03<00:06, 1451.21it/s]\u001b[A\n",
      " 23%|██▎       | 2718/11791 [00:03<00:06, 1331.49it/s]\u001b[A\n",
      " 24%|██▍       | 2858/11791 [00:03<00:08, 1096.13it/s]\u001b[A\n",
      " 26%|██▌       | 3023/11791 [00:03<00:07, 1221.24it/s]\u001b[A\n",
      " 28%|██▊       | 3266/11791 [00:03<00:05, 1514.97it/s]\u001b[A\n",
      " 30%|███       | 3594/11791 [00:04<00:05, 1412.88it/s]\u001b[A\n",
      " 32%|███▏      | 3778/11791 [00:04<00:05, 1490.42it/s]\u001b[A\n",
      " 34%|███▍      | 4045/11791 [00:04<00:04, 1760.97it/s]\u001b[A\n",
      " 36%|███▌      | 4238/11791 [00:04<00:04, 1574.02it/s]\u001b[A\n",
      " 37%|███▋      | 4410/11791 [00:04<00:05, 1418.65it/s]\u001b[A\n",
      " 39%|███▉      | 4618/11791 [00:04<00:06, 1186.18it/s]\u001b[A\n",
      " 41%|████▏     | 4874/11791 [00:05<00:05, 1228.94it/s]\u001b[A\n",
      " 44%|████▎     | 5130/11791 [00:05<00:05, 1324.68it/s]\u001b[A\n",
      " 46%|████▌     | 5386/11791 [00:05<00:04, 1394.37it/s]\u001b[A\n",
      " 48%|████▊     | 5642/11791 [00:05<00:04, 1515.96it/s]\u001b[A\n",
      " 50%|█████     | 5898/11791 [00:05<00:03, 1612.58it/s]\u001b[A\n",
      " 52%|█████▏    | 6154/11791 [00:05<00:03, 1641.07it/s]\u001b[A\n",
      " 54%|█████▍    | 6410/11791 [00:05<00:03, 1664.23it/s]\u001b[A\n",
      " 57%|█████▋    | 6666/11791 [00:06<00:02, 1738.94it/s]\u001b[A\n",
      " 59%|█████▊    | 6922/11791 [00:06<00:02, 1735.91it/s]\u001b[A\n",
      " 61%|██████    | 7178/11791 [00:06<00:02, 1766.46it/s]\u001b[A\n",
      " 63%|██████▎   | 7434/11791 [00:06<00:02, 1453.95it/s]\u001b[A\n",
      " 64%|██████▍   | 7590/11791 [00:07<00:04, 922.28it/s] \u001b[A\n",
      " 67%|██████▋   | 7912/11791 [00:07<00:03, 1264.70it/s]\u001b[A\n",
      " 69%|██████▉   | 8156/11791 [00:07<00:02, 1452.67it/s]\u001b[A\n",
      " 71%|███████   | 8351/11791 [00:07<00:02, 1412.03it/s]\u001b[A\n",
      " 72%|███████▏  | 8527/11791 [00:07<00:02, 1367.17it/s]\u001b[A\n",
      " 74%|███████▍  | 8714/11791 [00:07<00:02, 1180.54it/s]\u001b[A\n",
      " 76%|███████▌  | 8970/11791 [00:08<00:02, 1090.00it/s]\u001b[A\n",
      " 78%|███████▊  | 9218/11791 [00:08<00:01, 1330.12it/s]\u001b[A\n",
      " 80%|███████▉  | 9380/11791 [00:08<00:01, 1299.66it/s]\u001b[A\n",
      " 81%|████████  | 9530/11791 [00:08<00:01, 1314.29it/s]\u001b[A\n",
      " 83%|████████▎ | 9738/11791 [00:08<00:01, 1159.24it/s]\u001b[A\n",
      " 84%|████████▍ | 9885/11791 [00:08<00:01, 1220.29it/s]\u001b[A\n",
      " 85%|████████▌ | 10062/11791 [00:08<00:01, 1343.09it/s]\u001b[A\n",
      " 87%|████████▋ | 10250/11791 [00:08<00:01, 1396.33it/s]\u001b[A\n",
      " 88%|████████▊ | 10416/11791 [00:09<00:00, 1451.98it/s]\u001b[A\n",
      " 91%|█████████ | 10692/11791 [00:09<00:00, 1779.49it/s]\u001b[A\n",
      " 92%|█████████▏| 10880/11791 [00:09<00:00, 1603.17it/s]\u001b[A\n",
      " 94%|█████████▎| 11050/11791 [00:09<00:00, 1433.04it/s]\u001b[A\n",
      " 96%|█████████▌| 11274/11791 [00:09<00:00, 1381.24it/s]\u001b[A\n",
      " 98%|█████████▊| 11530/11791 [00:09<00:00, 1513.82it/s]\u001b[A\n",
      "100%|██████████| 11791/11791 [00:09<00:00, 1192.84it/s]\n"
     ]
    }
   ],
   "source": [
    "# Use parallel processing to calculate features for each row\n",
    "# `tqdm` provides a progress bar to track completion\n",
    "new_features = Parallel(n_jobs=-1)(delayed(process_row_for_features)(index, row)\n",
    "                                   for index, row in tqdm(data.iterrows(), total=len(data)))"
   ]
  },
  {
   "cell_type": "markdown",
   "metadata": {
    "id": "wMc5wyEwlTCx"
   },
   "source": [
    "**Merge New Features with Original Data**"
   ]
  },
  {
   "cell_type": "code",
   "execution_count": null,
   "metadata": {
    "colab": {
     "base_uri": "https://localhost:8080/",
     "height": 17
    },
    "id": "in-pNAYFl79k",
    "outputId": "1e303514-5782-479d-9f09-aa0869551f80"
   },
   "outputs": [
    {
     "data": {
      "text/html": [
       "\n",
       "            <style>\n",
       "                .geemap-dark {\n",
       "                    --jp-widgets-color: white;\n",
       "                    --jp-widgets-label-color: white;\n",
       "                    --jp-ui-font-color1: white;\n",
       "                    --jp-layout-color2: #454545;\n",
       "                    background-color: #383838;\n",
       "                }\n",
       "\n",
       "                .geemap-dark .jupyter-button {\n",
       "                    --jp-layout-color3: #383838;\n",
       "                }\n",
       "\n",
       "                .geemap-colab {\n",
       "                    background-color: var(--colab-primary-surface-color, white);\n",
       "                }\n",
       "\n",
       "                .geemap-colab .jupyter-button {\n",
       "                    --jp-layout-color3: var(--colab-primary-surface-color, white);\n",
       "                }\n",
       "            </style>\n",
       "            "
      ],
      "text/plain": [
       "<IPython.core.display.HTML object>"
      ]
     },
     "metadata": {},
     "output_type": "display_data"
    }
   ],
   "source": [
    "# Convert list of features to a DataFrame and merge with the original data\n",
    "new_features_df = pd.DataFrame(new_features).set_index('index')\n",
    "data = data.join(new_features_df)"
   ]
  },
  {
   "cell_type": "code",
   "execution_count": null,
   "metadata": {
    "colab": {
     "base_uri": "https://localhost:8080/",
     "height": 446
    },
    "id": "wNpABxfTl2Kq",
    "outputId": "47113584-bc97-406f-9576-ed648b7537a8"
   },
   "outputs": [
    {
     "data": {
      "text/html": [
       "\n",
       "            <style>\n",
       "                .geemap-dark {\n",
       "                    --jp-widgets-color: white;\n",
       "                    --jp-widgets-label-color: white;\n",
       "                    --jp-ui-font-color1: white;\n",
       "                    --jp-layout-color2: #454545;\n",
       "                    background-color: #383838;\n",
       "                }\n",
       "\n",
       "                .geemap-dark .jupyter-button {\n",
       "                    --jp-layout-color3: #383838;\n",
       "                }\n",
       "\n",
       "                .geemap-colab {\n",
       "                    background-color: var(--colab-primary-surface-color, white);\n",
       "                }\n",
       "\n",
       "                .geemap-colab .jupyter-button {\n",
       "                    --jp-layout-color3: var(--colab-primary-surface-color, white);\n",
       "                }\n",
       "            </style>\n",
       "            "
      ],
      "text/plain": [
       "<IPython.core.display.HTML object>"
      ]
     },
     "metadata": {},
     "output_type": "display_data"
    },
    {
     "data": {
      "application/vnd.google.colaboratory.intrinsic+json": {
       "type": "dataframe",
       "variable_name": "data"
      },
      "text/html": [
       "\n",
       "  <div id=\"df-2f25c950-4651-487a-84a1-17aaf6281642\" class=\"colab-df-container\">\n",
       "    <div>\n",
       "<style scoped>\n",
       "    .dataframe tbody tr th:only-of-type {\n",
       "        vertical-align: middle;\n",
       "    }\n",
       "\n",
       "    .dataframe tbody tr th {\n",
       "        vertical-align: top;\n",
       "    }\n",
       "\n",
       "    .dataframe thead th {\n",
       "        text-align: right;\n",
       "    }\n",
       "</style>\n",
       "<table border=\"1\" class=\"dataframe\">\n",
       "  <thead>\n",
       "    <tr style=\"text-align: right;\">\n",
       "      <th></th>\n",
       "      <th>FarmID</th>\n",
       "      <th>category</th>\n",
       "      <th>Crop</th>\n",
       "      <th>State</th>\n",
       "      <th>District</th>\n",
       "      <th>Sub-District</th>\n",
       "      <th>SDate</th>\n",
       "      <th>HDate</th>\n",
       "      <th>CropCoveredArea</th>\n",
       "      <th>CHeight</th>\n",
       "      <th>...</th>\n",
       "      <th>Season</th>\n",
       "      <th>geometry</th>\n",
       "      <th>dataset</th>\n",
       "      <th>tif_path</th>\n",
       "      <th>ndvi</th>\n",
       "      <th>evi</th>\n",
       "      <th>ndwi</th>\n",
       "      <th>gndvi</th>\n",
       "      <th>savi</th>\n",
       "      <th>msavi</th>\n",
       "    </tr>\n",
       "  </thead>\n",
       "  <tbody>\n",
       "    <tr>\n",
       "      <th>0</th>\n",
       "      <td>1326576</td>\n",
       "      <td>Healthy</td>\n",
       "      <td>Paddy</td>\n",
       "      <td>Telangana</td>\n",
       "      <td>Medak</td>\n",
       "      <td>Kulcharam</td>\n",
       "      <td>25-11-2023</td>\n",
       "      <td>14-04-2024</td>\n",
       "      <td>97</td>\n",
       "      <td>54</td>\n",
       "      <td>...</td>\n",
       "      <td>Rabi</td>\n",
       "      <td>POLYGON ((78.18079255482755 17.978971746424413...</td>\n",
       "      <td>train</td>\n",
       "      <td>/kaggle/input/sentineltimeseriesdata/SentinelT...</td>\n",
       "      <td>NaN</td>\n",
       "      <td>NaN</td>\n",
       "      <td>NaN</td>\n",
       "      <td>NaN</td>\n",
       "      <td>NaN</td>\n",
       "      <td>NaN</td>\n",
       "    </tr>\n",
       "    <tr>\n",
       "      <th>1</th>\n",
       "      <td>1326577</td>\n",
       "      <td>Healthy</td>\n",
       "      <td>Paddy</td>\n",
       "      <td>Telangana</td>\n",
       "      <td>Medak</td>\n",
       "      <td>Kulcharam</td>\n",
       "      <td>13-11-2023</td>\n",
       "      <td>26-04-2024</td>\n",
       "      <td>82</td>\n",
       "      <td>58</td>\n",
       "      <td>...</td>\n",
       "      <td>Rabi</td>\n",
       "      <td>POLYGON ((78.17483419891283 17.981508840879556...</td>\n",
       "      <td>train</td>\n",
       "      <td>/kaggle/input/sentineltimeseriesdata/SentinelT...</td>\n",
       "      <td>NaN</td>\n",
       "      <td>NaN</td>\n",
       "      <td>NaN</td>\n",
       "      <td>NaN</td>\n",
       "      <td>NaN</td>\n",
       "      <td>NaN</td>\n",
       "    </tr>\n",
       "    <tr>\n",
       "      <th>2</th>\n",
       "      <td>1326578</td>\n",
       "      <td>Healthy</td>\n",
       "      <td>Paddy</td>\n",
       "      <td>Telangana</td>\n",
       "      <td>Medak</td>\n",
       "      <td>Kulcharam</td>\n",
       "      <td>19-12-2023</td>\n",
       "      <td>28-04-2024</td>\n",
       "      <td>92</td>\n",
       "      <td>91</td>\n",
       "      <td>...</td>\n",
       "      <td>Rabi</td>\n",
       "      <td>POLYGON ((78.16888476438905 17.976727511659835...</td>\n",
       "      <td>train</td>\n",
       "      <td>/kaggle/input/sentineltimeseriesdata/SentinelT...</td>\n",
       "      <td>NaN</td>\n",
       "      <td>NaN</td>\n",
       "      <td>NaN</td>\n",
       "      <td>NaN</td>\n",
       "      <td>NaN</td>\n",
       "      <td>NaN</td>\n",
       "    </tr>\n",
       "    <tr>\n",
       "      <th>3</th>\n",
       "      <td>1331836</td>\n",
       "      <td>Diseased</td>\n",
       "      <td>Paddy</td>\n",
       "      <td>Telangana</td>\n",
       "      <td>Medak</td>\n",
       "      <td>Kulcharam</td>\n",
       "      <td>11-02-2023</td>\n",
       "      <td>04-11-2024</td>\n",
       "      <td>91</td>\n",
       "      <td>52</td>\n",
       "      <td>...</td>\n",
       "      <td>Rabi</td>\n",
       "      <td>POLYGON ((78.16821795882959 17.974690113471414...</td>\n",
       "      <td>train</td>\n",
       "      <td>/kaggle/input/sentineltimeseriesdata/SentinelT...</td>\n",
       "      <td>NaN</td>\n",
       "      <td>NaN</td>\n",
       "      <td>NaN</td>\n",
       "      <td>NaN</td>\n",
       "      <td>NaN</td>\n",
       "      <td>NaN</td>\n",
       "    </tr>\n",
       "    <tr>\n",
       "      <th>4</th>\n",
       "      <td>1326579</td>\n",
       "      <td>Diseased</td>\n",
       "      <td>Paddy</td>\n",
       "      <td>Telangana</td>\n",
       "      <td>Medak</td>\n",
       "      <td>Kulcharam</td>\n",
       "      <td>12-12-2023</td>\n",
       "      <td>19-05-2024</td>\n",
       "      <td>94</td>\n",
       "      <td>55</td>\n",
       "      <td>...</td>\n",
       "      <td>Rabi</td>\n",
       "      <td>POLYGON ((78.17244459940454 17.969620948965225...</td>\n",
       "      <td>train</td>\n",
       "      <td>/kaggle/input/sentineltimeseriesdata/SentinelT...</td>\n",
       "      <td>NaN</td>\n",
       "      <td>NaN</td>\n",
       "      <td>NaN</td>\n",
       "      <td>NaN</td>\n",
       "      <td>NaN</td>\n",
       "      <td>NaN</td>\n",
       "    </tr>\n",
       "  </tbody>\n",
       "</table>\n",
       "<p>5 rows × 28 columns</p>\n",
       "</div>\n",
       "    <div class=\"colab-df-buttons\">\n",
       "\n",
       "  <div class=\"colab-df-container\">\n",
       "    <button class=\"colab-df-convert\" onclick=\"convertToInteractive('df-2f25c950-4651-487a-84a1-17aaf6281642')\"\n",
       "            title=\"Convert this dataframe to an interactive table.\"\n",
       "            style=\"display:none;\">\n",
       "\n",
       "  <svg xmlns=\"http://www.w3.org/2000/svg\" height=\"24px\" viewBox=\"0 -960 960 960\">\n",
       "    <path d=\"M120-120v-720h720v720H120Zm60-500h600v-160H180v160Zm220 220h160v-160H400v160Zm0 220h160v-160H400v160ZM180-400h160v-160H180v160Zm440 0h160v-160H620v160ZM180-180h160v-160H180v160Zm440 0h160v-160H620v160Z\"/>\n",
       "  </svg>\n",
       "    </button>\n",
       "\n",
       "  <style>\n",
       "    .colab-df-container {\n",
       "      display:flex;\n",
       "      gap: 12px;\n",
       "    }\n",
       "\n",
       "    .colab-df-convert {\n",
       "      background-color: #E8F0FE;\n",
       "      border: none;\n",
       "      border-radius: 50%;\n",
       "      cursor: pointer;\n",
       "      display: none;\n",
       "      fill: #1967D2;\n",
       "      height: 32px;\n",
       "      padding: 0 0 0 0;\n",
       "      width: 32px;\n",
       "    }\n",
       "\n",
       "    .colab-df-convert:hover {\n",
       "      background-color: #E2EBFA;\n",
       "      box-shadow: 0px 1px 2px rgba(60, 64, 67, 0.3), 0px 1px 3px 1px rgba(60, 64, 67, 0.15);\n",
       "      fill: #174EA6;\n",
       "    }\n",
       "\n",
       "    .colab-df-buttons div {\n",
       "      margin-bottom: 4px;\n",
       "    }\n",
       "\n",
       "    [theme=dark] .colab-df-convert {\n",
       "      background-color: #3B4455;\n",
       "      fill: #D2E3FC;\n",
       "    }\n",
       "\n",
       "    [theme=dark] .colab-df-convert:hover {\n",
       "      background-color: #434B5C;\n",
       "      box-shadow: 0px 1px 3px 1px rgba(0, 0, 0, 0.15);\n",
       "      filter: drop-shadow(0px 1px 2px rgba(0, 0, 0, 0.3));\n",
       "      fill: #FFFFFF;\n",
       "    }\n",
       "  </style>\n",
       "\n",
       "    <script>\n",
       "      const buttonEl =\n",
       "        document.querySelector('#df-2f25c950-4651-487a-84a1-17aaf6281642 button.colab-df-convert');\n",
       "      buttonEl.style.display =\n",
       "        google.colab.kernel.accessAllowed ? 'block' : 'none';\n",
       "\n",
       "      async function convertToInteractive(key) {\n",
       "        const element = document.querySelector('#df-2f25c950-4651-487a-84a1-17aaf6281642');\n",
       "        const dataTable =\n",
       "          await google.colab.kernel.invokeFunction('convertToInteractive',\n",
       "                                                    [key], {});\n",
       "        if (!dataTable) return;\n",
       "\n",
       "        const docLinkHtml = 'Like what you see? Visit the ' +\n",
       "          '<a target=\"_blank\" href=https://colab.research.google.com/notebooks/data_table.ipynb>data table notebook</a>'\n",
       "          + ' to learn more about interactive tables.';\n",
       "        element.innerHTML = '';\n",
       "        dataTable['output_type'] = 'display_data';\n",
       "        await google.colab.output.renderOutput(dataTable, element);\n",
       "        const docLink = document.createElement('div');\n",
       "        docLink.innerHTML = docLinkHtml;\n",
       "        element.appendChild(docLink);\n",
       "      }\n",
       "    </script>\n",
       "  </div>\n",
       "\n",
       "\n",
       "<div id=\"df-9fab2873-816c-4bca-a7c5-c70ac101f5de\">\n",
       "  <button class=\"colab-df-quickchart\" onclick=\"quickchart('df-9fab2873-816c-4bca-a7c5-c70ac101f5de')\"\n",
       "            title=\"Suggest charts\"\n",
       "            style=\"display:none;\">\n",
       "\n",
       "<svg xmlns=\"http://www.w3.org/2000/svg\" height=\"24px\"viewBox=\"0 0 24 24\"\n",
       "     width=\"24px\">\n",
       "    <g>\n",
       "        <path d=\"M19 3H5c-1.1 0-2 .9-2 2v14c0 1.1.9 2 2 2h14c1.1 0 2-.9 2-2V5c0-1.1-.9-2-2-2zM9 17H7v-7h2v7zm4 0h-2V7h2v10zm4 0h-2v-4h2v4z\"/>\n",
       "    </g>\n",
       "</svg>\n",
       "  </button>\n",
       "\n",
       "<style>\n",
       "  .colab-df-quickchart {\n",
       "      --bg-color: #E8F0FE;\n",
       "      --fill-color: #1967D2;\n",
       "      --hover-bg-color: #E2EBFA;\n",
       "      --hover-fill-color: #174EA6;\n",
       "      --disabled-fill-color: #AAA;\n",
       "      --disabled-bg-color: #DDD;\n",
       "  }\n",
       "\n",
       "  [theme=dark] .colab-df-quickchart {\n",
       "      --bg-color: #3B4455;\n",
       "      --fill-color: #D2E3FC;\n",
       "      --hover-bg-color: #434B5C;\n",
       "      --hover-fill-color: #FFFFFF;\n",
       "      --disabled-bg-color: #3B4455;\n",
       "      --disabled-fill-color: #666;\n",
       "  }\n",
       "\n",
       "  .colab-df-quickchart {\n",
       "    background-color: var(--bg-color);\n",
       "    border: none;\n",
       "    border-radius: 50%;\n",
       "    cursor: pointer;\n",
       "    display: none;\n",
       "    fill: var(--fill-color);\n",
       "    height: 32px;\n",
       "    padding: 0;\n",
       "    width: 32px;\n",
       "  }\n",
       "\n",
       "  .colab-df-quickchart:hover {\n",
       "    background-color: var(--hover-bg-color);\n",
       "    box-shadow: 0 1px 2px rgba(60, 64, 67, 0.3), 0 1px 3px 1px rgba(60, 64, 67, 0.15);\n",
       "    fill: var(--button-hover-fill-color);\n",
       "  }\n",
       "\n",
       "  .colab-df-quickchart-complete:disabled,\n",
       "  .colab-df-quickchart-complete:disabled:hover {\n",
       "    background-color: var(--disabled-bg-color);\n",
       "    fill: var(--disabled-fill-color);\n",
       "    box-shadow: none;\n",
       "  }\n",
       "\n",
       "  .colab-df-spinner {\n",
       "    border: 2px solid var(--fill-color);\n",
       "    border-color: transparent;\n",
       "    border-bottom-color: var(--fill-color);\n",
       "    animation:\n",
       "      spin 1s steps(1) infinite;\n",
       "  }\n",
       "\n",
       "  @keyframes spin {\n",
       "    0% {\n",
       "      border-color: transparent;\n",
       "      border-bottom-color: var(--fill-color);\n",
       "      border-left-color: var(--fill-color);\n",
       "    }\n",
       "    20% {\n",
       "      border-color: transparent;\n",
       "      border-left-color: var(--fill-color);\n",
       "      border-top-color: var(--fill-color);\n",
       "    }\n",
       "    30% {\n",
       "      border-color: transparent;\n",
       "      border-left-color: var(--fill-color);\n",
       "      border-top-color: var(--fill-color);\n",
       "      border-right-color: var(--fill-color);\n",
       "    }\n",
       "    40% {\n",
       "      border-color: transparent;\n",
       "      border-right-color: var(--fill-color);\n",
       "      border-top-color: var(--fill-color);\n",
       "    }\n",
       "    60% {\n",
       "      border-color: transparent;\n",
       "      border-right-color: var(--fill-color);\n",
       "    }\n",
       "    80% {\n",
       "      border-color: transparent;\n",
       "      border-right-color: var(--fill-color);\n",
       "      border-bottom-color: var(--fill-color);\n",
       "    }\n",
       "    90% {\n",
       "      border-color: transparent;\n",
       "      border-bottom-color: var(--fill-color);\n",
       "    }\n",
       "  }\n",
       "</style>\n",
       "\n",
       "  <script>\n",
       "    async function quickchart(key) {\n",
       "      const quickchartButtonEl =\n",
       "        document.querySelector('#' + key + ' button');\n",
       "      quickchartButtonEl.disabled = true;  // To prevent multiple clicks.\n",
       "      quickchartButtonEl.classList.add('colab-df-spinner');\n",
       "      try {\n",
       "        const charts = await google.colab.kernel.invokeFunction(\n",
       "            'suggestCharts', [key], {});\n",
       "      } catch (error) {\n",
       "        console.error('Error during call to suggestCharts:', error);\n",
       "      }\n",
       "      quickchartButtonEl.classList.remove('colab-df-spinner');\n",
       "      quickchartButtonEl.classList.add('colab-df-quickchart-complete');\n",
       "    }\n",
       "    (() => {\n",
       "      let quickchartButtonEl =\n",
       "        document.querySelector('#df-9fab2873-816c-4bca-a7c5-c70ac101f5de button');\n",
       "      quickchartButtonEl.style.display =\n",
       "        google.colab.kernel.accessAllowed ? 'block' : 'none';\n",
       "    })();\n",
       "  </script>\n",
       "</div>\n",
       "\n",
       "    </div>\n",
       "  </div>\n"
      ],
      "text/plain": [
       "    FarmID  category   Crop      State District Sub-District       SDate  \\\n",
       "0  1326576   Healthy  Paddy  Telangana    Medak    Kulcharam  25-11-2023   \n",
       "1  1326577   Healthy  Paddy  Telangana    Medak    Kulcharam  13-11-2023   \n",
       "2  1326578   Healthy  Paddy  Telangana    Medak    Kulcharam  19-12-2023   \n",
       "3  1331836  Diseased  Paddy  Telangana    Medak    Kulcharam  11-02-2023   \n",
       "4  1326579  Diseased  Paddy  Telangana    Medak    Kulcharam  12-12-2023   \n",
       "\n",
       "        HDate  CropCoveredArea  CHeight  ... Season  \\\n",
       "0  14-04-2024               97       54  ...   Rabi   \n",
       "1  26-04-2024               82       58  ...   Rabi   \n",
       "2  28-04-2024               92       91  ...   Rabi   \n",
       "3  04-11-2024               91       52  ...   Rabi   \n",
       "4  19-05-2024               94       55  ...   Rabi   \n",
       "\n",
       "                                            geometry dataset  \\\n",
       "0  POLYGON ((78.18079255482755 17.978971746424413...   train   \n",
       "1  POLYGON ((78.17483419891283 17.981508840879556...   train   \n",
       "2  POLYGON ((78.16888476438905 17.976727511659835...   train   \n",
       "3  POLYGON ((78.16821795882959 17.974690113471414...   train   \n",
       "4  POLYGON ((78.17244459940454 17.969620948965225...   train   \n",
       "\n",
       "                                            tif_path ndvi  evi  ndwi  gndvi  \\\n",
       "0  /kaggle/input/sentineltimeseriesdata/SentinelT...  NaN  NaN   NaN    NaN   \n",
       "1  /kaggle/input/sentineltimeseriesdata/SentinelT...  NaN  NaN   NaN    NaN   \n",
       "2  /kaggle/input/sentineltimeseriesdata/SentinelT...  NaN  NaN   NaN    NaN   \n",
       "3  /kaggle/input/sentineltimeseriesdata/SentinelT...  NaN  NaN   NaN    NaN   \n",
       "4  /kaggle/input/sentineltimeseriesdata/SentinelT...  NaN  NaN   NaN    NaN   \n",
       "\n",
       "  savi msavi  \n",
       "0  NaN   NaN  \n",
       "1  NaN   NaN  \n",
       "2  NaN   NaN  \n",
       "3  NaN   NaN  \n",
       "4  NaN   NaN  \n",
       "\n",
       "[5 rows x 28 columns]"
      ]
     },
     "execution_count": 35,
     "metadata": {},
     "output_type": "execute_result"
    }
   ],
   "source": [
    "data.head()"
   ]
  },
  {
   "cell_type": "markdown",
   "metadata": {
    "id": "tRez593rlu-V"
   },
   "source": [
    "**Split Dataset into Train and Test**"
   ]
  },
  {
   "cell_type": "code",
   "execution_count": null,
   "metadata": {
    "colab": {
     "base_uri": "https://localhost:8080/",
     "height": 17
    },
    "id": "xMla6m7nlDJM",
    "outputId": "bb13e9b9-3895-451e-bbbe-811923313bc0"
   },
   "outputs": [
    {
     "data": {
      "text/html": [
       "\n",
       "            <style>\n",
       "                .geemap-dark {\n",
       "                    --jp-widgets-color: white;\n",
       "                    --jp-widgets-label-color: white;\n",
       "                    --jp-ui-font-color1: white;\n",
       "                    --jp-layout-color2: #454545;\n",
       "                    background-color: #383838;\n",
       "                }\n",
       "\n",
       "                .geemap-dark .jupyter-button {\n",
       "                    --jp-layout-color3: #383838;\n",
       "                }\n",
       "\n",
       "                .geemap-colab {\n",
       "                    background-color: var(--colab-primary-surface-color, white);\n",
       "                }\n",
       "\n",
       "                .geemap-colab .jupyter-button {\n",
       "                    --jp-layout-color3: var(--colab-primary-surface-color, white);\n",
       "                }\n",
       "            </style>\n",
       "            "
      ],
      "text/plain": [
       "<IPython.core.display.HTML object>"
      ]
     },
     "metadata": {},
     "output_type": "display_data"
    }
   ],
   "source": [
    "# Split the data into train and test sets based on the 'dataset' column\n",
    "train = data[data.dataset == 'train'].reset_index(drop=True)\n",
    "test = data[data.dataset == 'test'].reset_index(drop=True)"
   ]
  },
  {
   "cell_type": "code",
   "execution_count": null,
   "metadata": {
    "colab": {
     "base_uri": "https://localhost:8080/",
     "height": 17
    },
    "id": "-gc_qNgflxrA",
    "outputId": "1051b5b1-dc14-4beb-96ae-8a9e7fa58c12"
   },
   "outputs": [
    {
     "data": {
      "text/html": [
       "\n",
       "            <style>\n",
       "                .geemap-dark {\n",
       "                    --jp-widgets-color: white;\n",
       "                    --jp-widgets-label-color: white;\n",
       "                    --jp-ui-font-color1: white;\n",
       "                    --jp-layout-color2: #454545;\n",
       "                    background-color: #383838;\n",
       "                }\n",
       "\n",
       "                .geemap-dark .jupyter-button {\n",
       "                    --jp-layout-color3: #383838;\n",
       "                }\n",
       "\n",
       "                .geemap-colab {\n",
       "                    background-color: var(--colab-primary-surface-color, white);\n",
       "                }\n",
       "\n",
       "                .geemap-colab .jupyter-button {\n",
       "                    --jp-layout-color3: var(--colab-primary-surface-color, white);\n",
       "                }\n",
       "            </style>\n",
       "            "
      ],
      "text/plain": [
       "<IPython.core.display.HTML object>"
      ]
     },
     "metadata": {},
     "output_type": "display_data"
    }
   ],
   "source": [
    "# Define columns to drop before encoding and training\n",
    "to_drop = [\n",
    "    'geometry', 'tif_path',  # Spatial and file path information\n",
    "    'dataset', 'FarmID',     # Columns that are not needed for modeling\n",
    "]\n",
    "\n",
    "# Drop the specified columns from train and test sets\n",
    "train.drop(columns=to_drop, inplace=True)\n",
    "test.drop(columns=to_drop, inplace=True)\n"
   ]
  },
  {
   "cell_type": "code",
   "execution_count": null,
   "metadata": {
    "colab": {
     "base_uri": "https://localhost:8080/",
     "height": 17
    },
    "id": "On7vWlemlxoU",
    "outputId": "dba62327-c125-47ef-a892-491e286646ff"
   },
   "outputs": [
    {
     "data": {
      "text/html": [
       "\n",
       "            <style>\n",
       "                .geemap-dark {\n",
       "                    --jp-widgets-color: white;\n",
       "                    --jp-widgets-label-color: white;\n",
       "                    --jp-ui-font-color1: white;\n",
       "                    --jp-layout-color2: #454545;\n",
       "                    background-color: #383838;\n",
       "                }\n",
       "\n",
       "                .geemap-dark .jupyter-button {\n",
       "                    --jp-layout-color3: #383838;\n",
       "                }\n",
       "\n",
       "                .geemap-colab {\n",
       "                    background-color: var(--colab-primary-surface-color, white);\n",
       "                }\n",
       "\n",
       "                .geemap-colab .jupyter-button {\n",
       "                    --jp-layout-color3: var(--colab-primary-surface-color, white);\n",
       "                }\n",
       "            </style>\n",
       "            "
      ],
      "text/plain": [
       "<IPython.core.display.HTML object>"
      ]
     },
     "metadata": {},
     "output_type": "display_data"
    }
   ],
   "source": [
    "# Concatenate train and test datasets for uniform encoding of categorical columns\n",
    "data_combined = pd.concat([train, test], ignore_index=True)"
   ]
  },
  {
   "cell_type": "code",
   "execution_count": null,
   "metadata": {
    "colab": {
     "base_uri": "https://localhost:8080/",
     "height": 17
    },
    "id": "r7i-Tz-ulxmI",
    "outputId": "fef3a41a-8ccd-4ec6-c33f-20489eacdfc4"
   },
   "outputs": [
    {
     "data": {
      "text/html": [
       "\n",
       "            <style>\n",
       "                .geemap-dark {\n",
       "                    --jp-widgets-color: white;\n",
       "                    --jp-widgets-label-color: white;\n",
       "                    --jp-ui-font-color1: white;\n",
       "                    --jp-layout-color2: #454545;\n",
       "                    background-color: #383838;\n",
       "                }\n",
       "\n",
       "                .geemap-dark .jupyter-button {\n",
       "                    --jp-layout-color3: #383838;\n",
       "                }\n",
       "\n",
       "                .geemap-colab {\n",
       "                    background-color: var(--colab-primary-surface-color, white);\n",
       "                }\n",
       "\n",
       "                .geemap-colab .jupyter-button {\n",
       "                    --jp-layout-color3: var(--colab-primary-surface-color, white);\n",
       "                }\n",
       "            </style>\n",
       "            "
      ],
      "text/plain": [
       "<IPython.core.display.HTML object>"
      ]
     },
     "metadata": {},
     "output_type": "display_data"
    }
   ],
   "source": [
    "# Create a mapping for the target variable 'category' to numeric labels, excluding NaN values\n",
    "category_mapper = {label: idx for idx, label in enumerate(data_combined['category'].unique()) if pd.notna(label)}\n",
    "idx_to_category_mapper = {idx: label for idx, label in enumerate(data_combined['category'].unique()) if pd.notna(label)}\n",
    "\n",
    "# Map the 'category' column to the new 'target' column using the mapping, handling NaN values as needed\n",
    "data_combined['target'] = data_combined['category'].map(category_mapper)\n",
    "\n",
    "# Drop the original 'category' column now that we have the 'target' column\n",
    "data_combined.drop(columns=['category'], inplace=True)"
   ]
  },
  {
   "cell_type": "code",
   "execution_count": null,
   "metadata": {
    "colab": {
     "base_uri": "https://localhost:8080/",
     "height": 17
    },
    "id": "W_Te72bxlbyB",
    "outputId": "967045ad-e615-49b0-d2c8-1c85a3b891e9"
   },
   "outputs": [
    {
     "data": {
      "text/html": [
       "\n",
       "            <style>\n",
       "                .geemap-dark {\n",
       "                    --jp-widgets-color: white;\n",
       "                    --jp-widgets-label-color: white;\n",
       "                    --jp-ui-font-color1: white;\n",
       "                    --jp-layout-color2: #454545;\n",
       "                    background-color: #383838;\n",
       "                }\n",
       "\n",
       "                .geemap-dark .jupyter-button {\n",
       "                    --jp-layout-color3: #383838;\n",
       "                }\n",
       "\n",
       "                .geemap-colab {\n",
       "                    background-color: var(--colab-primary-surface-color, white);\n",
       "                }\n",
       "\n",
       "                .geemap-colab .jupyter-button {\n",
       "                    --jp-layout-color3: var(--colab-primary-surface-color, white);\n",
       "                }\n",
       "            </style>\n",
       "            "
      ],
      "text/plain": [
       "<IPython.core.display.HTML object>"
      ]
     },
     "metadata": {},
     "output_type": "display_data"
    }
   ],
   "source": [
    "# Identify categorical columns to encode\n",
    "categorical_cols = data_combined.select_dtypes(include=['object']).columns\n",
    "\n",
    "# Apply Label Encoding for all categorical columns\n",
    "for col in categorical_cols:\n",
    "    encoder = LabelEncoder()\n",
    "    data_combined[col] = encoder.fit_transform(data_combined[col])"
   ]
  },
  {
   "cell_type": "code",
   "execution_count": null,
   "metadata": {
    "colab": {
     "base_uri": "https://localhost:8080/",
     "height": 17
    },
    "id": "BivNfRRKmSQP",
    "outputId": "4bb56c88-ccca-4e41-81b4-ed0f8f061306"
   },
   "outputs": [
    {
     "data": {
      "text/html": [
       "\n",
       "            <style>\n",
       "                .geemap-dark {\n",
       "                    --jp-widgets-color: white;\n",
       "                    --jp-widgets-label-color: white;\n",
       "                    --jp-ui-font-color1: white;\n",
       "                    --jp-layout-color2: #454545;\n",
       "                    background-color: #383838;\n",
       "                }\n",
       "\n",
       "                .geemap-dark .jupyter-button {\n",
       "                    --jp-layout-color3: #383838;\n",
       "                }\n",
       "\n",
       "                .geemap-colab {\n",
       "                    background-color: var(--colab-primary-surface-color, white);\n",
       "                }\n",
       "\n",
       "                .geemap-colab .jupyter-button {\n",
       "                    --jp-layout-color3: var(--colab-primary-surface-color, white);\n",
       "                }\n",
       "            </style>\n",
       "            "
      ],
      "text/plain": [
       "<IPython.core.display.HTML object>"
      ]
     },
     "metadata": {},
     "output_type": "display_data"
    }
   ],
   "source": [
    "# Split the combined encoded data back into train and test\n",
    "train_encoded = data_combined[data_combined.index < len(train)].reset_index(drop=True)\n",
    "test_encoded = data_combined[data_combined.index >= len(train)].reset_index(drop=True)"
   ]
  },
  {
   "cell_type": "markdown",
   "metadata": {
    "id": "T1EjPJNWlp-R"
   },
   "source": [
    "# Model Training"
   ]
  },
  {
   "cell_type": "code",
   "execution_count": null,
   "metadata": {
    "colab": {
     "base_uri": "https://localhost:8080/",
     "height": 17
    },
    "id": "tCP5_9HqmIEL",
    "outputId": "0180530a-1f1e-43a4-8d25-63f415e95265"
   },
   "outputs": [
    {
     "data": {
      "text/html": [
       "\n",
       "            <style>\n",
       "                .geemap-dark {\n",
       "                    --jp-widgets-color: white;\n",
       "                    --jp-widgets-label-color: white;\n",
       "                    --jp-ui-font-color1: white;\n",
       "                    --jp-layout-color2: #454545;\n",
       "                    background-color: #383838;\n",
       "                }\n",
       "\n",
       "                .geemap-dark .jupyter-button {\n",
       "                    --jp-layout-color3: #383838;\n",
       "                }\n",
       "\n",
       "                .geemap-colab {\n",
       "                    background-color: var(--colab-primary-surface-color, white);\n",
       "                }\n",
       "\n",
       "                .geemap-colab .jupyter-button {\n",
       "                    --jp-layout-color3: var(--colab-primary-surface-color, white);\n",
       "                }\n",
       "            </style>\n",
       "            "
      ],
      "text/plain": [
       "<IPython.core.display.HTML object>"
      ]
     },
     "metadata": {},
     "output_type": "display_data"
    }
   ],
   "source": [
    "# Separate features and target variable in the train set\n",
    "X = train_encoded.drop(columns=['target'])\n",
    "y = train_encoded['target'].astype(int)"
   ]
  },
  {
   "cell_type": "code",
   "execution_count": null,
   "metadata": {
    "colab": {
     "base_uri": "https://localhost:8080/",
     "height": 17
    },
    "id": "qSqjFoyCnkB9",
    "outputId": "4c773f46-571d-4fe9-86cf-df03041794b4"
   },
   "outputs": [
    {
     "data": {
      "text/html": [
       "\n",
       "            <style>\n",
       "                .geemap-dark {\n",
       "                    --jp-widgets-color: white;\n",
       "                    --jp-widgets-label-color: white;\n",
       "                    --jp-ui-font-color1: white;\n",
       "                    --jp-layout-color2: #454545;\n",
       "                    background-color: #383838;\n",
       "                }\n",
       "\n",
       "                .geemap-dark .jupyter-button {\n",
       "                    --jp-layout-color3: #383838;\n",
       "                }\n",
       "\n",
       "                .geemap-colab {\n",
       "                    background-color: var(--colab-primary-surface-color, white);\n",
       "                }\n",
       "\n",
       "                .geemap-colab .jupyter-button {\n",
       "                    --jp-layout-color3: var(--colab-primary-surface-color, white);\n",
       "                }\n",
       "            </style>\n",
       "            "
      ],
      "text/plain": [
       "<IPython.core.display.HTML object>"
      ]
     },
     "metadata": {},
     "output_type": "display_data"
    }
   ],
   "source": [
    "# Stratified split based on 'target' for training and validation\n",
    "X_train, X_valid, y_train, y_valid = train_test_split(X, y, test_size=0.2, stratify=y, random_state=42)"
   ]
  },
  {
   "cell_type": "code",
   "execution_count": null,
   "metadata": {
    "colab": {
     "base_uri": "https://localhost:8080/",
     "height": 219
    },
    "id": "i9gQWi-tmqdM",
    "outputId": "60110491-c81a-4527-e3ee-a651fe9e9c9e"
   },
   "outputs": [
    {
     "data": {
      "text/html": [
       "\n",
       "            <style>\n",
       "                .geemap-dark {\n",
       "                    --jp-widgets-color: white;\n",
       "                    --jp-widgets-label-color: white;\n",
       "                    --jp-ui-font-color1: white;\n",
       "                    --jp-layout-color2: #454545;\n",
       "                    background-color: #383838;\n",
       "                }\n",
       "\n",
       "                .geemap-dark .jupyter-button {\n",
       "                    --jp-layout-color3: #383838;\n",
       "                }\n",
       "\n",
       "                .geemap-colab {\n",
       "                    background-color: var(--colab-primary-surface-color, white);\n",
       "                }\n",
       "\n",
       "                .geemap-colab .jupyter-button {\n",
       "                    --jp-layout-color3: var(--colab-primary-surface-color, white);\n",
       "                }\n",
       "            </style>\n",
       "            "
      ],
      "text/plain": [
       "<IPython.core.display.HTML object>"
      ]
     },
     "metadata": {},
     "output_type": "display_data"
    },
    {
     "name": "stdout",
     "output_type": "stream",
     "text": [
      "[LightGBM] [Info] Total Bins 1032\n",
      "[LightGBM] [Info] Number of data points in the train set: 7020, number of used features: 16\n",
      "[LightGBM] [Info] Start training from score -0.195918\n",
      "[LightGBM] [Info] Start training from score -2.792733\n",
      "[LightGBM] [Info] Start training from score -2.795062\n",
      "[LightGBM] [Info] Start training from score -2.890372\n"
     ]
    },
    {
     "data": {
      "text/html": [
       "<style>#sk-container-id-1 {\n",
       "  /* Definition of color scheme common for light and dark mode */\n",
       "  --sklearn-color-text: #000;\n",
       "  --sklearn-color-text-muted: #666;\n",
       "  --sklearn-color-line: gray;\n",
       "  /* Definition of color scheme for unfitted estimators */\n",
       "  --sklearn-color-unfitted-level-0: #fff5e6;\n",
       "  --sklearn-color-unfitted-level-1: #f6e4d2;\n",
       "  --sklearn-color-unfitted-level-2: #ffe0b3;\n",
       "  --sklearn-color-unfitted-level-3: chocolate;\n",
       "  /* Definition of color scheme for fitted estimators */\n",
       "  --sklearn-color-fitted-level-0: #f0f8ff;\n",
       "  --sklearn-color-fitted-level-1: #d4ebff;\n",
       "  --sklearn-color-fitted-level-2: #b3dbfd;\n",
       "  --sklearn-color-fitted-level-3: cornflowerblue;\n",
       "\n",
       "  /* Specific color for light theme */\n",
       "  --sklearn-color-text-on-default-background: var(--sg-text-color, var(--theme-code-foreground, var(--jp-content-font-color1, black)));\n",
       "  --sklearn-color-background: var(--sg-background-color, var(--theme-background, var(--jp-layout-color0, white)));\n",
       "  --sklearn-color-border-box: var(--sg-text-color, var(--theme-code-foreground, var(--jp-content-font-color1, black)));\n",
       "  --sklearn-color-icon: #696969;\n",
       "\n",
       "  @media (prefers-color-scheme: dark) {\n",
       "    /* Redefinition of color scheme for dark theme */\n",
       "    --sklearn-color-text-on-default-background: var(--sg-text-color, var(--theme-code-foreground, var(--jp-content-font-color1, white)));\n",
       "    --sklearn-color-background: var(--sg-background-color, var(--theme-background, var(--jp-layout-color0, #111)));\n",
       "    --sklearn-color-border-box: var(--sg-text-color, var(--theme-code-foreground, var(--jp-content-font-color1, white)));\n",
       "    --sklearn-color-icon: #878787;\n",
       "  }\n",
       "}\n",
       "\n",
       "#sk-container-id-1 {\n",
       "  color: var(--sklearn-color-text);\n",
       "}\n",
       "\n",
       "#sk-container-id-1 pre {\n",
       "  padding: 0;\n",
       "}\n",
       "\n",
       "#sk-container-id-1 input.sk-hidden--visually {\n",
       "  border: 0;\n",
       "  clip: rect(1px 1px 1px 1px);\n",
       "  clip: rect(1px, 1px, 1px, 1px);\n",
       "  height: 1px;\n",
       "  margin: -1px;\n",
       "  overflow: hidden;\n",
       "  padding: 0;\n",
       "  position: absolute;\n",
       "  width: 1px;\n",
       "}\n",
       "\n",
       "#sk-container-id-1 div.sk-dashed-wrapped {\n",
       "  border: 1px dashed var(--sklearn-color-line);\n",
       "  margin: 0 0.4em 0.5em 0.4em;\n",
       "  box-sizing: border-box;\n",
       "  padding-bottom: 0.4em;\n",
       "  background-color: var(--sklearn-color-background);\n",
       "}\n",
       "\n",
       "#sk-container-id-1 div.sk-container {\n",
       "  /* jupyter's `normalize.less` sets `[hidden] { display: none; }`\n",
       "     but bootstrap.min.css set `[hidden] { display: none !important; }`\n",
       "     so we also need the `!important` here to be able to override the\n",
       "     default hidden behavior on the sphinx rendered scikit-learn.org.\n",
       "     See: https://github.com/scikit-learn/scikit-learn/issues/21755 */\n",
       "  display: inline-block !important;\n",
       "  position: relative;\n",
       "}\n",
       "\n",
       "#sk-container-id-1 div.sk-text-repr-fallback {\n",
       "  display: none;\n",
       "}\n",
       "\n",
       "div.sk-parallel-item,\n",
       "div.sk-serial,\n",
       "div.sk-item {\n",
       "  /* draw centered vertical line to link estimators */\n",
       "  background-image: linear-gradient(var(--sklearn-color-text-on-default-background), var(--sklearn-color-text-on-default-background));\n",
       "  background-size: 2px 100%;\n",
       "  background-repeat: no-repeat;\n",
       "  background-position: center center;\n",
       "}\n",
       "\n",
       "/* Parallel-specific style estimator block */\n",
       "\n",
       "#sk-container-id-1 div.sk-parallel-item::after {\n",
       "  content: \"\";\n",
       "  width: 100%;\n",
       "  border-bottom: 2px solid var(--sklearn-color-text-on-default-background);\n",
       "  flex-grow: 1;\n",
       "}\n",
       "\n",
       "#sk-container-id-1 div.sk-parallel {\n",
       "  display: flex;\n",
       "  align-items: stretch;\n",
       "  justify-content: center;\n",
       "  background-color: var(--sklearn-color-background);\n",
       "  position: relative;\n",
       "}\n",
       "\n",
       "#sk-container-id-1 div.sk-parallel-item {\n",
       "  display: flex;\n",
       "  flex-direction: column;\n",
       "}\n",
       "\n",
       "#sk-container-id-1 div.sk-parallel-item:first-child::after {\n",
       "  align-self: flex-end;\n",
       "  width: 50%;\n",
       "}\n",
       "\n",
       "#sk-container-id-1 div.sk-parallel-item:last-child::after {\n",
       "  align-self: flex-start;\n",
       "  width: 50%;\n",
       "}\n",
       "\n",
       "#sk-container-id-1 div.sk-parallel-item:only-child::after {\n",
       "  width: 0;\n",
       "}\n",
       "\n",
       "/* Serial-specific style estimator block */\n",
       "\n",
       "#sk-container-id-1 div.sk-serial {\n",
       "  display: flex;\n",
       "  flex-direction: column;\n",
       "  align-items: center;\n",
       "  background-color: var(--sklearn-color-background);\n",
       "  padding-right: 1em;\n",
       "  padding-left: 1em;\n",
       "}\n",
       "\n",
       "\n",
       "/* Toggleable style: style used for estimator/Pipeline/ColumnTransformer box that is\n",
       "clickable and can be expanded/collapsed.\n",
       "- Pipeline and ColumnTransformer use this feature and define the default style\n",
       "- Estimators will overwrite some part of the style using the `sk-estimator` class\n",
       "*/\n",
       "\n",
       "/* Pipeline and ColumnTransformer style (default) */\n",
       "\n",
       "#sk-container-id-1 div.sk-toggleable {\n",
       "  /* Default theme specific background. It is overwritten whether we have a\n",
       "  specific estimator or a Pipeline/ColumnTransformer */\n",
       "  background-color: var(--sklearn-color-background);\n",
       "}\n",
       "\n",
       "/* Toggleable label */\n",
       "#sk-container-id-1 label.sk-toggleable__label {\n",
       "  cursor: pointer;\n",
       "  display: flex;\n",
       "  width: 100%;\n",
       "  margin-bottom: 0;\n",
       "  padding: 0.5em;\n",
       "  box-sizing: border-box;\n",
       "  text-align: center;\n",
       "  align-items: start;\n",
       "  justify-content: space-between;\n",
       "  gap: 0.5em;\n",
       "}\n",
       "\n",
       "#sk-container-id-1 label.sk-toggleable__label .caption {\n",
       "  font-size: 0.6rem;\n",
       "  font-weight: lighter;\n",
       "  color: var(--sklearn-color-text-muted);\n",
       "}\n",
       "\n",
       "#sk-container-id-1 label.sk-toggleable__label-arrow:before {\n",
       "  /* Arrow on the left of the label */\n",
       "  content: \"▸\";\n",
       "  float: left;\n",
       "  margin-right: 0.25em;\n",
       "  color: var(--sklearn-color-icon);\n",
       "}\n",
       "\n",
       "#sk-container-id-1 label.sk-toggleable__label-arrow:hover:before {\n",
       "  color: var(--sklearn-color-text);\n",
       "}\n",
       "\n",
       "/* Toggleable content - dropdown */\n",
       "\n",
       "#sk-container-id-1 div.sk-toggleable__content {\n",
       "  max-height: 0;\n",
       "  max-width: 0;\n",
       "  overflow: hidden;\n",
       "  text-align: left;\n",
       "  /* unfitted */\n",
       "  background-color: var(--sklearn-color-unfitted-level-0);\n",
       "}\n",
       "\n",
       "#sk-container-id-1 div.sk-toggleable__content.fitted {\n",
       "  /* fitted */\n",
       "  background-color: var(--sklearn-color-fitted-level-0);\n",
       "}\n",
       "\n",
       "#sk-container-id-1 div.sk-toggleable__content pre {\n",
       "  margin: 0.2em;\n",
       "  border-radius: 0.25em;\n",
       "  color: var(--sklearn-color-text);\n",
       "  /* unfitted */\n",
       "  background-color: var(--sklearn-color-unfitted-level-0);\n",
       "}\n",
       "\n",
       "#sk-container-id-1 div.sk-toggleable__content.fitted pre {\n",
       "  /* unfitted */\n",
       "  background-color: var(--sklearn-color-fitted-level-0);\n",
       "}\n",
       "\n",
       "#sk-container-id-1 input.sk-toggleable__control:checked~div.sk-toggleable__content {\n",
       "  /* Expand drop-down */\n",
       "  max-height: 200px;\n",
       "  max-width: 100%;\n",
       "  overflow: auto;\n",
       "}\n",
       "\n",
       "#sk-container-id-1 input.sk-toggleable__control:checked~label.sk-toggleable__label-arrow:before {\n",
       "  content: \"▾\";\n",
       "}\n",
       "\n",
       "/* Pipeline/ColumnTransformer-specific style */\n",
       "\n",
       "#sk-container-id-1 div.sk-label input.sk-toggleable__control:checked~label.sk-toggleable__label {\n",
       "  color: var(--sklearn-color-text);\n",
       "  background-color: var(--sklearn-color-unfitted-level-2);\n",
       "}\n",
       "\n",
       "#sk-container-id-1 div.sk-label.fitted input.sk-toggleable__control:checked~label.sk-toggleable__label {\n",
       "  background-color: var(--sklearn-color-fitted-level-2);\n",
       "}\n",
       "\n",
       "/* Estimator-specific style */\n",
       "\n",
       "/* Colorize estimator box */\n",
       "#sk-container-id-1 div.sk-estimator input.sk-toggleable__control:checked~label.sk-toggleable__label {\n",
       "  /* unfitted */\n",
       "  background-color: var(--sklearn-color-unfitted-level-2);\n",
       "}\n",
       "\n",
       "#sk-container-id-1 div.sk-estimator.fitted input.sk-toggleable__control:checked~label.sk-toggleable__label {\n",
       "  /* fitted */\n",
       "  background-color: var(--sklearn-color-fitted-level-2);\n",
       "}\n",
       "\n",
       "#sk-container-id-1 div.sk-label label.sk-toggleable__label,\n",
       "#sk-container-id-1 div.sk-label label {\n",
       "  /* The background is the default theme color */\n",
       "  color: var(--sklearn-color-text-on-default-background);\n",
       "}\n",
       "\n",
       "/* On hover, darken the color of the background */\n",
       "#sk-container-id-1 div.sk-label:hover label.sk-toggleable__label {\n",
       "  color: var(--sklearn-color-text);\n",
       "  background-color: var(--sklearn-color-unfitted-level-2);\n",
       "}\n",
       "\n",
       "/* Label box, darken color on hover, fitted */\n",
       "#sk-container-id-1 div.sk-label.fitted:hover label.sk-toggleable__label.fitted {\n",
       "  color: var(--sklearn-color-text);\n",
       "  background-color: var(--sklearn-color-fitted-level-2);\n",
       "}\n",
       "\n",
       "/* Estimator label */\n",
       "\n",
       "#sk-container-id-1 div.sk-label label {\n",
       "  font-family: monospace;\n",
       "  font-weight: bold;\n",
       "  display: inline-block;\n",
       "  line-height: 1.2em;\n",
       "}\n",
       "\n",
       "#sk-container-id-1 div.sk-label-container {\n",
       "  text-align: center;\n",
       "}\n",
       "\n",
       "/* Estimator-specific */\n",
       "#sk-container-id-1 div.sk-estimator {\n",
       "  font-family: monospace;\n",
       "  border: 1px dotted var(--sklearn-color-border-box);\n",
       "  border-radius: 0.25em;\n",
       "  box-sizing: border-box;\n",
       "  margin-bottom: 0.5em;\n",
       "  /* unfitted */\n",
       "  background-color: var(--sklearn-color-unfitted-level-0);\n",
       "}\n",
       "\n",
       "#sk-container-id-1 div.sk-estimator.fitted {\n",
       "  /* fitted */\n",
       "  background-color: var(--sklearn-color-fitted-level-0);\n",
       "}\n",
       "\n",
       "/* on hover */\n",
       "#sk-container-id-1 div.sk-estimator:hover {\n",
       "  /* unfitted */\n",
       "  background-color: var(--sklearn-color-unfitted-level-2);\n",
       "}\n",
       "\n",
       "#sk-container-id-1 div.sk-estimator.fitted:hover {\n",
       "  /* fitted */\n",
       "  background-color: var(--sklearn-color-fitted-level-2);\n",
       "}\n",
       "\n",
       "/* Specification for estimator info (e.g. \"i\" and \"?\") */\n",
       "\n",
       "/* Common style for \"i\" and \"?\" */\n",
       "\n",
       ".sk-estimator-doc-link,\n",
       "a:link.sk-estimator-doc-link,\n",
       "a:visited.sk-estimator-doc-link {\n",
       "  float: right;\n",
       "  font-size: smaller;\n",
       "  line-height: 1em;\n",
       "  font-family: monospace;\n",
       "  background-color: var(--sklearn-color-background);\n",
       "  border-radius: 1em;\n",
       "  height: 1em;\n",
       "  width: 1em;\n",
       "  text-decoration: none !important;\n",
       "  margin-left: 0.5em;\n",
       "  text-align: center;\n",
       "  /* unfitted */\n",
       "  border: var(--sklearn-color-unfitted-level-1) 1pt solid;\n",
       "  color: var(--sklearn-color-unfitted-level-1);\n",
       "}\n",
       "\n",
       ".sk-estimator-doc-link.fitted,\n",
       "a:link.sk-estimator-doc-link.fitted,\n",
       "a:visited.sk-estimator-doc-link.fitted {\n",
       "  /* fitted */\n",
       "  border: var(--sklearn-color-fitted-level-1) 1pt solid;\n",
       "  color: var(--sklearn-color-fitted-level-1);\n",
       "}\n",
       "\n",
       "/* On hover */\n",
       "div.sk-estimator:hover .sk-estimator-doc-link:hover,\n",
       ".sk-estimator-doc-link:hover,\n",
       "div.sk-label-container:hover .sk-estimator-doc-link:hover,\n",
       ".sk-estimator-doc-link:hover {\n",
       "  /* unfitted */\n",
       "  background-color: var(--sklearn-color-unfitted-level-3);\n",
       "  color: var(--sklearn-color-background);\n",
       "  text-decoration: none;\n",
       "}\n",
       "\n",
       "div.sk-estimator.fitted:hover .sk-estimator-doc-link.fitted:hover,\n",
       ".sk-estimator-doc-link.fitted:hover,\n",
       "div.sk-label-container:hover .sk-estimator-doc-link.fitted:hover,\n",
       ".sk-estimator-doc-link.fitted:hover {\n",
       "  /* fitted */\n",
       "  background-color: var(--sklearn-color-fitted-level-3);\n",
       "  color: var(--sklearn-color-background);\n",
       "  text-decoration: none;\n",
       "}\n",
       "\n",
       "/* Span, style for the box shown on hovering the info icon */\n",
       ".sk-estimator-doc-link span {\n",
       "  display: none;\n",
       "  z-index: 9999;\n",
       "  position: relative;\n",
       "  font-weight: normal;\n",
       "  right: .2ex;\n",
       "  padding: .5ex;\n",
       "  margin: .5ex;\n",
       "  width: min-content;\n",
       "  min-width: 20ex;\n",
       "  max-width: 50ex;\n",
       "  color: var(--sklearn-color-text);\n",
       "  box-shadow: 2pt 2pt 4pt #999;\n",
       "  /* unfitted */\n",
       "  background: var(--sklearn-color-unfitted-level-0);\n",
       "  border: .5pt solid var(--sklearn-color-unfitted-level-3);\n",
       "}\n",
       "\n",
       ".sk-estimator-doc-link.fitted span {\n",
       "  /* fitted */\n",
       "  background: var(--sklearn-color-fitted-level-0);\n",
       "  border: var(--sklearn-color-fitted-level-3);\n",
       "}\n",
       "\n",
       ".sk-estimator-doc-link:hover span {\n",
       "  display: block;\n",
       "}\n",
       "\n",
       "/* \"?\"-specific style due to the `<a>` HTML tag */\n",
       "\n",
       "#sk-container-id-1 a.estimator_doc_link {\n",
       "  float: right;\n",
       "  font-size: 1rem;\n",
       "  line-height: 1em;\n",
       "  font-family: monospace;\n",
       "  background-color: var(--sklearn-color-background);\n",
       "  border-radius: 1rem;\n",
       "  height: 1rem;\n",
       "  width: 1rem;\n",
       "  text-decoration: none;\n",
       "  /* unfitted */\n",
       "  color: var(--sklearn-color-unfitted-level-1);\n",
       "  border: var(--sklearn-color-unfitted-level-1) 1pt solid;\n",
       "}\n",
       "\n",
       "#sk-container-id-1 a.estimator_doc_link.fitted {\n",
       "  /* fitted */\n",
       "  border: var(--sklearn-color-fitted-level-1) 1pt solid;\n",
       "  color: var(--sklearn-color-fitted-level-1);\n",
       "}\n",
       "\n",
       "/* On hover */\n",
       "#sk-container-id-1 a.estimator_doc_link:hover {\n",
       "  /* unfitted */\n",
       "  background-color: var(--sklearn-color-unfitted-level-3);\n",
       "  color: var(--sklearn-color-background);\n",
       "  text-decoration: none;\n",
       "}\n",
       "\n",
       "#sk-container-id-1 a.estimator_doc_link.fitted:hover {\n",
       "  /* fitted */\n",
       "  background-color: var(--sklearn-color-fitted-level-3);\n",
       "}\n",
       "</style><div id=\"sk-container-id-1\" class=\"sk-top-container\"><div class=\"sk-text-repr-fallback\"><pre>LGBMClassifier(force_row_wise=&#x27;true&#x27;, learning_rate=0.01,\n",
       "               metric=&#x27;multi_logloss&#x27;, n_estimators=500, num_class=4,\n",
       "               num_leaves=81, objective=&#x27;multiclass&#x27;, random_state=42)</pre><b>In a Jupyter environment, please rerun this cell to show the HTML representation or trust the notebook. <br />On GitHub, the HTML representation is unable to render, please try loading this page with nbviewer.org.</b></div><div class=\"sk-container\" hidden><div class=\"sk-item\"><div class=\"sk-estimator fitted sk-toggleable\"><input class=\"sk-toggleable__control sk-hidden--visually\" id=\"sk-estimator-id-1\" type=\"checkbox\" checked><label for=\"sk-estimator-id-1\" class=\"sk-toggleable__label fitted sk-toggleable__label-arrow\"><div><div>LGBMClassifier</div></div><div><span class=\"sk-estimator-doc-link fitted\">i<span>Fitted</span></span></div></label><div class=\"sk-toggleable__content fitted\"><pre>LGBMClassifier(force_row_wise=&#x27;true&#x27;, learning_rate=0.01,\n",
       "               metric=&#x27;multi_logloss&#x27;, n_estimators=500, num_class=4,\n",
       "               num_leaves=81, objective=&#x27;multiclass&#x27;, random_state=42)</pre></div> </div></div></div></div>"
      ],
      "text/plain": [
       "LGBMClassifier(force_row_wise='true', learning_rate=0.01,\n",
       "               metric='multi_logloss', n_estimators=500, num_class=4,\n",
       "               num_leaves=81, objective='multiclass', random_state=42)"
      ]
     },
     "execution_count": 44,
     "metadata": {},
     "output_type": "execute_result"
    }
   ],
   "source": [
    "# Configuration dictionary for LightGBM parameters\n",
    "config_dict = {\n",
    "    'boosting_type': 'gbdt',\n",
    "    'objective': 'multiclass',\n",
    "    'metric': 'multi_logloss',\n",
    "    'num_class': len(category_mapper),  # Number of classes in the target\n",
    "    'num_leaves': 81,\n",
    "    'learning_rate': 0.01,\n",
    "    'n_estimators': 500,\n",
    "    'random_state': 42,\n",
    "    'force_row_wise': 'true'\n",
    "}\n",
    "\n",
    "# Initialize LightGBM classifier with config_dict parameters\n",
    "model = LGBMClassifier(**config_dict)\n",
    "\n",
    "# Fit the model with an evaluation set for early stopping and progress tracking\n",
    "model.fit(\n",
    "    X_train, y_train,\n",
    "    eval_set=[(X_train, y_train), (X_valid, y_valid)],\n",
    ")"
   ]
  },
  {
   "cell_type": "code",
   "execution_count": null,
   "metadata": {
    "colab": {
     "base_uri": "https://localhost:8080/",
     "height": 260
    },
    "id": "FHBx31JfmeGc",
    "outputId": "4f831400-90a0-40f5-bb4d-507005c65e43"
   },
   "outputs": [
    {
     "data": {
      "text/html": [
       "\n",
       "            <style>\n",
       "                .geemap-dark {\n",
       "                    --jp-widgets-color: white;\n",
       "                    --jp-widgets-label-color: white;\n",
       "                    --jp-ui-font-color1: white;\n",
       "                    --jp-layout-color2: #454545;\n",
       "                    background-color: #383838;\n",
       "                }\n",
       "\n",
       "                .geemap-dark .jupyter-button {\n",
       "                    --jp-layout-color3: #383838;\n",
       "                }\n",
       "\n",
       "                .geemap-colab {\n",
       "                    background-color: var(--colab-primary-surface-color, white);\n",
       "                }\n",
       "\n",
       "                .geemap-colab .jupyter-button {\n",
       "                    --jp-layout-color3: var(--colab-primary-surface-color, white);\n",
       "                }\n",
       "            </style>\n",
       "            "
      ],
      "text/plain": [
       "<IPython.core.display.HTML object>"
      ]
     },
     "metadata": {},
     "output_type": "display_data"
    },
    {
     "name": "stdout",
     "output_type": "stream",
     "text": [
      "Classification Report:\n",
      "               precision    recall  f1-score   support\n",
      "\n",
      "     Healthy       0.82      1.00      0.90      1443\n",
      "    Diseased       0.50      0.01      0.02       107\n",
      "       Pests       0.00      0.00      0.00       107\n",
      "    Stressed       0.00      0.00      0.00        98\n",
      "\n",
      "    accuracy                           0.82      1755\n",
      "   macro avg       0.33      0.25      0.23      1755\n",
      "weighted avg       0.71      0.82      0.74      1755\n",
      "\n",
      "\n",
      "Weighted F1 Score: 0.7430236517171309\n"
     ]
    }
   ],
   "source": [
    "# Predict on the validation set\n",
    "y_pred = model.predict(X_valid)\n",
    "\n",
    "# Generate classification report and weighted F1 score\n",
    "classification_rep = classification_report(y_valid, y_pred, target_names=list(category_mapper.keys()))\n",
    "f1 = f1_score(y_valid, y_pred, average='weighted')\n",
    "\n",
    "# Print model evaluation metrics\n",
    "print(\"Classification Report:\\n\", classification_rep)\n",
    "print(\"\\nWeighted F1 Score:\", f1)"
   ]
  },
  {
   "cell_type": "markdown",
   "metadata": {
    "id": "0YZwddCUm42T"
   },
   "source": [
    " # Submit"
   ]
  },
  {
   "cell_type": "code",
   "execution_count": null,
   "metadata": {
    "colab": {
     "base_uri": "https://localhost:8080/",
     "height": 17
    },
    "id": "uz-a90EvqbcR",
    "outputId": "1df03297-2b70-424c-8396-9639700b0af6"
   },
   "outputs": [
    {
     "data": {
      "text/html": [
       "\n",
       "            <style>\n",
       "                .geemap-dark {\n",
       "                    --jp-widgets-color: white;\n",
       "                    --jp-widgets-label-color: white;\n",
       "                    --jp-ui-font-color1: white;\n",
       "                    --jp-layout-color2: #454545;\n",
       "                    background-color: #383838;\n",
       "                }\n",
       "\n",
       "                .geemap-dark .jupyter-button {\n",
       "                    --jp-layout-color3: #383838;\n",
       "                }\n",
       "\n",
       "                .geemap-colab {\n",
       "                    background-color: var(--colab-primary-surface-color, white);\n",
       "                }\n",
       "\n",
       "                .geemap-colab .jupyter-button {\n",
       "                    --jp-layout-color3: var(--colab-primary-surface-color, white);\n",
       "                }\n",
       "            </style>\n",
       "            "
      ],
      "text/plain": [
       "<IPython.core.display.HTML object>"
      ]
     },
     "metadata": {},
     "output_type": "display_data"
    }
   ],
   "source": [
    "# Load submission file\n",
    "sample_submission = pd.read_csv(root_path / \"SampleSubmission.csv\")\n",
    "\n",
    "# Predict on the test set\n",
    "test_predictions = model.predict(test_encoded.drop(columns=['target']))  # Drop 'FarmID' if it exists in test_encoded\n",
    "\n",
    "# Fill sample_submission.csv & Save\n",
    "sample_submission['Target'] = test_predictions\n",
    "sample_submission['Target'] = sample_submission['Target'].astype(int).map(idx_to_category_mapper)\n",
    "sample_submission.to_csv('submission.csv', index=False)"
   ]
  },
  {
   "cell_type": "code",
   "execution_count": null,
   "metadata": {
    "colab": {
     "base_uri": "https://localhost:8080/",
     "height": 206
    },
    "id": "zO5nbTFeK1dk",
    "outputId": "c744b19e-a439-4285-c20f-f734a2903c92"
   },
   "outputs": [
    {
     "data": {
      "text/html": [
       "\n",
       "            <style>\n",
       "                .geemap-dark {\n",
       "                    --jp-widgets-color: white;\n",
       "                    --jp-widgets-label-color: white;\n",
       "                    --jp-ui-font-color1: white;\n",
       "                    --jp-layout-color2: #454545;\n",
       "                    background-color: #383838;\n",
       "                }\n",
       "\n",
       "                .geemap-dark .jupyter-button {\n",
       "                    --jp-layout-color3: #383838;\n",
       "                }\n",
       "\n",
       "                .geemap-colab {\n",
       "                    background-color: var(--colab-primary-surface-color, white);\n",
       "                }\n",
       "\n",
       "                .geemap-colab .jupyter-button {\n",
       "                    --jp-layout-color3: var(--colab-primary-surface-color, white);\n",
       "                }\n",
       "            </style>\n",
       "            "
      ],
      "text/plain": [
       "<IPython.core.display.HTML object>"
      ]
     },
     "metadata": {},
     "output_type": "display_data"
    },
    {
     "data": {
      "application/vnd.google.colaboratory.intrinsic+json": {
       "summary": "{\n  \"name\": \"sample_submission\",\n  \"rows\": 3016,\n  \"fields\": [\n    {\n      \"column\": \"ID\",\n      \"properties\": {\n        \"dtype\": \"number\",\n        \"std\": 227013,\n        \"min\": 16314,\n        \"max\": 1332142,\n        \"num_unique_values\": 3016,\n        \"samples\": [\n          1326789,\n          1324573,\n          1326890\n        ],\n        \"semantic_type\": \"\",\n        \"description\": \"\"\n      }\n    },\n    {\n      \"column\": \"Target\",\n      \"properties\": {\n        \"dtype\": \"category\",\n        \"num_unique_values\": 2,\n        \"samples\": [\n          \"Diseased\",\n          \"Healthy\"\n        ],\n        \"semantic_type\": \"\",\n        \"description\": \"\"\n      }\n    }\n  ]\n}",
       "type": "dataframe",
       "variable_name": "sample_submission"
      },
      "text/html": [
       "\n",
       "  <div id=\"df-e564b233-ad29-4732-b872-b4b7fd160bb0\" class=\"colab-df-container\">\n",
       "    <div>\n",
       "<style scoped>\n",
       "    .dataframe tbody tr th:only-of-type {\n",
       "        vertical-align: middle;\n",
       "    }\n",
       "\n",
       "    .dataframe tbody tr th {\n",
       "        vertical-align: top;\n",
       "    }\n",
       "\n",
       "    .dataframe thead th {\n",
       "        text-align: right;\n",
       "    }\n",
       "</style>\n",
       "<table border=\"1\" class=\"dataframe\">\n",
       "  <thead>\n",
       "    <tr style=\"text-align: right;\">\n",
       "      <th></th>\n",
       "      <th>ID</th>\n",
       "      <th>Target</th>\n",
       "    </tr>\n",
       "  </thead>\n",
       "  <tbody>\n",
       "    <tr>\n",
       "      <th>0</th>\n",
       "      <td>85197</td>\n",
       "      <td>Healthy</td>\n",
       "    </tr>\n",
       "    <tr>\n",
       "      <th>1</th>\n",
       "      <td>779677</td>\n",
       "      <td>Healthy</td>\n",
       "    </tr>\n",
       "    <tr>\n",
       "      <th>2</th>\n",
       "      <td>1331840</td>\n",
       "      <td>Healthy</td>\n",
       "    </tr>\n",
       "    <tr>\n",
       "      <th>3</th>\n",
       "      <td>483053</td>\n",
       "      <td>Healthy</td>\n",
       "    </tr>\n",
       "    <tr>\n",
       "      <th>4</th>\n",
       "      <td>542945</td>\n",
       "      <td>Healthy</td>\n",
       "    </tr>\n",
       "  </tbody>\n",
       "</table>\n",
       "</div>\n",
       "    <div class=\"colab-df-buttons\">\n",
       "\n",
       "  <div class=\"colab-df-container\">\n",
       "    <button class=\"colab-df-convert\" onclick=\"convertToInteractive('df-e564b233-ad29-4732-b872-b4b7fd160bb0')\"\n",
       "            title=\"Convert this dataframe to an interactive table.\"\n",
       "            style=\"display:none;\">\n",
       "\n",
       "  <svg xmlns=\"http://www.w3.org/2000/svg\" height=\"24px\" viewBox=\"0 -960 960 960\">\n",
       "    <path d=\"M120-120v-720h720v720H120Zm60-500h600v-160H180v160Zm220 220h160v-160H400v160Zm0 220h160v-160H400v160ZM180-400h160v-160H180v160Zm440 0h160v-160H620v160ZM180-180h160v-160H180v160Zm440 0h160v-160H620v160Z\"/>\n",
       "  </svg>\n",
       "    </button>\n",
       "\n",
       "  <style>\n",
       "    .colab-df-container {\n",
       "      display:flex;\n",
       "      gap: 12px;\n",
       "    }\n",
       "\n",
       "    .colab-df-convert {\n",
       "      background-color: #E8F0FE;\n",
       "      border: none;\n",
       "      border-radius: 50%;\n",
       "      cursor: pointer;\n",
       "      display: none;\n",
       "      fill: #1967D2;\n",
       "      height: 32px;\n",
       "      padding: 0 0 0 0;\n",
       "      width: 32px;\n",
       "    }\n",
       "\n",
       "    .colab-df-convert:hover {\n",
       "      background-color: #E2EBFA;\n",
       "      box-shadow: 0px 1px 2px rgba(60, 64, 67, 0.3), 0px 1px 3px 1px rgba(60, 64, 67, 0.15);\n",
       "      fill: #174EA6;\n",
       "    }\n",
       "\n",
       "    .colab-df-buttons div {\n",
       "      margin-bottom: 4px;\n",
       "    }\n",
       "\n",
       "    [theme=dark] .colab-df-convert {\n",
       "      background-color: #3B4455;\n",
       "      fill: #D2E3FC;\n",
       "    }\n",
       "\n",
       "    [theme=dark] .colab-df-convert:hover {\n",
       "      background-color: #434B5C;\n",
       "      box-shadow: 0px 1px 3px 1px rgba(0, 0, 0, 0.15);\n",
       "      filter: drop-shadow(0px 1px 2px rgba(0, 0, 0, 0.3));\n",
       "      fill: #FFFFFF;\n",
       "    }\n",
       "  </style>\n",
       "\n",
       "    <script>\n",
       "      const buttonEl =\n",
       "        document.querySelector('#df-e564b233-ad29-4732-b872-b4b7fd160bb0 button.colab-df-convert');\n",
       "      buttonEl.style.display =\n",
       "        google.colab.kernel.accessAllowed ? 'block' : 'none';\n",
       "\n",
       "      async function convertToInteractive(key) {\n",
       "        const element = document.querySelector('#df-e564b233-ad29-4732-b872-b4b7fd160bb0');\n",
       "        const dataTable =\n",
       "          await google.colab.kernel.invokeFunction('convertToInteractive',\n",
       "                                                    [key], {});\n",
       "        if (!dataTable) return;\n",
       "\n",
       "        const docLinkHtml = 'Like what you see? Visit the ' +\n",
       "          '<a target=\"_blank\" href=https://colab.research.google.com/notebooks/data_table.ipynb>data table notebook</a>'\n",
       "          + ' to learn more about interactive tables.';\n",
       "        element.innerHTML = '';\n",
       "        dataTable['output_type'] = 'display_data';\n",
       "        await google.colab.output.renderOutput(dataTable, element);\n",
       "        const docLink = document.createElement('div');\n",
       "        docLink.innerHTML = docLinkHtml;\n",
       "        element.appendChild(docLink);\n",
       "      }\n",
       "    </script>\n",
       "  </div>\n",
       "\n",
       "\n",
       "<div id=\"df-c8d5e1c8-18b0-46be-a46b-997efb4de0bc\">\n",
       "  <button class=\"colab-df-quickchart\" onclick=\"quickchart('df-c8d5e1c8-18b0-46be-a46b-997efb4de0bc')\"\n",
       "            title=\"Suggest charts\"\n",
       "            style=\"display:none;\">\n",
       "\n",
       "<svg xmlns=\"http://www.w3.org/2000/svg\" height=\"24px\"viewBox=\"0 0 24 24\"\n",
       "     width=\"24px\">\n",
       "    <g>\n",
       "        <path d=\"M19 3H5c-1.1 0-2 .9-2 2v14c0 1.1.9 2 2 2h14c1.1 0 2-.9 2-2V5c0-1.1-.9-2-2-2zM9 17H7v-7h2v7zm4 0h-2V7h2v10zm4 0h-2v-4h2v4z\"/>\n",
       "    </g>\n",
       "</svg>\n",
       "  </button>\n",
       "\n",
       "<style>\n",
       "  .colab-df-quickchart {\n",
       "      --bg-color: #E8F0FE;\n",
       "      --fill-color: #1967D2;\n",
       "      --hover-bg-color: #E2EBFA;\n",
       "      --hover-fill-color: #174EA6;\n",
       "      --disabled-fill-color: #AAA;\n",
       "      --disabled-bg-color: #DDD;\n",
       "  }\n",
       "\n",
       "  [theme=dark] .colab-df-quickchart {\n",
       "      --bg-color: #3B4455;\n",
       "      --fill-color: #D2E3FC;\n",
       "      --hover-bg-color: #434B5C;\n",
       "      --hover-fill-color: #FFFFFF;\n",
       "      --disabled-bg-color: #3B4455;\n",
       "      --disabled-fill-color: #666;\n",
       "  }\n",
       "\n",
       "  .colab-df-quickchart {\n",
       "    background-color: var(--bg-color);\n",
       "    border: none;\n",
       "    border-radius: 50%;\n",
       "    cursor: pointer;\n",
       "    display: none;\n",
       "    fill: var(--fill-color);\n",
       "    height: 32px;\n",
       "    padding: 0;\n",
       "    width: 32px;\n",
       "  }\n",
       "\n",
       "  .colab-df-quickchart:hover {\n",
       "    background-color: var(--hover-bg-color);\n",
       "    box-shadow: 0 1px 2px rgba(60, 64, 67, 0.3), 0 1px 3px 1px rgba(60, 64, 67, 0.15);\n",
       "    fill: var(--button-hover-fill-color);\n",
       "  }\n",
       "\n",
       "  .colab-df-quickchart-complete:disabled,\n",
       "  .colab-df-quickchart-complete:disabled:hover {\n",
       "    background-color: var(--disabled-bg-color);\n",
       "    fill: var(--disabled-fill-color);\n",
       "    box-shadow: none;\n",
       "  }\n",
       "\n",
       "  .colab-df-spinner {\n",
       "    border: 2px solid var(--fill-color);\n",
       "    border-color: transparent;\n",
       "    border-bottom-color: var(--fill-color);\n",
       "    animation:\n",
       "      spin 1s steps(1) infinite;\n",
       "  }\n",
       "\n",
       "  @keyframes spin {\n",
       "    0% {\n",
       "      border-color: transparent;\n",
       "      border-bottom-color: var(--fill-color);\n",
       "      border-left-color: var(--fill-color);\n",
       "    }\n",
       "    20% {\n",
       "      border-color: transparent;\n",
       "      border-left-color: var(--fill-color);\n",
       "      border-top-color: var(--fill-color);\n",
       "    }\n",
       "    30% {\n",
       "      border-color: transparent;\n",
       "      border-left-color: var(--fill-color);\n",
       "      border-top-color: var(--fill-color);\n",
       "      border-right-color: var(--fill-color);\n",
       "    }\n",
       "    40% {\n",
       "      border-color: transparent;\n",
       "      border-right-color: var(--fill-color);\n",
       "      border-top-color: var(--fill-color);\n",
       "    }\n",
       "    60% {\n",
       "      border-color: transparent;\n",
       "      border-right-color: var(--fill-color);\n",
       "    }\n",
       "    80% {\n",
       "      border-color: transparent;\n",
       "      border-right-color: var(--fill-color);\n",
       "      border-bottom-color: var(--fill-color);\n",
       "    }\n",
       "    90% {\n",
       "      border-color: transparent;\n",
       "      border-bottom-color: var(--fill-color);\n",
       "    }\n",
       "  }\n",
       "</style>\n",
       "\n",
       "  <script>\n",
       "    async function quickchart(key) {\n",
       "      const quickchartButtonEl =\n",
       "        document.querySelector('#' + key + ' button');\n",
       "      quickchartButtonEl.disabled = true;  // To prevent multiple clicks.\n",
       "      quickchartButtonEl.classList.add('colab-df-spinner');\n",
       "      try {\n",
       "        const charts = await google.colab.kernel.invokeFunction(\n",
       "            'suggestCharts', [key], {});\n",
       "      } catch (error) {\n",
       "        console.error('Error during call to suggestCharts:', error);\n",
       "      }\n",
       "      quickchartButtonEl.classList.remove('colab-df-spinner');\n",
       "      quickchartButtonEl.classList.add('colab-df-quickchart-complete');\n",
       "    }\n",
       "    (() => {\n",
       "      let quickchartButtonEl =\n",
       "        document.querySelector('#df-c8d5e1c8-18b0-46be-a46b-997efb4de0bc button');\n",
       "      quickchartButtonEl.style.display =\n",
       "        google.colab.kernel.accessAllowed ? 'block' : 'none';\n",
       "    })();\n",
       "  </script>\n",
       "</div>\n",
       "\n",
       "    </div>\n",
       "  </div>\n"
      ],
      "text/plain": [
       "        ID   Target\n",
       "0    85197  Healthy\n",
       "1   779677  Healthy\n",
       "2  1331840  Healthy\n",
       "3   483053  Healthy\n",
       "4   542945  Healthy"
      ]
     },
     "execution_count": 40,
     "metadata": {},
     "output_type": "execute_result"
    }
   ],
   "source": [
    "sample_submission.head()"
   ]
  }
 ],
 "metadata": {
  "colab": {
   "provenance": []
  },
  "kernelspec": {
   "display_name": "Python (venv)",
   "language": "python",
   "name": "venv"
  },
  "language_info": {
   "codemirror_mode": {
    "name": "ipython",
    "version": 3
   },
   "file_extension": ".py",
   "mimetype": "text/x-python",
   "name": "python",
   "nbconvert_exporter": "python",
   "pygments_lexer": "ipython3",
   "version": "3.10.5"
  }
 },
 "nbformat": 4,
 "nbformat_minor": 1
}
